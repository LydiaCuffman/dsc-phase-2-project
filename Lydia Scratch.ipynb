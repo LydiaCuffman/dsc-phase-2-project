{
 "cells": [
  {
   "cell_type": "markdown",
   "metadata": {},
   "source": [
    "## Final Project Submission\n",
    "\n",
    "Please fill out:\n",
    "* Student name: \n",
    "* Student pace: self paced / part time / full time\n",
    "* Scheduled project review date/time: \n",
    "* Instructor name: \n",
    "* Blog post URL:\n"
   ]
  },
  {
   "cell_type": "code",
   "execution_count": 1,
   "metadata": {},
   "outputs": [],
   "source": [
    "# Your code here - remember to use markdown cells for comments as well!\n",
    "import pandas as pd\n",
    "tmdb=pd.read_csv('zippedData/tmdb.movies.csv')"
   ]
  },
  {
   "cell_type": "code",
   "execution_count": 2,
   "metadata": {},
   "outputs": [
    {
     "data": {
      "text/html": [
       "<div>\n",
       "<style scoped>\n",
       "    .dataframe tbody tr th:only-of-type {\n",
       "        vertical-align: middle;\n",
       "    }\n",
       "\n",
       "    .dataframe tbody tr th {\n",
       "        vertical-align: top;\n",
       "    }\n",
       "\n",
       "    .dataframe thead th {\n",
       "        text-align: right;\n",
       "    }\n",
       "</style>\n",
       "<table border=\"1\" class=\"dataframe\">\n",
       "  <thead>\n",
       "    <tr style=\"text-align: right;\">\n",
       "      <th></th>\n",
       "      <th>Unnamed: 0</th>\n",
       "      <th>genre_ids</th>\n",
       "      <th>id</th>\n",
       "      <th>original_language</th>\n",
       "      <th>original_title</th>\n",
       "      <th>popularity</th>\n",
       "      <th>release_date</th>\n",
       "      <th>title</th>\n",
       "      <th>vote_average</th>\n",
       "      <th>vote_count</th>\n",
       "    </tr>\n",
       "  </thead>\n",
       "  <tbody>\n",
       "    <tr>\n",
       "      <th>0</th>\n",
       "      <td>0</td>\n",
       "      <td>[12, 14, 10751]</td>\n",
       "      <td>12444</td>\n",
       "      <td>en</td>\n",
       "      <td>Harry Potter and the Deathly Hallows: Part 1</td>\n",
       "      <td>33.533</td>\n",
       "      <td>2010-11-19</td>\n",
       "      <td>Harry Potter and the Deathly Hallows: Part 1</td>\n",
       "      <td>7.7</td>\n",
       "      <td>10788</td>\n",
       "    </tr>\n",
       "    <tr>\n",
       "      <th>1</th>\n",
       "      <td>1</td>\n",
       "      <td>[14, 12, 16, 10751]</td>\n",
       "      <td>10191</td>\n",
       "      <td>en</td>\n",
       "      <td>How to Train Your Dragon</td>\n",
       "      <td>28.734</td>\n",
       "      <td>2010-03-26</td>\n",
       "      <td>How to Train Your Dragon</td>\n",
       "      <td>7.7</td>\n",
       "      <td>7610</td>\n",
       "    </tr>\n",
       "    <tr>\n",
       "      <th>2</th>\n",
       "      <td>2</td>\n",
       "      <td>[12, 28, 878]</td>\n",
       "      <td>10138</td>\n",
       "      <td>en</td>\n",
       "      <td>Iron Man 2</td>\n",
       "      <td>28.515</td>\n",
       "      <td>2010-05-07</td>\n",
       "      <td>Iron Man 2</td>\n",
       "      <td>6.8</td>\n",
       "      <td>12368</td>\n",
       "    </tr>\n",
       "    <tr>\n",
       "      <th>3</th>\n",
       "      <td>3</td>\n",
       "      <td>[16, 35, 10751]</td>\n",
       "      <td>862</td>\n",
       "      <td>en</td>\n",
       "      <td>Toy Story</td>\n",
       "      <td>28.005</td>\n",
       "      <td>1995-11-22</td>\n",
       "      <td>Toy Story</td>\n",
       "      <td>7.9</td>\n",
       "      <td>10174</td>\n",
       "    </tr>\n",
       "    <tr>\n",
       "      <th>4</th>\n",
       "      <td>4</td>\n",
       "      <td>[28, 878, 12]</td>\n",
       "      <td>27205</td>\n",
       "      <td>en</td>\n",
       "      <td>Inception</td>\n",
       "      <td>27.920</td>\n",
       "      <td>2010-07-16</td>\n",
       "      <td>Inception</td>\n",
       "      <td>8.3</td>\n",
       "      <td>22186</td>\n",
       "    </tr>\n",
       "  </tbody>\n",
       "</table>\n",
       "</div>"
      ],
      "text/plain": [
       "   Unnamed: 0            genre_ids     id original_language  \\\n",
       "0           0      [12, 14, 10751]  12444                en   \n",
       "1           1  [14, 12, 16, 10751]  10191                en   \n",
       "2           2        [12, 28, 878]  10138                en   \n",
       "3           3      [16, 35, 10751]    862                en   \n",
       "4           4        [28, 878, 12]  27205                en   \n",
       "\n",
       "                                 original_title  popularity release_date  \\\n",
       "0  Harry Potter and the Deathly Hallows: Part 1      33.533   2010-11-19   \n",
       "1                      How to Train Your Dragon      28.734   2010-03-26   \n",
       "2                                    Iron Man 2      28.515   2010-05-07   \n",
       "3                                     Toy Story      28.005   1995-11-22   \n",
       "4                                     Inception      27.920   2010-07-16   \n",
       "\n",
       "                                          title  vote_average  vote_count  \n",
       "0  Harry Potter and the Deathly Hallows: Part 1           7.7       10788  \n",
       "1                      How to Train Your Dragon           7.7        7610  \n",
       "2                                    Iron Man 2           6.8       12368  \n",
       "3                                     Toy Story           7.9       10174  \n",
       "4                                     Inception           8.3       22186  "
      ]
     },
     "execution_count": 2,
     "metadata": {},
     "output_type": "execute_result"
    }
   ],
   "source": [
    "tmdb.head()"
   ]
  },
  {
   "cell_type": "code",
   "execution_count": 3,
   "metadata": {},
   "outputs": [],
   "source": [
    "budget=pd.read_csv('zippedData/tn.movie_budgets.csv')"
   ]
  },
  {
   "cell_type": "code",
   "execution_count": 4,
   "metadata": {},
   "outputs": [
    {
     "name": "stdout",
     "output_type": "stream",
     "text": [
      "<class 'pandas.core.frame.DataFrame'>\n",
      "RangeIndex: 5782 entries, 0 to 5781\n",
      "Data columns (total 6 columns):\n",
      " #   Column             Non-Null Count  Dtype \n",
      "---  ------             --------------  ----- \n",
      " 0   id                 5782 non-null   int64 \n",
      " 1   release_date       5782 non-null   object\n",
      " 2   movie              5782 non-null   object\n",
      " 3   production_budget  5782 non-null   object\n",
      " 4   domestic_gross     5782 non-null   object\n",
      " 5   worldwide_gross    5782 non-null   object\n",
      "dtypes: int64(1), object(5)\n",
      "memory usage: 271.2+ KB\n"
     ]
    }
   ],
   "source": [
    "budget.info()"
   ]
  },
  {
   "cell_type": "code",
   "execution_count": 5,
   "metadata": {},
   "outputs": [],
   "source": [
    "rtm=pd.read_csv('zippedData/rt.movie_info.tsv', sep=\"\\t\" )"
   ]
  },
  {
   "cell_type": "code",
   "execution_count": 6,
   "metadata": {},
   "outputs": [
    {
     "data": {
      "text/html": [
       "<div>\n",
       "<style scoped>\n",
       "    .dataframe tbody tr th:only-of-type {\n",
       "        vertical-align: middle;\n",
       "    }\n",
       "\n",
       "    .dataframe tbody tr th {\n",
       "        vertical-align: top;\n",
       "    }\n",
       "\n",
       "    .dataframe thead th {\n",
       "        text-align: right;\n",
       "    }\n",
       "</style>\n",
       "<table border=\"1\" class=\"dataframe\">\n",
       "  <thead>\n",
       "    <tr style=\"text-align: right;\">\n",
       "      <th></th>\n",
       "      <th>id</th>\n",
       "      <th>synopsis</th>\n",
       "      <th>rating</th>\n",
       "      <th>genre</th>\n",
       "      <th>director</th>\n",
       "      <th>writer</th>\n",
       "      <th>theater_date</th>\n",
       "      <th>dvd_date</th>\n",
       "      <th>currency</th>\n",
       "      <th>box_office</th>\n",
       "      <th>runtime</th>\n",
       "      <th>studio</th>\n",
       "    </tr>\n",
       "  </thead>\n",
       "  <tbody>\n",
       "    <tr>\n",
       "      <th>0</th>\n",
       "      <td>1</td>\n",
       "      <td>This gritty, fast-paced, and innovative police...</td>\n",
       "      <td>R</td>\n",
       "      <td>Action and Adventure|Classics|Drama</td>\n",
       "      <td>William Friedkin</td>\n",
       "      <td>Ernest Tidyman</td>\n",
       "      <td>Oct 9, 1971</td>\n",
       "      <td>Sep 25, 2001</td>\n",
       "      <td>NaN</td>\n",
       "      <td>NaN</td>\n",
       "      <td>104 minutes</td>\n",
       "      <td>NaN</td>\n",
       "    </tr>\n",
       "    <tr>\n",
       "      <th>1</th>\n",
       "      <td>3</td>\n",
       "      <td>New York City, not-too-distant-future: Eric Pa...</td>\n",
       "      <td>R</td>\n",
       "      <td>Drama|Science Fiction and Fantasy</td>\n",
       "      <td>David Cronenberg</td>\n",
       "      <td>David Cronenberg|Don DeLillo</td>\n",
       "      <td>Aug 17, 2012</td>\n",
       "      <td>Jan 1, 2013</td>\n",
       "      <td>$</td>\n",
       "      <td>600,000</td>\n",
       "      <td>108 minutes</td>\n",
       "      <td>Entertainment One</td>\n",
       "    </tr>\n",
       "    <tr>\n",
       "      <th>2</th>\n",
       "      <td>5</td>\n",
       "      <td>Illeana Douglas delivers a superb performance ...</td>\n",
       "      <td>R</td>\n",
       "      <td>Drama|Musical and Performing Arts</td>\n",
       "      <td>Allison Anders</td>\n",
       "      <td>Allison Anders</td>\n",
       "      <td>Sep 13, 1996</td>\n",
       "      <td>Apr 18, 2000</td>\n",
       "      <td>NaN</td>\n",
       "      <td>NaN</td>\n",
       "      <td>116 minutes</td>\n",
       "      <td>NaN</td>\n",
       "    </tr>\n",
       "    <tr>\n",
       "      <th>3</th>\n",
       "      <td>6</td>\n",
       "      <td>Michael Douglas runs afoul of a treacherous su...</td>\n",
       "      <td>R</td>\n",
       "      <td>Drama|Mystery and Suspense</td>\n",
       "      <td>Barry Levinson</td>\n",
       "      <td>Paul Attanasio|Michael Crichton</td>\n",
       "      <td>Dec 9, 1994</td>\n",
       "      <td>Aug 27, 1997</td>\n",
       "      <td>NaN</td>\n",
       "      <td>NaN</td>\n",
       "      <td>128 minutes</td>\n",
       "      <td>NaN</td>\n",
       "    </tr>\n",
       "    <tr>\n",
       "      <th>4</th>\n",
       "      <td>7</td>\n",
       "      <td>NaN</td>\n",
       "      <td>NR</td>\n",
       "      <td>Drama|Romance</td>\n",
       "      <td>Rodney Bennett</td>\n",
       "      <td>Giles Cooper</td>\n",
       "      <td>NaN</td>\n",
       "      <td>NaN</td>\n",
       "      <td>NaN</td>\n",
       "      <td>NaN</td>\n",
       "      <td>200 minutes</td>\n",
       "      <td>NaN</td>\n",
       "    </tr>\n",
       "  </tbody>\n",
       "</table>\n",
       "</div>"
      ],
      "text/plain": [
       "   id                                           synopsis rating  \\\n",
       "0   1  This gritty, fast-paced, and innovative police...      R   \n",
       "1   3  New York City, not-too-distant-future: Eric Pa...      R   \n",
       "2   5  Illeana Douglas delivers a superb performance ...      R   \n",
       "3   6  Michael Douglas runs afoul of a treacherous su...      R   \n",
       "4   7                                                NaN     NR   \n",
       "\n",
       "                                 genre          director  \\\n",
       "0  Action and Adventure|Classics|Drama  William Friedkin   \n",
       "1    Drama|Science Fiction and Fantasy  David Cronenberg   \n",
       "2    Drama|Musical and Performing Arts    Allison Anders   \n",
       "3           Drama|Mystery and Suspense    Barry Levinson   \n",
       "4                        Drama|Romance    Rodney Bennett   \n",
       "\n",
       "                            writer  theater_date      dvd_date currency  \\\n",
       "0                   Ernest Tidyman   Oct 9, 1971  Sep 25, 2001      NaN   \n",
       "1     David Cronenberg|Don DeLillo  Aug 17, 2012   Jan 1, 2013        $   \n",
       "2                   Allison Anders  Sep 13, 1996  Apr 18, 2000      NaN   \n",
       "3  Paul Attanasio|Michael Crichton   Dec 9, 1994  Aug 27, 1997      NaN   \n",
       "4                     Giles Cooper           NaN           NaN      NaN   \n",
       "\n",
       "  box_office      runtime             studio  \n",
       "0        NaN  104 minutes                NaN  \n",
       "1    600,000  108 minutes  Entertainment One  \n",
       "2        NaN  116 minutes                NaN  \n",
       "3        NaN  128 minutes                NaN  \n",
       "4        NaN  200 minutes                NaN  "
      ]
     },
     "execution_count": 6,
     "metadata": {},
     "output_type": "execute_result"
    }
   ],
   "source": [
    "rtm.head()"
   ]
  },
  {
   "cell_type": "code",
   "execution_count": 7,
   "metadata": {},
   "outputs": [],
   "source": [
    "rtr=pd.read_csv('zippedData/rt.reviews.tsv', sep= '\\t', encoding='latin1')"
   ]
  },
  {
   "cell_type": "code",
   "execution_count": 8,
   "metadata": {},
   "outputs": [
    {
     "data": {
      "text/html": [
       "<div>\n",
       "<style scoped>\n",
       "    .dataframe tbody tr th:only-of-type {\n",
       "        vertical-align: middle;\n",
       "    }\n",
       "\n",
       "    .dataframe tbody tr th {\n",
       "        vertical-align: top;\n",
       "    }\n",
       "\n",
       "    .dataframe thead th {\n",
       "        text-align: right;\n",
       "    }\n",
       "</style>\n",
       "<table border=\"1\" class=\"dataframe\">\n",
       "  <thead>\n",
       "    <tr style=\"text-align: right;\">\n",
       "      <th></th>\n",
       "      <th>id</th>\n",
       "      <th>review</th>\n",
       "      <th>rating</th>\n",
       "      <th>fresh</th>\n",
       "      <th>critic</th>\n",
       "      <th>top_critic</th>\n",
       "      <th>publisher</th>\n",
       "      <th>date</th>\n",
       "    </tr>\n",
       "  </thead>\n",
       "  <tbody>\n",
       "    <tr>\n",
       "      <th>0</th>\n",
       "      <td>3</td>\n",
       "      <td>A distinctly gallows take on contemporary fina...</td>\n",
       "      <td>3/5</td>\n",
       "      <td>fresh</td>\n",
       "      <td>PJ Nabarro</td>\n",
       "      <td>0</td>\n",
       "      <td>Patrick Nabarro</td>\n",
       "      <td>November 10, 2018</td>\n",
       "    </tr>\n",
       "    <tr>\n",
       "      <th>1</th>\n",
       "      <td>3</td>\n",
       "      <td>It's an allegory in search of a meaning that n...</td>\n",
       "      <td>NaN</td>\n",
       "      <td>rotten</td>\n",
       "      <td>Annalee Newitz</td>\n",
       "      <td>0</td>\n",
       "      <td>io9.com</td>\n",
       "      <td>May 23, 2018</td>\n",
       "    </tr>\n",
       "    <tr>\n",
       "      <th>2</th>\n",
       "      <td>3</td>\n",
       "      <td>... life lived in a bubble in financial dealin...</td>\n",
       "      <td>NaN</td>\n",
       "      <td>fresh</td>\n",
       "      <td>Sean Axmaker</td>\n",
       "      <td>0</td>\n",
       "      <td>Stream on Demand</td>\n",
       "      <td>January 4, 2018</td>\n",
       "    </tr>\n",
       "    <tr>\n",
       "      <th>3</th>\n",
       "      <td>3</td>\n",
       "      <td>Continuing along a line introduced in last yea...</td>\n",
       "      <td>NaN</td>\n",
       "      <td>fresh</td>\n",
       "      <td>Daniel Kasman</td>\n",
       "      <td>0</td>\n",
       "      <td>MUBI</td>\n",
       "      <td>November 16, 2017</td>\n",
       "    </tr>\n",
       "    <tr>\n",
       "      <th>4</th>\n",
       "      <td>3</td>\n",
       "      <td>... a perverse twist on neorealism...</td>\n",
       "      <td>NaN</td>\n",
       "      <td>fresh</td>\n",
       "      <td>NaN</td>\n",
       "      <td>0</td>\n",
       "      <td>Cinema Scope</td>\n",
       "      <td>October 12, 2017</td>\n",
       "    </tr>\n",
       "  </tbody>\n",
       "</table>\n",
       "</div>"
      ],
      "text/plain": [
       "   id                                             review rating   fresh  \\\n",
       "0   3  A distinctly gallows take on contemporary fina...    3/5   fresh   \n",
       "1   3  It's an allegory in search of a meaning that n...    NaN  rotten   \n",
       "2   3  ... life lived in a bubble in financial dealin...    NaN   fresh   \n",
       "3   3  Continuing along a line introduced in last yea...    NaN   fresh   \n",
       "4   3             ... a perverse twist on neorealism...     NaN   fresh   \n",
       "\n",
       "           critic  top_critic         publisher               date  \n",
       "0      PJ Nabarro           0   Patrick Nabarro  November 10, 2018  \n",
       "1  Annalee Newitz           0           io9.com       May 23, 2018  \n",
       "2    Sean Axmaker           0  Stream on Demand    January 4, 2018  \n",
       "3   Daniel Kasman           0              MUBI  November 16, 2017  \n",
       "4             NaN           0      Cinema Scope   October 12, 2017  "
      ]
     },
     "execution_count": 8,
     "metadata": {},
     "output_type": "execute_result"
    }
   ],
   "source": [
    "rtr.head()"
   ]
  },
  {
   "cell_type": "code",
   "execution_count": 9,
   "metadata": {},
   "outputs": [
    {
     "data": {
      "text/html": [
       "<div>\n",
       "<style scoped>\n",
       "    .dataframe tbody tr th:only-of-type {\n",
       "        vertical-align: middle;\n",
       "    }\n",
       "\n",
       "    .dataframe tbody tr th {\n",
       "        vertical-align: top;\n",
       "    }\n",
       "\n",
       "    .dataframe thead th {\n",
       "        text-align: right;\n",
       "    }\n",
       "</style>\n",
       "<table border=\"1\" class=\"dataframe\">\n",
       "  <thead>\n",
       "    <tr style=\"text-align: right;\">\n",
       "      <th></th>\n",
       "      <th>id</th>\n",
       "      <th>release_date</th>\n",
       "      <th>movie</th>\n",
       "      <th>production_budget</th>\n",
       "      <th>domestic_gross</th>\n",
       "      <th>worldwide_gross</th>\n",
       "    </tr>\n",
       "  </thead>\n",
       "  <tbody>\n",
       "    <tr>\n",
       "      <th>0</th>\n",
       "      <td>1</td>\n",
       "      <td>Dec 18, 2009</td>\n",
       "      <td>Avatar</td>\n",
       "      <td>$425,000,000</td>\n",
       "      <td>$760,507,625</td>\n",
       "      <td>$2,776,345,279</td>\n",
       "    </tr>\n",
       "    <tr>\n",
       "      <th>1</th>\n",
       "      <td>2</td>\n",
       "      <td>May 20, 2011</td>\n",
       "      <td>Pirates of the Caribbean: On Stranger Tides</td>\n",
       "      <td>$410,600,000</td>\n",
       "      <td>$241,063,875</td>\n",
       "      <td>$1,045,663,875</td>\n",
       "    </tr>\n",
       "    <tr>\n",
       "      <th>2</th>\n",
       "      <td>3</td>\n",
       "      <td>Jun 7, 2019</td>\n",
       "      <td>Dark Phoenix</td>\n",
       "      <td>$350,000,000</td>\n",
       "      <td>$42,762,350</td>\n",
       "      <td>$149,762,350</td>\n",
       "    </tr>\n",
       "    <tr>\n",
       "      <th>3</th>\n",
       "      <td>4</td>\n",
       "      <td>May 1, 2015</td>\n",
       "      <td>Avengers: Age of Ultron</td>\n",
       "      <td>$330,600,000</td>\n",
       "      <td>$459,005,868</td>\n",
       "      <td>$1,403,013,963</td>\n",
       "    </tr>\n",
       "    <tr>\n",
       "      <th>4</th>\n",
       "      <td>5</td>\n",
       "      <td>Dec 15, 2017</td>\n",
       "      <td>Star Wars Ep. VIII: The Last Jedi</td>\n",
       "      <td>$317,000,000</td>\n",
       "      <td>$620,181,382</td>\n",
       "      <td>$1,316,721,747</td>\n",
       "    </tr>\n",
       "  </tbody>\n",
       "</table>\n",
       "</div>"
      ],
      "text/plain": [
       "   id  release_date                                        movie  \\\n",
       "0   1  Dec 18, 2009                                       Avatar   \n",
       "1   2  May 20, 2011  Pirates of the Caribbean: On Stranger Tides   \n",
       "2   3   Jun 7, 2019                                 Dark Phoenix   \n",
       "3   4   May 1, 2015                      Avengers: Age of Ultron   \n",
       "4   5  Dec 15, 2017            Star Wars Ep. VIII: The Last Jedi   \n",
       "\n",
       "  production_budget domestic_gross worldwide_gross  \n",
       "0      $425,000,000   $760,507,625  $2,776,345,279  \n",
       "1      $410,600,000   $241,063,875  $1,045,663,875  \n",
       "2      $350,000,000    $42,762,350    $149,762,350  \n",
       "3      $330,600,000   $459,005,868  $1,403,013,963  \n",
       "4      $317,000,000   $620,181,382  $1,316,721,747  "
      ]
     },
     "execution_count": 9,
     "metadata": {},
     "output_type": "execute_result"
    }
   ],
   "source": [
    "budget.head()"
   ]
  },
  {
   "cell_type": "code",
   "execution_count": 10,
   "metadata": {},
   "outputs": [],
   "source": [
    "budget = budget['production_budget'].str[1:]"
   ]
  },
  {
   "cell_type": "code",
   "execution_count": 11,
   "metadata": {},
   "outputs": [
    {
     "data": {
      "text/plain": [
       "0    425,000,000\n",
       "1    410,600,000\n",
       "2    350,000,000\n",
       "3    330,600,000\n",
       "4    317,000,000\n",
       "Name: production_budget, dtype: object"
      ]
     },
     "execution_count": 11,
     "metadata": {},
     "output_type": "execute_result"
    }
   ],
   "source": [
    "budget.head()"
   ]
  },
  {
   "cell_type": "code",
   "execution_count": 12,
   "metadata": {},
   "outputs": [],
   "source": [
    "#budget['production_budget]'.replace(',', '')"
   ]
  },
  {
   "cell_type": "code",
   "execution_count": 13,
   "metadata": {},
   "outputs": [],
   "source": [
    "#budget['production_budget'] = budget['production_budget'].astype('int')"
   ]
  },
  {
   "cell_type": "code",
   "execution_count": 14,
   "metadata": {},
   "outputs": [],
   "source": [
    "bom=pd.read_csv('zippedData/bom.movie_gross.csv')"
   ]
  },
  {
   "cell_type": "code",
   "execution_count": 15,
   "metadata": {},
   "outputs": [
    {
     "data": {
      "text/html": [
       "<div>\n",
       "<style scoped>\n",
       "    .dataframe tbody tr th:only-of-type {\n",
       "        vertical-align: middle;\n",
       "    }\n",
       "\n",
       "    .dataframe tbody tr th {\n",
       "        vertical-align: top;\n",
       "    }\n",
       "\n",
       "    .dataframe thead th {\n",
       "        text-align: right;\n",
       "    }\n",
       "</style>\n",
       "<table border=\"1\" class=\"dataframe\">\n",
       "  <thead>\n",
       "    <tr style=\"text-align: right;\">\n",
       "      <th></th>\n",
       "      <th>title</th>\n",
       "      <th>studio</th>\n",
       "      <th>domestic_gross</th>\n",
       "      <th>foreign_gross</th>\n",
       "      <th>year</th>\n",
       "    </tr>\n",
       "  </thead>\n",
       "  <tbody>\n",
       "    <tr>\n",
       "      <th>0</th>\n",
       "      <td>Toy Story 3</td>\n",
       "      <td>BV</td>\n",
       "      <td>415000000.0</td>\n",
       "      <td>652000000</td>\n",
       "      <td>2010</td>\n",
       "    </tr>\n",
       "    <tr>\n",
       "      <th>1</th>\n",
       "      <td>Alice in Wonderland (2010)</td>\n",
       "      <td>BV</td>\n",
       "      <td>334200000.0</td>\n",
       "      <td>691300000</td>\n",
       "      <td>2010</td>\n",
       "    </tr>\n",
       "    <tr>\n",
       "      <th>2</th>\n",
       "      <td>Harry Potter and the Deathly Hallows Part 1</td>\n",
       "      <td>WB</td>\n",
       "      <td>296000000.0</td>\n",
       "      <td>664300000</td>\n",
       "      <td>2010</td>\n",
       "    </tr>\n",
       "    <tr>\n",
       "      <th>3</th>\n",
       "      <td>Inception</td>\n",
       "      <td>WB</td>\n",
       "      <td>292600000.0</td>\n",
       "      <td>535700000</td>\n",
       "      <td>2010</td>\n",
       "    </tr>\n",
       "    <tr>\n",
       "      <th>4</th>\n",
       "      <td>Shrek Forever After</td>\n",
       "      <td>P/DW</td>\n",
       "      <td>238700000.0</td>\n",
       "      <td>513900000</td>\n",
       "      <td>2010</td>\n",
       "    </tr>\n",
       "  </tbody>\n",
       "</table>\n",
       "</div>"
      ],
      "text/plain": [
       "                                         title studio  domestic_gross  \\\n",
       "0                                  Toy Story 3     BV     415000000.0   \n",
       "1                   Alice in Wonderland (2010)     BV     334200000.0   \n",
       "2  Harry Potter and the Deathly Hallows Part 1     WB     296000000.0   \n",
       "3                                    Inception     WB     292600000.0   \n",
       "4                          Shrek Forever After   P/DW     238700000.0   \n",
       "\n",
       "  foreign_gross  year  \n",
       "0     652000000  2010  \n",
       "1     691300000  2010  \n",
       "2     664300000  2010  \n",
       "3     535700000  2010  \n",
       "4     513900000  2010  "
      ]
     },
     "execution_count": 15,
     "metadata": {},
     "output_type": "execute_result"
    }
   ],
   "source": [
    "bom.head()"
   ]
  },
  {
   "cell_type": "code",
   "execution_count": 16,
   "metadata": {},
   "outputs": [
    {
     "name": "stdout",
     "output_type": "stream",
     "text": [
      "<class 'pandas.core.frame.DataFrame'>\n",
      "RangeIndex: 3387 entries, 0 to 3386\n",
      "Data columns (total 5 columns):\n",
      " #   Column          Non-Null Count  Dtype  \n",
      "---  ------          --------------  -----  \n",
      " 0   title           3387 non-null   object \n",
      " 1   studio          3382 non-null   object \n",
      " 2   domestic_gross  3359 non-null   float64\n",
      " 3   foreign_gross   2037 non-null   object \n",
      " 4   year            3387 non-null   int64  \n",
      "dtypes: float64(1), int64(1), object(3)\n",
      "memory usage: 132.4+ KB\n"
     ]
    }
   ],
   "source": [
    "bom.info()"
   ]
  },
  {
   "cell_type": "code",
   "execution_count": 17,
   "metadata": {},
   "outputs": [],
   "source": [
    "success= pd.read_csv('zippedData/success.csv')"
   ]
  },
  {
   "cell_type": "code",
   "execution_count": 18,
   "metadata": {},
   "outputs": [],
   "source": [
    "success = success.sort_values(by= \"return_on_investment\", ascending=False)"
   ]
  },
  {
   "cell_type": "code",
   "execution_count": 19,
   "metadata": {},
   "outputs": [
    {
     "data": {
      "text/plain": [
       "(861, 9)"
      ]
     },
     "execution_count": 19,
     "metadata": {},
     "output_type": "execute_result"
    }
   ],
   "source": [
    "success.shape"
   ]
  },
  {
   "cell_type": "code",
   "execution_count": 20,
   "metadata": {},
   "outputs": [],
   "source": [
    "#imports and connect to SQL\n",
    "import pandas as pd\n",
    "import sqlite3\n",
    "import pandasql\n",
    "import matplotlib.pyplot as plt\n",
    "\n",
    "\n",
    "conn = sqlite3.connect('zippedData/im.db')"
   ]
  },
  {
   "cell_type": "code",
   "execution_count": 21,
   "metadata": {},
   "outputs": [],
   "source": [
    "imdb_ratings = pd.read_sql(\n",
    "    \"\"\"\n",
    "    SELECT basics.movie_id, basics.primary_title, basics.original_title, basics.runtime_minutes, basics.genres, ratings.averagerating, ratings.numvotes\n",
    "    FROM movie_basics as basics\n",
    "        JOIN movie_ratings as ratings\n",
    "            USING(movie_id)\n",
    "    \"\"\", conn\n",
    ")"
   ]
  },
  {
   "cell_type": "code",
   "execution_count": 22,
   "metadata": {},
   "outputs": [],
   "source": [
    "budget_cleaned = pd.read_csv('zippedData/success.csv')"
   ]
  },
  {
   "cell_type": "code",
   "execution_count": 23,
   "metadata": {},
   "outputs": [],
   "source": [
    "imdb_ratings = imdb_ratings.drop_duplicates(subset=['primary_title'])\n",
    "budget_cleaned = budget_cleaned.drop_duplicates(subset=['movie'])"
   ]
  },
  {
   "cell_type": "code",
   "execution_count": 24,
   "metadata": {},
   "outputs": [],
   "source": [
    "all_movie_data = pd.merge(budget_cleaned, imdb_ratings, left_on='movie', right_on='primary_title', how='inner')"
   ]
  },
  {
   "cell_type": "code",
   "execution_count": 25,
   "metadata": {},
   "outputs": [
    {
     "data": {
      "text/html": [
       "<div>\n",
       "<style scoped>\n",
       "    .dataframe tbody tr th:only-of-type {\n",
       "        vertical-align: middle;\n",
       "    }\n",
       "\n",
       "    .dataframe tbody tr th {\n",
       "        vertical-align: top;\n",
       "    }\n",
       "\n",
       "    .dataframe thead th {\n",
       "        text-align: right;\n",
       "    }\n",
       "</style>\n",
       "<table border=\"1\" class=\"dataframe\">\n",
       "  <thead>\n",
       "    <tr style=\"text-align: right;\">\n",
       "      <th></th>\n",
       "      <th>Unnamed: 0</th>\n",
       "      <th>id</th>\n",
       "      <th>release_date</th>\n",
       "      <th>movie</th>\n",
       "      <th>production_budget</th>\n",
       "      <th>domestic_gross</th>\n",
       "      <th>worldwide_gross</th>\n",
       "      <th>return_on_investment</th>\n",
       "      <th>year</th>\n",
       "      <th>movie_id</th>\n",
       "      <th>primary_title</th>\n",
       "      <th>original_title</th>\n",
       "      <th>runtime_minutes</th>\n",
       "      <th>genres</th>\n",
       "      <th>averagerating</th>\n",
       "      <th>numvotes</th>\n",
       "    </tr>\n",
       "  </thead>\n",
       "  <tbody>\n",
       "    <tr>\n",
       "      <th>0</th>\n",
       "      <td>1</td>\n",
       "      <td>2</td>\n",
       "      <td>2011-05-20</td>\n",
       "      <td>Pirates of the Caribbean: On Stranger Tides</td>\n",
       "      <td>410600000</td>\n",
       "      <td>241063875</td>\n",
       "      <td>1045663875</td>\n",
       "      <td>2.546673</td>\n",
       "      <td>2011</td>\n",
       "      <td>tt1298650</td>\n",
       "      <td>Pirates of the Caribbean: On Stranger Tides</td>\n",
       "      <td>Pirates of the Caribbean: On Stranger Tides</td>\n",
       "      <td>136.0</td>\n",
       "      <td>Action,Adventure,Fantasy</td>\n",
       "      <td>6.6</td>\n",
       "      <td>447624</td>\n",
       "    </tr>\n",
       "    <tr>\n",
       "      <th>1</th>\n",
       "      <td>3</td>\n",
       "      <td>4</td>\n",
       "      <td>2015-05-01</td>\n",
       "      <td>Avengers: Age of Ultron</td>\n",
       "      <td>330600000</td>\n",
       "      <td>459005868</td>\n",
       "      <td>1403013963</td>\n",
       "      <td>4.243841</td>\n",
       "      <td>2015</td>\n",
       "      <td>tt2395427</td>\n",
       "      <td>Avengers: Age of Ultron</td>\n",
       "      <td>Avengers: Age of Ultron</td>\n",
       "      <td>141.0</td>\n",
       "      <td>Action,Adventure,Sci-Fi</td>\n",
       "      <td>7.3</td>\n",
       "      <td>665594</td>\n",
       "    </tr>\n",
       "    <tr>\n",
       "      <th>2</th>\n",
       "      <td>6</td>\n",
       "      <td>7</td>\n",
       "      <td>2018-04-27</td>\n",
       "      <td>Avengers: Infinity War</td>\n",
       "      <td>300000000</td>\n",
       "      <td>678815482</td>\n",
       "      <td>2048134200</td>\n",
       "      <td>6.827114</td>\n",
       "      <td>2018</td>\n",
       "      <td>tt4154756</td>\n",
       "      <td>Avengers: Infinity War</td>\n",
       "      <td>Avengers: Infinity War</td>\n",
       "      <td>149.0</td>\n",
       "      <td>Action,Adventure,Sci-Fi</td>\n",
       "      <td>8.5</td>\n",
       "      <td>670926</td>\n",
       "    </tr>\n",
       "    <tr>\n",
       "      <th>3</th>\n",
       "      <td>8</td>\n",
       "      <td>9</td>\n",
       "      <td>2017-11-17</td>\n",
       "      <td>Justice League</td>\n",
       "      <td>300000000</td>\n",
       "      <td>229024295</td>\n",
       "      <td>655945209</td>\n",
       "      <td>2.186484</td>\n",
       "      <td>2017</td>\n",
       "      <td>tt0974015</td>\n",
       "      <td>Justice League</td>\n",
       "      <td>Justice League</td>\n",
       "      <td>120.0</td>\n",
       "      <td>Action,Adventure,Fantasy</td>\n",
       "      <td>6.5</td>\n",
       "      <td>329135</td>\n",
       "    </tr>\n",
       "    <tr>\n",
       "      <th>4</th>\n",
       "      <td>9</td>\n",
       "      <td>10</td>\n",
       "      <td>2015-11-06</td>\n",
       "      <td>Spectre</td>\n",
       "      <td>300000000</td>\n",
       "      <td>200074175</td>\n",
       "      <td>879620923</td>\n",
       "      <td>2.932070</td>\n",
       "      <td>2015</td>\n",
       "      <td>tt2379713</td>\n",
       "      <td>Spectre</td>\n",
       "      <td>Spectre</td>\n",
       "      <td>148.0</td>\n",
       "      <td>Action,Adventure,Thriller</td>\n",
       "      <td>6.8</td>\n",
       "      <td>352504</td>\n",
       "    </tr>\n",
       "    <tr>\n",
       "      <th>...</th>\n",
       "      <td>...</td>\n",
       "      <td>...</td>\n",
       "      <td>...</td>\n",
       "      <td>...</td>\n",
       "      <td>...</td>\n",
       "      <td>...</td>\n",
       "      <td>...</td>\n",
       "      <td>...</td>\n",
       "      <td>...</td>\n",
       "      <td>...</td>\n",
       "      <td>...</td>\n",
       "      <td>...</td>\n",
       "      <td>...</td>\n",
       "      <td>...</td>\n",
       "      <td>...</td>\n",
       "      <td>...</td>\n",
       "    </tr>\n",
       "    <tr>\n",
       "      <th>725</th>\n",
       "      <td>5672</td>\n",
       "      <td>73</td>\n",
       "      <td>2012-06-15</td>\n",
       "      <td>Your Sister's Sister</td>\n",
       "      <td>120000</td>\n",
       "      <td>1597486</td>\n",
       "      <td>3090593</td>\n",
       "      <td>25.754942</td>\n",
       "      <td>2012</td>\n",
       "      <td>tt1742336</td>\n",
       "      <td>Your Sister's Sister</td>\n",
       "      <td>Your Sister's Sister</td>\n",
       "      <td>90.0</td>\n",
       "      <td>Comedy,Drama</td>\n",
       "      <td>6.7</td>\n",
       "      <td>24780</td>\n",
       "    </tr>\n",
       "    <tr>\n",
       "      <th>726</th>\n",
       "      <td>5679</td>\n",
       "      <td>80</td>\n",
       "      <td>2015-07-10</td>\n",
       "      <td>The Gallows</td>\n",
       "      <td>100000</td>\n",
       "      <td>22764410</td>\n",
       "      <td>41656474</td>\n",
       "      <td>416.564740</td>\n",
       "      <td>2015</td>\n",
       "      <td>tt2309260</td>\n",
       "      <td>The Gallows</td>\n",
       "      <td>The Gallows</td>\n",
       "      <td>81.0</td>\n",
       "      <td>Horror,Mystery,Thriller</td>\n",
       "      <td>4.2</td>\n",
       "      <td>17763</td>\n",
       "    </tr>\n",
       "    <tr>\n",
       "      <th>727</th>\n",
       "      <td>5685</td>\n",
       "      <td>86</td>\n",
       "      <td>2017-07-07</td>\n",
       "      <td>A Ghost Story</td>\n",
       "      <td>100000</td>\n",
       "      <td>1594798</td>\n",
       "      <td>2769782</td>\n",
       "      <td>27.697820</td>\n",
       "      <td>2017</td>\n",
       "      <td>tt6265828</td>\n",
       "      <td>A Ghost Story</td>\n",
       "      <td>A Ghost Story</td>\n",
       "      <td>92.0</td>\n",
       "      <td>Drama,Fantasy,Romance</td>\n",
       "      <td>6.8</td>\n",
       "      <td>46280</td>\n",
       "    </tr>\n",
       "    <tr>\n",
       "      <th>728</th>\n",
       "      <td>5737</td>\n",
       "      <td>38</td>\n",
       "      <td>2016-03-18</td>\n",
       "      <td>Krisha</td>\n",
       "      <td>30000</td>\n",
       "      <td>144822</td>\n",
       "      <td>144822</td>\n",
       "      <td>4.827400</td>\n",
       "      <td>2016</td>\n",
       "      <td>tt4266638</td>\n",
       "      <td>Krisha</td>\n",
       "      <td>Krisha</td>\n",
       "      <td>83.0</td>\n",
       "      <td>Drama</td>\n",
       "      <td>7.2</td>\n",
       "      <td>5917</td>\n",
       "    </tr>\n",
       "    <tr>\n",
       "      <th>729</th>\n",
       "      <td>5748</td>\n",
       "      <td>49</td>\n",
       "      <td>2015-09-01</td>\n",
       "      <td>Exeter</td>\n",
       "      <td>25000</td>\n",
       "      <td>0</td>\n",
       "      <td>489792</td>\n",
       "      <td>19.591680</td>\n",
       "      <td>2015</td>\n",
       "      <td>tt1945044</td>\n",
       "      <td>Exeter</td>\n",
       "      <td>Exeter</td>\n",
       "      <td>91.0</td>\n",
       "      <td>Horror,Mystery,Thriller</td>\n",
       "      <td>4.5</td>\n",
       "      <td>5156</td>\n",
       "    </tr>\n",
       "  </tbody>\n",
       "</table>\n",
       "<p>730 rows × 16 columns</p>\n",
       "</div>"
      ],
      "text/plain": [
       "     Unnamed: 0  id release_date                                        movie  \\\n",
       "0             1   2   2011-05-20  Pirates of the Caribbean: On Stranger Tides   \n",
       "1             3   4   2015-05-01                      Avengers: Age of Ultron   \n",
       "2             6   7   2018-04-27                       Avengers: Infinity War   \n",
       "3             8   9   2017-11-17                               Justice League   \n",
       "4             9  10   2015-11-06                                      Spectre   \n",
       "..          ...  ..          ...                                          ...   \n",
       "725        5672  73   2012-06-15                         Your Sister's Sister   \n",
       "726        5679  80   2015-07-10                                  The Gallows   \n",
       "727        5685  86   2017-07-07                                A Ghost Story   \n",
       "728        5737  38   2016-03-18                                       Krisha   \n",
       "729        5748  49   2015-09-01                                       Exeter   \n",
       "\n",
       "     production_budget  domestic_gross  worldwide_gross  return_on_investment  \\\n",
       "0            410600000       241063875       1045663875              2.546673   \n",
       "1            330600000       459005868       1403013963              4.243841   \n",
       "2            300000000       678815482       2048134200              6.827114   \n",
       "3            300000000       229024295        655945209              2.186484   \n",
       "4            300000000       200074175        879620923              2.932070   \n",
       "..                 ...             ...              ...                   ...   \n",
       "725             120000         1597486          3090593             25.754942   \n",
       "726             100000        22764410         41656474            416.564740   \n",
       "727             100000         1594798          2769782             27.697820   \n",
       "728              30000          144822           144822              4.827400   \n",
       "729              25000               0           489792             19.591680   \n",
       "\n",
       "     year   movie_id                                primary_title  \\\n",
       "0    2011  tt1298650  Pirates of the Caribbean: On Stranger Tides   \n",
       "1    2015  tt2395427                      Avengers: Age of Ultron   \n",
       "2    2018  tt4154756                       Avengers: Infinity War   \n",
       "3    2017  tt0974015                               Justice League   \n",
       "4    2015  tt2379713                                      Spectre   \n",
       "..    ...        ...                                          ...   \n",
       "725  2012  tt1742336                         Your Sister's Sister   \n",
       "726  2015  tt2309260                                  The Gallows   \n",
       "727  2017  tt6265828                                A Ghost Story   \n",
       "728  2016  tt4266638                                       Krisha   \n",
       "729  2015  tt1945044                                       Exeter   \n",
       "\n",
       "                                  original_title  runtime_minutes  \\\n",
       "0    Pirates of the Caribbean: On Stranger Tides            136.0   \n",
       "1                        Avengers: Age of Ultron            141.0   \n",
       "2                         Avengers: Infinity War            149.0   \n",
       "3                                 Justice League            120.0   \n",
       "4                                        Spectre            148.0   \n",
       "..                                           ...              ...   \n",
       "725                         Your Sister's Sister             90.0   \n",
       "726                                  The Gallows             81.0   \n",
       "727                                A Ghost Story             92.0   \n",
       "728                                       Krisha             83.0   \n",
       "729                                       Exeter             91.0   \n",
       "\n",
       "                        genres  averagerating  numvotes  \n",
       "0     Action,Adventure,Fantasy            6.6    447624  \n",
       "1      Action,Adventure,Sci-Fi            7.3    665594  \n",
       "2      Action,Adventure,Sci-Fi            8.5    670926  \n",
       "3     Action,Adventure,Fantasy            6.5    329135  \n",
       "4    Action,Adventure,Thriller            6.8    352504  \n",
       "..                         ...            ...       ...  \n",
       "725               Comedy,Drama            6.7     24780  \n",
       "726    Horror,Mystery,Thriller            4.2     17763  \n",
       "727      Drama,Fantasy,Romance            6.8     46280  \n",
       "728                      Drama            7.2      5917  \n",
       "729    Horror,Mystery,Thriller            4.5      5156  \n",
       "\n",
       "[730 rows x 16 columns]"
      ]
     },
     "execution_count": 25,
     "metadata": {},
     "output_type": "execute_result"
    }
   ],
   "source": [
    "all_movie_data"
   ]
  },
  {
   "cell_type": "code",
   "execution_count": 26,
   "metadata": {},
   "outputs": [
    {
     "data": {
      "text/html": [
       "<div>\n",
       "<style scoped>\n",
       "    .dataframe tbody tr th:only-of-type {\n",
       "        vertical-align: middle;\n",
       "    }\n",
       "\n",
       "    .dataframe tbody tr th {\n",
       "        vertical-align: top;\n",
       "    }\n",
       "\n",
       "    .dataframe thead th {\n",
       "        text-align: right;\n",
       "    }\n",
       "</style>\n",
       "<table border=\"1\" class=\"dataframe\">\n",
       "  <thead>\n",
       "    <tr style=\"text-align: right;\">\n",
       "      <th></th>\n",
       "      <th>Unnamed: 0</th>\n",
       "      <th>id</th>\n",
       "      <th>release_date</th>\n",
       "      <th>movie</th>\n",
       "      <th>production_budget</th>\n",
       "      <th>domestic_gross</th>\n",
       "      <th>worldwide_gross</th>\n",
       "      <th>return_on_investment</th>\n",
       "      <th>year</th>\n",
       "      <th>movie_id</th>\n",
       "      <th>primary_title</th>\n",
       "      <th>original_title</th>\n",
       "      <th>runtime_minutes</th>\n",
       "      <th>genres</th>\n",
       "      <th>averagerating</th>\n",
       "      <th>numvotes</th>\n",
       "    </tr>\n",
       "  </thead>\n",
       "  <tbody>\n",
       "    <tr>\n",
       "      <th>726</th>\n",
       "      <td>5679</td>\n",
       "      <td>80</td>\n",
       "      <td>2015-07-10</td>\n",
       "      <td>The Gallows</td>\n",
       "      <td>100000</td>\n",
       "      <td>22764410</td>\n",
       "      <td>41656474</td>\n",
       "      <td>416.564740</td>\n",
       "      <td>2015</td>\n",
       "      <td>tt2309260</td>\n",
       "      <td>The Gallows</td>\n",
       "      <td>The Gallows</td>\n",
       "      <td>81.0</td>\n",
       "      <td>Horror,Mystery,Thriller</td>\n",
       "      <td>4.2</td>\n",
       "      <td>17763</td>\n",
       "    </tr>\n",
       "    <tr>\n",
       "      <th>697</th>\n",
       "      <td>5211</td>\n",
       "      <td>12</td>\n",
       "      <td>2012-01-06</td>\n",
       "      <td>The Devil Inside</td>\n",
       "      <td>1000000</td>\n",
       "      <td>53262945</td>\n",
       "      <td>101759490</td>\n",
       "      <td>101.759490</td>\n",
       "      <td>2012</td>\n",
       "      <td>tt1560985</td>\n",
       "      <td>The Devil Inside</td>\n",
       "      <td>The Devil Inside</td>\n",
       "      <td>83.0</td>\n",
       "      <td>Horror</td>\n",
       "      <td>4.2</td>\n",
       "      <td>33522</td>\n",
       "    </tr>\n",
       "    <tr>\n",
       "      <th>689</th>\n",
       "      <td>5062</td>\n",
       "      <td>63</td>\n",
       "      <td>2011-04-01</td>\n",
       "      <td>Insidious</td>\n",
       "      <td>1500000</td>\n",
       "      <td>54009150</td>\n",
       "      <td>99870886</td>\n",
       "      <td>66.580591</td>\n",
       "      <td>2011</td>\n",
       "      <td>tt1591095</td>\n",
       "      <td>Insidious</td>\n",
       "      <td>Insidious</td>\n",
       "      <td>103.0</td>\n",
       "      <td>Horror,Mystery,Thriller</td>\n",
       "      <td>6.9</td>\n",
       "      <td>254197</td>\n",
       "    </tr>\n",
       "    <tr>\n",
       "      <th>698</th>\n",
       "      <td>5213</td>\n",
       "      <td>14</td>\n",
       "      <td>2015-04-17</td>\n",
       "      <td>Unfriended</td>\n",
       "      <td>1000000</td>\n",
       "      <td>32789645</td>\n",
       "      <td>64364198</td>\n",
       "      <td>64.364198</td>\n",
       "      <td>2015</td>\n",
       "      <td>tt3713166</td>\n",
       "      <td>Unfriended</td>\n",
       "      <td>Unfriended</td>\n",
       "      <td>83.0</td>\n",
       "      <td>Horror,Mystery,Thriller</td>\n",
       "      <td>5.6</td>\n",
       "      <td>62043</td>\n",
       "    </tr>\n",
       "    <tr>\n",
       "      <th>611</th>\n",
       "      <td>4249</td>\n",
       "      <td>50</td>\n",
       "      <td>2017-01-20</td>\n",
       "      <td>Split</td>\n",
       "      <td>5000000</td>\n",
       "      <td>138141585</td>\n",
       "      <td>278964806</td>\n",
       "      <td>55.792961</td>\n",
       "      <td>2017</td>\n",
       "      <td>tt2660118</td>\n",
       "      <td>Split</td>\n",
       "      <td>Split</td>\n",
       "      <td>90.0</td>\n",
       "      <td>Comedy,Romance,Sport</td>\n",
       "      <td>2.9</td>\n",
       "      <td>557</td>\n",
       "    </tr>\n",
       "    <tr>\n",
       "      <th>610</th>\n",
       "      <td>4248</td>\n",
       "      <td>49</td>\n",
       "      <td>2017-02-24</td>\n",
       "      <td>Get Out</td>\n",
       "      <td>5000000</td>\n",
       "      <td>176040665</td>\n",
       "      <td>255367951</td>\n",
       "      <td>51.073590</td>\n",
       "      <td>2017</td>\n",
       "      <td>tt5052448</td>\n",
       "      <td>Get Out</td>\n",
       "      <td>Get Out</td>\n",
       "      <td>104.0</td>\n",
       "      <td>Horror,Mystery,Thriller</td>\n",
       "      <td>7.7</td>\n",
       "      <td>400474</td>\n",
       "    </tr>\n",
       "    <tr>\n",
       "      <th>690</th>\n",
       "      <td>5063</td>\n",
       "      <td>64</td>\n",
       "      <td>2016-10-21</td>\n",
       "      <td>Moonlight</td>\n",
       "      <td>1500000</td>\n",
       "      <td>27854931</td>\n",
       "      <td>65245512</td>\n",
       "      <td>43.497008</td>\n",
       "      <td>2016</td>\n",
       "      <td>tt4975722</td>\n",
       "      <td>Moonlight</td>\n",
       "      <td>Moonlight</td>\n",
       "      <td>111.0</td>\n",
       "      <td>Drama</td>\n",
       "      <td>7.4</td>\n",
       "      <td>227964</td>\n",
       "    </tr>\n",
       "    <tr>\n",
       "      <th>700</th>\n",
       "      <td>5217</td>\n",
       "      <td>18</td>\n",
       "      <td>2012-05-25</td>\n",
       "      <td>Chernobyl Diaries</td>\n",
       "      <td>1000000</td>\n",
       "      <td>18119640</td>\n",
       "      <td>42411721</td>\n",
       "      <td>42.411721</td>\n",
       "      <td>2012</td>\n",
       "      <td>tt1991245</td>\n",
       "      <td>Chernobyl Diaries</td>\n",
       "      <td>Chernobyl Diaries</td>\n",
       "      <td>86.0</td>\n",
       "      <td>Horror,Mystery,Thriller</td>\n",
       "      <td>5.0</td>\n",
       "      <td>60304</td>\n",
       "    </tr>\n",
       "    <tr>\n",
       "      <th>612</th>\n",
       "      <td>4250</td>\n",
       "      <td>51</td>\n",
       "      <td>2011-10-21</td>\n",
       "      <td>Paranormal Activity 3</td>\n",
       "      <td>5000000</td>\n",
       "      <td>104028807</td>\n",
       "      <td>207039844</td>\n",
       "      <td>41.407969</td>\n",
       "      <td>2011</td>\n",
       "      <td>tt1778304</td>\n",
       "      <td>Paranormal Activity 3</td>\n",
       "      <td>Paranormal Activity 3</td>\n",
       "      <td>83.0</td>\n",
       "      <td>Horror,Mystery,Thriller</td>\n",
       "      <td>5.8</td>\n",
       "      <td>85689</td>\n",
       "    </tr>\n",
       "    <tr>\n",
       "      <th>596</th>\n",
       "      <td>4083</td>\n",
       "      <td>84</td>\n",
       "      <td>2014-10-03</td>\n",
       "      <td>Annabelle</td>\n",
       "      <td>6500000</td>\n",
       "      <td>84273813</td>\n",
       "      <td>256862920</td>\n",
       "      <td>39.517372</td>\n",
       "      <td>2014</td>\n",
       "      <td>tt3322940</td>\n",
       "      <td>Annabelle</td>\n",
       "      <td>Annabelle</td>\n",
       "      <td>99.0</td>\n",
       "      <td>Horror,Mystery,Thriller</td>\n",
       "      <td>5.4</td>\n",
       "      <td>122039</td>\n",
       "    </tr>\n",
       "  </tbody>\n",
       "</table>\n",
       "</div>"
      ],
      "text/plain": [
       "     Unnamed: 0  id release_date                  movie  production_budget  \\\n",
       "726        5679  80   2015-07-10            The Gallows             100000   \n",
       "697        5211  12   2012-01-06       The Devil Inside            1000000   \n",
       "689        5062  63   2011-04-01              Insidious            1500000   \n",
       "698        5213  14   2015-04-17             Unfriended            1000000   \n",
       "611        4249  50   2017-01-20                  Split            5000000   \n",
       "610        4248  49   2017-02-24                Get Out            5000000   \n",
       "690        5063  64   2016-10-21              Moonlight            1500000   \n",
       "700        5217  18   2012-05-25      Chernobyl Diaries            1000000   \n",
       "612        4250  51   2011-10-21  Paranormal Activity 3            5000000   \n",
       "596        4083  84   2014-10-03              Annabelle            6500000   \n",
       "\n",
       "     domestic_gross  worldwide_gross  return_on_investment  year   movie_id  \\\n",
       "726        22764410         41656474            416.564740  2015  tt2309260   \n",
       "697        53262945        101759490            101.759490  2012  tt1560985   \n",
       "689        54009150         99870886             66.580591  2011  tt1591095   \n",
       "698        32789645         64364198             64.364198  2015  tt3713166   \n",
       "611       138141585        278964806             55.792961  2017  tt2660118   \n",
       "610       176040665        255367951             51.073590  2017  tt5052448   \n",
       "690        27854931         65245512             43.497008  2016  tt4975722   \n",
       "700        18119640         42411721             42.411721  2012  tt1991245   \n",
       "612       104028807        207039844             41.407969  2011  tt1778304   \n",
       "596        84273813        256862920             39.517372  2014  tt3322940   \n",
       "\n",
       "             primary_title         original_title  runtime_minutes  \\\n",
       "726            The Gallows            The Gallows             81.0   \n",
       "697       The Devil Inside       The Devil Inside             83.0   \n",
       "689              Insidious              Insidious            103.0   \n",
       "698             Unfriended             Unfriended             83.0   \n",
       "611                  Split                  Split             90.0   \n",
       "610                Get Out                Get Out            104.0   \n",
       "690              Moonlight              Moonlight            111.0   \n",
       "700      Chernobyl Diaries      Chernobyl Diaries             86.0   \n",
       "612  Paranormal Activity 3  Paranormal Activity 3             83.0   \n",
       "596              Annabelle              Annabelle             99.0   \n",
       "\n",
       "                      genres  averagerating  numvotes  \n",
       "726  Horror,Mystery,Thriller            4.2     17763  \n",
       "697                   Horror            4.2     33522  \n",
       "689  Horror,Mystery,Thriller            6.9    254197  \n",
       "698  Horror,Mystery,Thriller            5.6     62043  \n",
       "611     Comedy,Romance,Sport            2.9       557  \n",
       "610  Horror,Mystery,Thriller            7.7    400474  \n",
       "690                    Drama            7.4    227964  \n",
       "700  Horror,Mystery,Thriller            5.0     60304  \n",
       "612  Horror,Mystery,Thriller            5.8     85689  \n",
       "596  Horror,Mystery,Thriller            5.4    122039  "
      ]
     },
     "execution_count": 26,
     "metadata": {},
     "output_type": "execute_result"
    }
   ],
   "source": [
    "all_movie_data.sort_values(by= \"return_on_investment\", ascending=False)[:10]"
   ]
  },
  {
   "cell_type": "code",
   "execution_count": 27,
   "metadata": {},
   "outputs": [],
   "source": [
    "import matplotlib.pyplot as plt\n",
    "import seaborn as sns\n",
    "from matplotlib.lines import Line2D\n",
    "%matplotlib inline"
   ]
  },
  {
   "cell_type": "code",
   "execution_count": 28,
   "metadata": {},
   "outputs": [
    {
     "data": {
      "text/html": [
       "<div>\n",
       "<style scoped>\n",
       "    .dataframe tbody tr th:only-of-type {\n",
       "        vertical-align: middle;\n",
       "    }\n",
       "\n",
       "    .dataframe tbody tr th {\n",
       "        vertical-align: top;\n",
       "    }\n",
       "\n",
       "    .dataframe thead th {\n",
       "        text-align: right;\n",
       "    }\n",
       "</style>\n",
       "<table border=\"1\" class=\"dataframe\">\n",
       "  <thead>\n",
       "    <tr style=\"text-align: right;\">\n",
       "      <th></th>\n",
       "      <th>Unnamed: 0</th>\n",
       "      <th>id</th>\n",
       "      <th>release_date</th>\n",
       "      <th>movie</th>\n",
       "      <th>production_budget</th>\n",
       "      <th>domestic_gross</th>\n",
       "      <th>worldwide_gross</th>\n",
       "      <th>return_on_investment</th>\n",
       "      <th>year</th>\n",
       "      <th>movie_id</th>\n",
       "      <th>primary_title</th>\n",
       "      <th>original_title</th>\n",
       "      <th>runtime_minutes</th>\n",
       "      <th>genres</th>\n",
       "      <th>averagerating</th>\n",
       "      <th>numvotes</th>\n",
       "    </tr>\n",
       "  </thead>\n",
       "  <tbody>\n",
       "    <tr>\n",
       "      <th>368</th>\n",
       "      <td>1946</td>\n",
       "      <td>47</td>\n",
       "      <td>2017-08-25</td>\n",
       "      <td>Ballerina</td>\n",
       "      <td>30000000</td>\n",
       "      <td>21858070</td>\n",
       "      <td>96892829</td>\n",
       "      <td>3.229761</td>\n",
       "      <td>2017</td>\n",
       "      <td>tt2560702</td>\n",
       "      <td>Ballerina</td>\n",
       "      <td>Ballerina</td>\n",
       "      <td>50.0</td>\n",
       "      <td>Biography,Documentary</td>\n",
       "      <td>7.5</td>\n",
       "      <td>13</td>\n",
       "    </tr>\n",
       "    <tr>\n",
       "      <th>475</th>\n",
       "      <td>3008</td>\n",
       "      <td>9</td>\n",
       "      <td>2013-01-18</td>\n",
       "      <td>Mama</td>\n",
       "      <td>15000000</td>\n",
       "      <td>71628180</td>\n",
       "      <td>148095566</td>\n",
       "      <td>9.873038</td>\n",
       "      <td>2013</td>\n",
       "      <td>tt1805319</td>\n",
       "      <td>Mama</td>\n",
       "      <td>Mama</td>\n",
       "      <td>50.0</td>\n",
       "      <td>Drama</td>\n",
       "      <td>4.5</td>\n",
       "      <td>6</td>\n",
       "    </tr>\n",
       "    <tr>\n",
       "      <th>48</th>\n",
       "      <td>96</td>\n",
       "      <td>97</td>\n",
       "      <td>2016-04-15</td>\n",
       "      <td>The Jungle Book</td>\n",
       "      <td>175000000</td>\n",
       "      <td>364001123</td>\n",
       "      <td>962854547</td>\n",
       "      <td>5.502026</td>\n",
       "      <td>2016</td>\n",
       "      <td>tt2226178</td>\n",
       "      <td>The Jungle Book</td>\n",
       "      <td>The Jungle Book</td>\n",
       "      <td>64.0</td>\n",
       "      <td>Animation</td>\n",
       "      <td>7.0</td>\n",
       "      <td>59</td>\n",
       "    </tr>\n",
       "    <tr>\n",
       "      <th>282</th>\n",
       "      <td>1405</td>\n",
       "      <td>6</td>\n",
       "      <td>2015-09-25</td>\n",
       "      <td>The Intern</td>\n",
       "      <td>40000000</td>\n",
       "      <td>75764672</td>\n",
       "      <td>197115710</td>\n",
       "      <td>4.927893</td>\n",
       "      <td>2015</td>\n",
       "      <td>tt1636456</td>\n",
       "      <td>The Intern</td>\n",
       "      <td>El pasante</td>\n",
       "      <td>65.0</td>\n",
       "      <td>None</td>\n",
       "      <td>5.5</td>\n",
       "      <td>22</td>\n",
       "    </tr>\n",
       "    <tr>\n",
       "      <th>584</th>\n",
       "      <td>3890</td>\n",
       "      <td>91</td>\n",
       "      <td>2014-06-27</td>\n",
       "      <td>Begin Again</td>\n",
       "      <td>8000000</td>\n",
       "      <td>16170632</td>\n",
       "      <td>68838736</td>\n",
       "      <td>8.604842</td>\n",
       "      <td>2014</td>\n",
       "      <td>tt1945037</td>\n",
       "      <td>Begin Again</td>\n",
       "      <td>Begin Again</td>\n",
       "      <td>68.0</td>\n",
       "      <td>Drama,Family</td>\n",
       "      <td>7.0</td>\n",
       "      <td>57</td>\n",
       "    </tr>\n",
       "    <tr>\n",
       "      <th>427</th>\n",
       "      <td>2499</td>\n",
       "      <td>100</td>\n",
       "      <td>2019-01-18</td>\n",
       "      <td>Glass</td>\n",
       "      <td>20000000</td>\n",
       "      <td>111035005</td>\n",
       "      <td>245303505</td>\n",
       "      <td>12.265175</td>\n",
       "      <td>2019</td>\n",
       "      <td>tt4598720</td>\n",
       "      <td>Glass</td>\n",
       "      <td>Glass</td>\n",
       "      <td>71.0</td>\n",
       "      <td>Drama,Mystery,Thriller</td>\n",
       "      <td>8.2</td>\n",
       "      <td>84</td>\n",
       "    </tr>\n",
       "    <tr>\n",
       "      <th>538</th>\n",
       "      <td>3542</td>\n",
       "      <td>43</td>\n",
       "      <td>2018-05-18</td>\n",
       "      <td>Book Club</td>\n",
       "      <td>10000000</td>\n",
       "      <td>68566296</td>\n",
       "      <td>91113683</td>\n",
       "      <td>9.111368</td>\n",
       "      <td>2018</td>\n",
       "      <td>tt4727712</td>\n",
       "      <td>Book Club</td>\n",
       "      <td>Book Club</td>\n",
       "      <td>72.0</td>\n",
       "      <td>Documentary</td>\n",
       "      <td>6.6</td>\n",
       "      <td>9</td>\n",
       "    </tr>\n",
       "    <tr>\n",
       "      <th>670</th>\n",
       "      <td>4813</td>\n",
       "      <td>14</td>\n",
       "      <td>2013-07-03</td>\n",
       "      <td>Kevin Hart: Let Me Explain</td>\n",
       "      <td>2500000</td>\n",
       "      <td>32244051</td>\n",
       "      <td>32327255</td>\n",
       "      <td>12.930902</td>\n",
       "      <td>2013</td>\n",
       "      <td>tt2609912</td>\n",
       "      <td>Kevin Hart: Let Me Explain</td>\n",
       "      <td>Kevin Hart: Let Me Explain</td>\n",
       "      <td>75.0</td>\n",
       "      <td>Comedy,Documentary</td>\n",
       "      <td>6.8</td>\n",
       "      <td>7880</td>\n",
       "    </tr>\n",
       "    <tr>\n",
       "      <th>313</th>\n",
       "      <td>1604</td>\n",
       "      <td>5</td>\n",
       "      <td>2018-10-05</td>\n",
       "      <td>A Star is Born</td>\n",
       "      <td>36000000</td>\n",
       "      <td>215288866</td>\n",
       "      <td>433449571</td>\n",
       "      <td>12.040266</td>\n",
       "      <td>2018</td>\n",
       "      <td>tt1776364</td>\n",
       "      <td>A Star is Born</td>\n",
       "      <td>Zvezda je rodena</td>\n",
       "      <td>75.0</td>\n",
       "      <td>Documentary,Music</td>\n",
       "      <td>5.1</td>\n",
       "      <td>15</td>\n",
       "    </tr>\n",
       "    <tr>\n",
       "      <th>98</th>\n",
       "      <td>243</td>\n",
       "      <td>44</td>\n",
       "      <td>2015-03-27</td>\n",
       "      <td>Home</td>\n",
       "      <td>130000000</td>\n",
       "      <td>177397510</td>\n",
       "      <td>385997896</td>\n",
       "      <td>2.969215</td>\n",
       "      <td>2015</td>\n",
       "      <td>tt2075392</td>\n",
       "      <td>Home</td>\n",
       "      <td>Yurt</td>\n",
       "      <td>76.0</td>\n",
       "      <td>Drama</td>\n",
       "      <td>6.0</td>\n",
       "      <td>96</td>\n",
       "    </tr>\n",
       "  </tbody>\n",
       "</table>\n",
       "</div>"
      ],
      "text/plain": [
       "     Unnamed: 0   id release_date                       movie  \\\n",
       "368        1946   47   2017-08-25                   Ballerina   \n",
       "475        3008    9   2013-01-18                        Mama   \n",
       "48           96   97   2016-04-15             The Jungle Book   \n",
       "282        1405    6   2015-09-25                  The Intern   \n",
       "584        3890   91   2014-06-27                 Begin Again   \n",
       "427        2499  100   2019-01-18                       Glass   \n",
       "538        3542   43   2018-05-18                   Book Club   \n",
       "670        4813   14   2013-07-03  Kevin Hart: Let Me Explain   \n",
       "313        1604    5   2018-10-05              A Star is Born   \n",
       "98          243   44   2015-03-27                        Home   \n",
       "\n",
       "     production_budget  domestic_gross  worldwide_gross  return_on_investment  \\\n",
       "368           30000000        21858070         96892829              3.229761   \n",
       "475           15000000        71628180        148095566              9.873038   \n",
       "48           175000000       364001123        962854547              5.502026   \n",
       "282           40000000        75764672        197115710              4.927893   \n",
       "584            8000000        16170632         68838736              8.604842   \n",
       "427           20000000       111035005        245303505             12.265175   \n",
       "538           10000000        68566296         91113683              9.111368   \n",
       "670            2500000        32244051         32327255             12.930902   \n",
       "313           36000000       215288866        433449571             12.040266   \n",
       "98           130000000       177397510        385997896              2.969215   \n",
       "\n",
       "     year   movie_id               primary_title              original_title  \\\n",
       "368  2017  tt2560702                   Ballerina                   Ballerina   \n",
       "475  2013  tt1805319                        Mama                        Mama   \n",
       "48   2016  tt2226178             The Jungle Book             The Jungle Book   \n",
       "282  2015  tt1636456                  The Intern                  El pasante   \n",
       "584  2014  tt1945037                 Begin Again                 Begin Again   \n",
       "427  2019  tt4598720                       Glass                       Glass   \n",
       "538  2018  tt4727712                   Book Club                   Book Club   \n",
       "670  2013  tt2609912  Kevin Hart: Let Me Explain  Kevin Hart: Let Me Explain   \n",
       "313  2018  tt1776364              A Star is Born            Zvezda je rodena   \n",
       "98   2015  tt2075392                        Home                        Yurt   \n",
       "\n",
       "     runtime_minutes                  genres  averagerating  numvotes  \n",
       "368             50.0   Biography,Documentary            7.5        13  \n",
       "475             50.0                   Drama            4.5         6  \n",
       "48              64.0               Animation            7.0        59  \n",
       "282             65.0                    None            5.5        22  \n",
       "584             68.0            Drama,Family            7.0        57  \n",
       "427             71.0  Drama,Mystery,Thriller            8.2        84  \n",
       "538             72.0             Documentary            6.6         9  \n",
       "670             75.0      Comedy,Documentary            6.8      7880  \n",
       "313             75.0       Documentary,Music            5.1        15  \n",
       "98              76.0                   Drama            6.0        96  "
      ]
     },
     "execution_count": 28,
     "metadata": {},
     "output_type": "execute_result"
    }
   ],
   "source": [
    "all_movie_data.sort_values(by=\"runtime_minutes\")[:10]"
   ]
  },
  {
   "cell_type": "code",
   "execution_count": 29,
   "metadata": {},
   "outputs": [
    {
     "data": {
      "text/html": [
       "<div>\n",
       "<style scoped>\n",
       "    .dataframe tbody tr th:only-of-type {\n",
       "        vertical-align: middle;\n",
       "    }\n",
       "\n",
       "    .dataframe tbody tr th {\n",
       "        vertical-align: top;\n",
       "    }\n",
       "\n",
       "    .dataframe thead th {\n",
       "        text-align: right;\n",
       "    }\n",
       "</style>\n",
       "<table border=\"1\" class=\"dataframe\">\n",
       "  <thead>\n",
       "    <tr style=\"text-align: right;\">\n",
       "      <th></th>\n",
       "      <th>Unnamed: 0</th>\n",
       "      <th>id</th>\n",
       "      <th>release_date</th>\n",
       "      <th>movie</th>\n",
       "      <th>production_budget</th>\n",
       "      <th>domestic_gross</th>\n",
       "      <th>worldwide_gross</th>\n",
       "      <th>return_on_investment</th>\n",
       "      <th>year</th>\n",
       "      <th>movie_id</th>\n",
       "      <th>primary_title</th>\n",
       "      <th>original_title</th>\n",
       "      <th>runtime_minutes</th>\n",
       "      <th>genres</th>\n",
       "      <th>averagerating</th>\n",
       "      <th>numvotes</th>\n",
       "    </tr>\n",
       "  </thead>\n",
       "  <tbody>\n",
       "    <tr>\n",
       "      <th>726</th>\n",
       "      <td>5679</td>\n",
       "      <td>80</td>\n",
       "      <td>2015-07-10</td>\n",
       "      <td>The Gallows</td>\n",
       "      <td>100000</td>\n",
       "      <td>22764410</td>\n",
       "      <td>41656474</td>\n",
       "      <td>416.56474</td>\n",
       "      <td>2015</td>\n",
       "      <td>tt2309260</td>\n",
       "      <td>The Gallows</td>\n",
       "      <td>The Gallows</td>\n",
       "      <td>81.0</td>\n",
       "      <td>Horror,Mystery,Thriller</td>\n",
       "      <td>4.2</td>\n",
       "      <td>17763</td>\n",
       "    </tr>\n",
       "  </tbody>\n",
       "</table>\n",
       "</div>"
      ],
      "text/plain": [
       "     Unnamed: 0  id release_date        movie  production_budget  \\\n",
       "726        5679  80   2015-07-10  The Gallows             100000   \n",
       "\n",
       "     domestic_gross  worldwide_gross  return_on_investment  year   movie_id  \\\n",
       "726        22764410         41656474             416.56474  2015  tt2309260   \n",
       "\n",
       "    primary_title original_title  runtime_minutes                   genres  \\\n",
       "726   The Gallows    The Gallows             81.0  Horror,Mystery,Thriller   \n",
       "\n",
       "     averagerating  numvotes  \n",
       "726            4.2     17763  "
      ]
     },
     "execution_count": 29,
     "metadata": {},
     "output_type": "execute_result"
    }
   ],
   "source": [
    "all_movie_data.loc[all_movie_data[\"movie\"]==\"The Gallows\"]"
   ]
  },
  {
   "cell_type": "code",
   "execution_count": 30,
   "metadata": {
    "scrolled": true
   },
   "outputs": [],
   "source": [
    "#drop massive outlier\n",
    "all_movie_data=all_movie_data.drop(labels=726, axis=0)"
   ]
  },
  {
   "cell_type": "code",
   "execution_count": 31,
   "metadata": {},
   "outputs": [
    {
     "data": {
      "text/html": [
       "<div>\n",
       "<style scoped>\n",
       "    .dataframe tbody tr th:only-of-type {\n",
       "        vertical-align: middle;\n",
       "    }\n",
       "\n",
       "    .dataframe tbody tr th {\n",
       "        vertical-align: top;\n",
       "    }\n",
       "\n",
       "    .dataframe thead th {\n",
       "        text-align: right;\n",
       "    }\n",
       "</style>\n",
       "<table border=\"1\" class=\"dataframe\">\n",
       "  <thead>\n",
       "    <tr style=\"text-align: right;\">\n",
       "      <th></th>\n",
       "      <th>Unnamed: 0</th>\n",
       "      <th>id</th>\n",
       "      <th>release_date</th>\n",
       "      <th>movie</th>\n",
       "      <th>production_budget</th>\n",
       "      <th>domestic_gross</th>\n",
       "      <th>worldwide_gross</th>\n",
       "      <th>return_on_investment</th>\n",
       "      <th>year</th>\n",
       "      <th>movie_id</th>\n",
       "      <th>primary_title</th>\n",
       "      <th>original_title</th>\n",
       "      <th>runtime_minutes</th>\n",
       "      <th>genres</th>\n",
       "      <th>averagerating</th>\n",
       "      <th>numvotes</th>\n",
       "    </tr>\n",
       "  </thead>\n",
       "  <tbody>\n",
       "  </tbody>\n",
       "</table>\n",
       "</div>"
      ],
      "text/plain": [
       "Empty DataFrame\n",
       "Columns: [Unnamed: 0, id, release_date, movie, production_budget, domestic_gross, worldwide_gross, return_on_investment, year, movie_id, primary_title, original_title, runtime_minutes, genres, averagerating, numvotes]\n",
       "Index: []"
      ]
     },
     "execution_count": 31,
     "metadata": {},
     "output_type": "execute_result"
    }
   ],
   "source": [
    "all_movie_data.loc[all_movie_data[\"movie\"]==\"The Gallows\"]"
   ]
  },
  {
   "cell_type": "code",
   "execution_count": 32,
   "metadata": {},
   "outputs": [
    {
     "data": {
      "text/plain": [
       "<matplotlib.collections.PathCollection at 0x7fbe9accf730>"
      ]
     },
     "execution_count": 32,
     "metadata": {},
     "output_type": "execute_result"
    },
    {
     "data": {
      "image/png": "[encoded data removed]",
      "text/plain": [
       "<Figure size 432x288 with 1 Axes>"
      ]
     },
     "metadata": {
      "needs_background": "light"
     },
     "output_type": "display_data"
    }
   ],
   "source": [
    "plt.scatter(all_movie_data['runtime_minutes'], all_movie_data['return_on_investment'])"
   ]
  },
  {
   "cell_type": "code",
   "execution_count": 33,
   "metadata": {},
   "outputs": [
    {
     "data": {
      "text/plain": [
       "(0.0, 100.0)"
      ]
     },
     "execution_count": 33,
     "metadata": {},
     "output_type": "execute_result"
    },
    {
     "data": {
      "image/png": "[encoded data removed]",
      "text/plain": [
       "<Figure size 432x288 with 1 Axes>"
      ]
     },
     "metadata": {
      "needs_background": "light"
     },
     "output_type": "display_data"
    }
   ],
   "source": [
    "plt.scatter(all_movie_data['runtime_minutes'], all_movie_data['return_on_investment'])\n",
    "plt.xlim(0, 180)\n",
    "plt.ylim(0, 100)"
   ]
  },
  {
   "cell_type": "code",
   "execution_count": 34,
   "metadata": {},
   "outputs": [],
   "source": [
    "shorter=all_movie_data.loc[all_movie_data['runtime_minutes']<=90]"
   ]
  },
  {
   "cell_type": "code",
   "execution_count": 35,
   "metadata": {},
   "outputs": [],
   "source": [
    "medium=all_movie_data.loc[(all_movie_data['runtime_minutes'])>90 & (all_movie_data['runtime_minutes']<115)]\n"
   ]
  },
  {
   "cell_type": "code",
   "execution_count": 36,
   "metadata": {},
   "outputs": [],
   "source": [
    "longer=all_movie_data.loc[all_movie_data['runtime_minutes']>=115]"
   ]
  },
  {
   "cell_type": "code",
   "execution_count": 37,
   "metadata": {},
   "outputs": [],
   "source": [
    "too_long=all_movie_data.loc[all_movie_data['runtime_minutes']>=140]"
   ]
  },
  {
   "cell_type": "code",
   "execution_count": 38,
   "metadata": {
    "scrolled": true
   },
   "outputs": [
    {
     "data": {
      "text/plain": [
       "count     94.000000\n",
       "mean      10.577620\n",
       "std       14.583513\n",
       "min        2.017089\n",
       "25%        3.293334\n",
       "50%        5.302640\n",
       "75%       11.154975\n",
       "max      101.759490\n",
       "Name: return_on_investment, dtype: float64"
      ]
     },
     "execution_count": 38,
     "metadata": {},
     "output_type": "execute_result"
    }
   ],
   "source": [
    "shorter['return_on_investment'].describe()"
   ]
  },
  {
   "cell_type": "code",
   "execution_count": 39,
   "metadata": {},
   "outputs": [
    {
     "data": {
      "text/plain": [
       "count    724.000000\n",
       "mean       6.137940\n",
       "std        7.547995\n",
       "min        2.007038\n",
       "25%        2.733941\n",
       "50%        3.970770\n",
       "75%        6.398285\n",
       "max      101.759490\n",
       "Name: return_on_investment, dtype: float64"
      ]
     },
     "execution_count": 39,
     "metadata": {},
     "output_type": "execute_result"
    }
   ],
   "source": [
    "medium['return_on_investment'].describe()"
   ]
  },
  {
   "cell_type": "code",
   "execution_count": 40,
   "metadata": {},
   "outputs": [
    {
     "data": {
      "text/plain": [
       "count    248.000000\n",
       "mean       4.993592\n",
       "std        3.972132\n",
       "min        2.009261\n",
       "25%        2.649099\n",
       "50%        3.763713\n",
       "75%        5.741386\n",
       "max       31.016276\n",
       "Name: return_on_investment, dtype: float64"
      ]
     },
     "execution_count": 40,
     "metadata": {},
     "output_type": "execute_result"
    }
   ],
   "source": [
    "longer['return_on_investment'].describe()"
   ]
  },
  {
   "cell_type": "code",
   "execution_count": 41,
   "metadata": {},
   "outputs": [
    {
     "data": {
      "text/plain": [
       "count    52.000000\n",
       "mean      5.239698\n",
       "std       4.307992\n",
       "min       2.115244\n",
       "25%       3.045232\n",
       "50%       4.050561\n",
       "75%       6.048396\n",
       "max      31.016276\n",
       "Name: return_on_investment, dtype: float64"
      ]
     },
     "execution_count": 41,
     "metadata": {},
     "output_type": "execute_result"
    }
   ],
   "source": [
    "too_long['return_on_investment'].describe()"
   ]
  },
  {
   "cell_type": "code",
   "execution_count": 42,
   "metadata": {},
   "outputs": [],
   "source": [
    "budget = pd.read_csv('zippedData/tn.movie_budgets.csv')"
   ]
  },
  {
   "cell_type": "code",
   "execution_count": 43,
   "metadata": {},
   "outputs": [],
   "source": [
    "budget = budget.replace(',','', regex=True)"
   ]
  },
  {
   "cell_type": "code",
   "execution_count": 44,
   "metadata": {},
   "outputs": [],
   "source": [
    "budget['production_budget']= budget['production_budget'].str[1:]\n",
    "budget['domestic_gross'] = budget['domestic_gross'].str[1:]\n",
    "budget['worldwide_gross'] = budget['worldwide_gross'].str[1:]"
   ]
  },
  {
   "cell_type": "code",
   "execution_count": 45,
   "metadata": {},
   "outputs": [],
   "source": [
    "budget[['production_budget', 'domestic_gross', 'worldwide_gross']]= budget[['production_budget', 'domestic_gross', 'worldwide_gross']].astype(int)"
   ]
  },
  {
   "cell_type": "code",
   "execution_count": 46,
   "metadata": {},
   "outputs": [],
   "source": [
    "budget[\"return_on_investment\"]= budget['worldwide_gross']/budget['production_budget']"
   ]
  },
  {
   "cell_type": "code",
   "execution_count": 47,
   "metadata": {},
   "outputs": [],
   "source": [
    "budget['release_date'] = pd.to_datetime(budget['release_date'])"
   ]
  },
  {
   "cell_type": "code",
   "execution_count": 48,
   "metadata": {},
   "outputs": [],
   "source": [
    "budget['year'] = budget['release_date'].dt.year"
   ]
  },
  {
   "cell_type": "code",
   "execution_count": 49,
   "metadata": {},
   "outputs": [],
   "source": [
    "budget_recent = budget.loc[budget['year']>2010]"
   ]
  },
  {
   "cell_type": "code",
   "execution_count": 50,
   "metadata": {},
   "outputs": [],
   "source": [
    "imdb_ratings = imdb_ratings.drop_duplicates(subset=['primary_title'])\n",
    "budget_recent = budget_recent.drop_duplicates(subset=['movie'])"
   ]
  },
  {
   "cell_type": "code",
   "execution_count": 51,
   "metadata": {},
   "outputs": [],
   "source": [
    "all_recent= pd.merge(budget_recent, imdb_ratings, left_on='movie', right_on='primary_title', how='inner')"
   ]
  },
  {
   "cell_type": "code",
   "execution_count": 52,
   "metadata": {},
   "outputs": [],
   "source": [
    "all_recent = all_recent.dropna()"
   ]
  },
  {
   "cell_type": "code",
   "execution_count": 53,
   "metadata": {},
   "outputs": [],
   "source": [
    "import matplotlib.pyplot as plt\n",
    "\n",
    "import numpy as np\n",
    "import pandas as pd\n",
    "import scipy.stats as stats\n",
    "import seaborn as sns\n",
    "import statsmodels.api as sm\n",
    "\n",
    "import warnings\n",
    "warnings.filterwarnings('ignore')"
   ]
  },
  {
   "cell_type": "code",
   "execution_count": 54,
   "metadata": {},
   "outputs": [],
   "source": [
    "X = all_recent[[\"runtime_minutes\"]]\n",
    "y = all_recent[\"return_on_investment\"]"
   ]
  },
  {
   "cell_type": "code",
   "execution_count": 55,
   "metadata": {},
   "outputs": [
    {
     "data": {
      "text/plain": [
       "<statsmodels.regression.linear_model.OLS at 0x7fbe9adef1c0>"
      ]
     },
     "execution_count": 55,
     "metadata": {},
     "output_type": "execute_result"
    }
   ],
   "source": [
    "model = sm.OLS(endog=y, exog=sm.add_constant(X))\n",
    "model"
   ]
  },
  {
   "cell_type": "code",
   "execution_count": 56,
   "metadata": {},
   "outputs": [
    {
     "data": {
      "text/plain": [
       "<statsmodels.regression.linear_model.RegressionResultsWrapper at 0x7fbe9c142400>"
      ]
     },
     "execution_count": 56,
     "metadata": {},
     "output_type": "execute_result"
    }
   ],
   "source": [
    "results = model.fit()\n",
    "results"
   ]
  },
  {
   "cell_type": "code",
   "execution_count": 57,
   "metadata": {},
   "outputs": [
    {
     "data": {
      "text/plain": [
       "(0.8129322326469895, 0.3673931336417935)"
      ]
     },
     "execution_count": 57,
     "metadata": {},
     "output_type": "execute_result"
    }
   ],
   "source": [
    "results.fvalue, results.f_pvalue"
   ]
  },
  {
   "cell_type": "code",
   "execution_count": 58,
   "metadata": {},
   "outputs": [
    {
     "data": {
      "text/plain": [
       "0.0005178529339102678"
      ]
     },
     "execution_count": 58,
     "metadata": {},
     "output_type": "execute_result"
    }
   ],
   "source": [
    "results.rsquared"
   ]
  },
  {
   "cell_type": "code",
   "execution_count": null,
   "metadata": {},
   "outputs": [],
   "source": []
  },
  {
   "cell_type": "code",
   "execution_count": 59,
   "metadata": {},
   "outputs": [
    {
     "data": {
      "text/plain": [
       "(0.8129322326469895, 0.3673931336417935, 0.0005178529339102678)"
      ]
     },
     "execution_count": 59,
     "metadata": {},
     "output_type": "execute_result"
    }
   ],
   "source": [
    "all_movie_data = all_recent.dropna()\n",
    "X = all_movie_data[[\"runtime_minutes\"]]\n",
    "y = all_movie_data[\"return_on_investment\"]\n",
    "model = sm.OLS(endog=y, exog=sm.add_constant(X))\n",
    "results = model.fit()\n",
    "results.fvalue, results.f_pvalue, results.rsquared"
   ]
  },
  {
   "cell_type": "code",
   "execution_count": 60,
   "metadata": {},
   "outputs": [
    {
     "data": {
      "text/plain": [
       "count    1571.000000\n",
       "mean      105.696372\n",
       "std        18.236978\n",
       "min        45.000000\n",
       "25%        93.000000\n",
       "50%       103.000000\n",
       "75%       116.000000\n",
       "max       180.000000\n",
       "Name: runtime_minutes, dtype: float64"
      ]
     },
     "execution_count": 60,
     "metadata": {},
     "output_type": "execute_result"
    }
   ],
   "source": [
    "all_movie_data['runtime_minutes'].describe()"
   ]
  },
  {
   "cell_type": "code",
   "execution_count": 70,
   "metadata": {},
   "outputs": [],
   "source": [
    "sweet_spot=all_recent.loc[(all_movie_data['runtime_minutes'])>85 & (all_movie_data['runtime_minutes']<115)]"
   ]
  },
  {
   "cell_type": "code",
   "execution_count": 71,
   "metadata": {},
   "outputs": [],
   "source": [
    "under=all_recent.loc[all_movie_data['runtime_minutes']<=85]"
   ]
  },
  {
   "cell_type": "code",
   "execution_count": 72,
   "metadata": {},
   "outputs": [],
   "source": [
    "over=all_recent.loc[all_movie_data['runtime_minutes']>=115]"
   ]
  },
  {
   "cell_type": "code",
   "execution_count": 73,
   "metadata": {},
   "outputs": [
    {
     "data": {
      "text/plain": [
       "F_onewayResult(statistic=3.731581386563871, pvalue=0.024111012841501328)"
      ]
     },
     "execution_count": 73,
     "metadata": {},
     "output_type": "execute_result"
    }
   ],
   "source": [
    "alpha=.05\n",
    "groups = (sweet_spot['return_on_investment'], under['return_on_investment'], over['return_on_investment'])\n",
    "result = stats.f_oneway(*groups)\n",
    "f_stat, p = result\n",
    "result"
   ]
  },
  {
   "cell_type": "code",
   "execution_count": 74,
   "metadata": {},
   "outputs": [
    {
     "data": {
      "text/plain": [
       "True"
      ]
     },
     "execution_count": 74,
     "metadata": {},
     "output_type": "execute_result"
    }
   ],
   "source": [
    "p<alpha"
   ]
  },
  {
   "cell_type": "code",
   "execution_count": 86,
   "metadata": {},
   "outputs": [
    {
     "ename": "TypeError",
     "evalue": "'DataFrame' objects are mutable, thus they cannot be hashed",
     "output_type": "error",
     "traceback": [
      "\u001b[0;31m---------------------------------------------------------------------------\u001b[0m",
      "\u001b[0;31mTypeError\u001b[0m                                 Traceback (most recent call last)",
      "\u001b[0;32m<ipython-input-86-fdd7e9cdf8cf>\u001b[0m in \u001b[0;36m<module>\u001b[0;34m\u001b[0m\n\u001b[0;32m----> 1\u001b[0;31m \u001b[0mall_recent\u001b[0m\u001b[0;34m[\u001b[0m\u001b[0;34m'runtime'\u001b[0m\u001b[0;34m]\u001b[0m\u001b[0;34m=\u001b[0m\u001b[0;34m{\u001b[0m\u001b[0msweet_spot\u001b[0m\u001b[0;34m:\u001b[0m \u001b[0;34m'sweet_spot'\u001b[0m\u001b[0;34m,\u001b[0m \u001b[0munder\u001b[0m\u001b[0;34m:\u001b[0m \u001b[0;34m'under'\u001b[0m\u001b[0;34m,\u001b[0m \u001b[0mover\u001b[0m\u001b[0;34m:\u001b[0m \u001b[0;34m'over'\u001b[0m\u001b[0;34m}\u001b[0m\u001b[0;34m\u001b[0m\u001b[0;34m\u001b[0m\u001b[0m\n\u001b[0m",
      "\u001b[0;32m~/anaconda3/envs/learn-env/lib/python3.8/site-packages/pandas/core/generic.py\u001b[0m in \u001b[0;36m__hash__\u001b[0;34m(self)\u001b[0m\n\u001b[1;32m   1666\u001b[0m \u001b[0;34m\u001b[0m\u001b[0m\n\u001b[1;32m   1667\u001b[0m     \u001b[0;32mdef\u001b[0m \u001b[0m__hash__\u001b[0m\u001b[0;34m(\u001b[0m\u001b[0mself\u001b[0m\u001b[0;34m)\u001b[0m\u001b[0;34m:\u001b[0m\u001b[0;34m\u001b[0m\u001b[0;34m\u001b[0m\u001b[0m\n\u001b[0;32m-> 1668\u001b[0;31m         raise TypeError(\n\u001b[0m\u001b[1;32m   1669\u001b[0m             \u001b[0;34mf\"{repr(type(self).__name__)} objects are mutable, \"\u001b[0m\u001b[0;34m\u001b[0m\u001b[0;34m\u001b[0m\u001b[0m\n\u001b[1;32m   1670\u001b[0m             \u001b[0;34mf\"thus they cannot be hashed\"\u001b[0m\u001b[0;34m\u001b[0m\u001b[0;34m\u001b[0m\u001b[0m\n",
      "\u001b[0;31mTypeError\u001b[0m: 'DataFrame' objects are mutable, thus they cannot be hashed"
     ]
    }
   ],
   "source": [
    "all_recent['runtime']={sweet_spot: 'sweet_spot', under: 'under', over: 'over'}"
   ]
  },
  {
   "cell_type": "code",
   "execution_count": null,
   "metadata": {},
   "outputs": [],
   "source": []
  }
 ],
 "metadata": {
  "kernelspec": {
   "display_name": "Python 3",
   "language": "python",
   "name": "python3"
  },
  "language_info": {
   "codemirror_mode": {
    "name": "ipython",
    "version": 3
   },
   "file_extension": ".py",
   "mimetype": "text/x-python",
   "name": "python",
   "nbconvert_exporter": "python",
   "pygments_lexer": "ipython3",
   "version": "3.8.5"
  }
 },
 "nbformat": 4,
 "nbformat_minor": 2
}
