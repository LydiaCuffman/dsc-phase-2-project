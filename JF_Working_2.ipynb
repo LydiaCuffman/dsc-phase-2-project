{
 "cells": [
  {
   "cell_type": "markdown",
   "metadata": {},
   "source": [
    "# Cleaning Budget Dataset"
   ]
  },
  {
   "cell_type": "code",
   "execution_count": 1,
   "metadata": {},
   "outputs": [],
   "source": [
    "import pandas as pd\n",
    "import numpy as np\n",
    "from matplotlib import pyplot as plt\n",
    "from mpl_toolkits.mplot3d import Axes3D\n",
    "from random import gauss, seed\n",
    "from scipy import stats\n",
    "import seaborn as sns\n",
    "from mpl_toolkits import mplot3d\n",
    "import sklearn.metrics as metrics\n",
    "import statsmodels.api as sm\n",
    "\n",
    "\n",
    "%matplotlib inline"
   ]
  },
  {
   "cell_type": "code",
   "execution_count": 2,
   "metadata": {},
   "outputs": [],
   "source": [
    "#from lin_reg import best_line"
   ]
  },
  {
   "cell_type": "code",
   "execution_count": 3,
   "metadata": {},
   "outputs": [],
   "source": [
    "budget = pd.read_csv('zippedData/tn.movie_budgets.csv')"
   ]
  },
  {
   "cell_type": "code",
   "execution_count": 4,
   "metadata": {},
   "outputs": [],
   "source": [
    "#change dates to datetime objects\n",
    "budget['release_date'] = pd.to_datetime(budget['release_date'])"
   ]
  },
  {
   "cell_type": "code",
   "execution_count": 5,
   "metadata": {},
   "outputs": [],
   "source": [
    "#remove commas from gross figures\n",
    "budget = budget.replace(',','', regex=True)"
   ]
  },
  {
   "cell_type": "code",
   "execution_count": 6,
   "metadata": {},
   "outputs": [],
   "source": [
    "#make this one line if possible\n",
    "budget['production_budget']= budget['production_budget'].str[1:]\n",
    "budget['domestic_gross'] = budget['domestic_gross'].str[1:]\n",
    "budget['worldwide_gross'] = budget['worldwide_gross'].str[1:]"
   ]
  },
  {
   "cell_type": "code",
   "execution_count": 7,
   "metadata": {},
   "outputs": [],
   "source": [
    "budget[['production_budget', 'domestic_gross', 'worldwide_gross']]= budget[['production_budget', 'domestic_gross', 'worldwide_gross']].astype(int)"
   ]
  },
  {
   "cell_type": "code",
   "execution_count": 8,
   "metadata": {},
   "outputs": [
    {
     "name": "stdout",
     "output_type": "stream",
     "text": [
      "<class 'pandas.core.frame.DataFrame'>\n",
      "RangeIndex: 5782 entries, 0 to 5781\n",
      "Data columns (total 6 columns):\n",
      " #   Column             Non-Null Count  Dtype         \n",
      "---  ------             --------------  -----         \n",
      " 0   id                 5782 non-null   int64         \n",
      " 1   release_date       5782 non-null   datetime64[ns]\n",
      " 2   movie              5782 non-null   object        \n",
      " 3   production_budget  5782 non-null   int64         \n",
      " 4   domestic_gross     5782 non-null   int64         \n",
      " 5   worldwide_gross    5782 non-null   int64         \n",
      "dtypes: datetime64[ns](1), int64(4), object(1)\n",
      "memory usage: 271.2+ KB\n"
     ]
    }
   ],
   "source": [
    "budget.info()"
   ]
  },
  {
   "cell_type": "code",
   "execution_count": 9,
   "metadata": {},
   "outputs": [],
   "source": [
    "#Create a new column to determine how much a movie made against its budget\n",
    "budget[\"return_on_investment\"]= budget['worldwide_gross']/budget['production_budget']\n"
   ]
  },
  {
   "cell_type": "code",
   "execution_count": 10,
   "metadata": {},
   "outputs": [
    {
     "name": "stdout",
     "output_type": "stream",
     "text": [
      "<class 'pandas.core.frame.DataFrame'>\n",
      "Int64Index: 1920 entries, 1 to 5780\n",
      "Data columns (total 8 columns):\n",
      " #   Column                Non-Null Count  Dtype         \n",
      "---  ------                --------------  -----         \n",
      " 0   id                    1920 non-null   int64         \n",
      " 1   release_date          1920 non-null   datetime64[ns]\n",
      " 2   movie                 1920 non-null   object        \n",
      " 3   production_budget     1920 non-null   int64         \n",
      " 4   domestic_gross        1920 non-null   int64         \n",
      " 5   worldwide_gross       1920 non-null   int64         \n",
      " 6   return_on_investment  1920 non-null   float64       \n",
      " 7   year                  1920 non-null   int64         \n",
      "dtypes: datetime64[ns](1), float64(1), int64(5), object(1)\n",
      "memory usage: 135.0+ KB\n"
     ]
    }
   ],
   "source": [
    "budget['year'] = budget['release_date'].dt.year\n",
    "budget_recent = budget.loc[budget['year']>2010]\n",
    "budget_recent.info()"
   ]
  },
  {
   "cell_type": "markdown",
   "metadata": {},
   "source": [
    "# Merge with IMDB"
   ]
  },
  {
   "cell_type": "code",
   "execution_count": 11,
   "metadata": {},
   "outputs": [],
   "source": [
    "#imports and connect to SQL\n",
    "import pandas as pd\n",
    "import sqlite3\n",
    "import pandasql\n",
    "import matplotlib.pyplot as plt\n",
    "\n",
    "\n",
    "conn = sqlite3.connect('zippedData/im.db')"
   ]
  },
  {
   "cell_type": "code",
   "execution_count": 12,
   "metadata": {},
   "outputs": [],
   "source": [
    "#creating a dataframe with the info we want to take from the imdb database\n",
    "imdb_ratings = pd.read_sql(\n",
    "    \"\"\"\n",
    "    SELECT basics.movie_id, basics.primary_title, basics.original_title, basics.runtime_minutes, basics.genres, ratings.averagerating, ratings.numvotes\n",
    "    FROM movie_basics as basics\n",
    "        JOIN movie_ratings as ratings\n",
    "            USING(movie_id)\n",
    "    \"\"\", conn\n",
    ")"
   ]
  },
  {
   "cell_type": "code",
   "execution_count": 13,
   "metadata": {},
   "outputs": [],
   "source": [
    "budget_cleaned = budget_recent"
   ]
  },
  {
   "cell_type": "code",
   "execution_count": 14,
   "metadata": {},
   "outputs": [],
   "source": [
    "#removing duplicates from the movie title column in each dataframe before merging them\n",
    "imdb_ratings = imdb_ratings.drop_duplicates(subset=['primary_title'])\n",
    "budget_cleaned = budget_cleaned.drop_duplicates(subset=['movie'])\n"
   ]
  },
  {
   "cell_type": "code",
   "execution_count": 15,
   "metadata": {},
   "outputs": [],
   "source": [
    "all_movie_data = pd.merge(budget_cleaned, imdb_ratings, left_on='movie', right_on='primary_title', how='inner')\n"
   ]
  },
  {
   "cell_type": "code",
   "execution_count": 16,
   "metadata": {},
   "outputs": [
    {
     "data": {
      "text/plain": [
       "False    1591\n",
       "Name: movie, dtype: int64"
      ]
     },
     "execution_count": 16,
     "metadata": {},
     "output_type": "execute_result"
    }
   ],
   "source": [
    "#duplicates sanity check\n",
    "all_movie_data['movie'].duplicated().value_counts()"
   ]
  },
  {
   "cell_type": "code",
   "execution_count": 17,
   "metadata": {},
   "outputs": [],
   "source": [
    "#shortening df name\n",
    "df_all = all_movie_data"
   ]
  },
  {
   "cell_type": "code",
   "execution_count": 18,
   "metadata": {},
   "outputs": [],
   "source": [
    "#dropping significant outliers\n",
    "df_all.drop(df_all[df_all['return_on_investment'] == 416.564740].index, inplace = True)\n",
    "df_all.drop(df_all[df_all['return_on_investment'] == 101.759490].index, inplace = True)"
   ]
  },
  {
   "cell_type": "code",
   "execution_count": 19,
   "metadata": {},
   "outputs": [
    {
     "data": {
      "text/html": [
       "<div>\n",
       "<style scoped>\n",
       "    .dataframe tbody tr th:only-of-type {\n",
       "        vertical-align: middle;\n",
       "    }\n",
       "\n",
       "    .dataframe tbody tr th {\n",
       "        vertical-align: top;\n",
       "    }\n",
       "\n",
       "    .dataframe thead th {\n",
       "        text-align: right;\n",
       "    }\n",
       "</style>\n",
       "<table border=\"1\" class=\"dataframe\">\n",
       "  <thead>\n",
       "    <tr style=\"text-align: right;\">\n",
       "      <th></th>\n",
       "      <th>id</th>\n",
       "      <th>production_budget</th>\n",
       "      <th>domestic_gross</th>\n",
       "      <th>worldwide_gross</th>\n",
       "      <th>return_on_investment</th>\n",
       "      <th>year</th>\n",
       "      <th>runtime_minutes</th>\n",
       "      <th>averagerating</th>\n",
       "      <th>numvotes</th>\n",
       "    </tr>\n",
       "  </thead>\n",
       "  <tbody>\n",
       "    <tr>\n",
       "      <th>count</th>\n",
       "      <td>1589.000000</td>\n",
       "      <td>1.589000e+03</td>\n",
       "      <td>1.589000e+03</td>\n",
       "      <td>1.589000e+03</td>\n",
       "      <td>1589.000000</td>\n",
       "      <td>1589.000000</td>\n",
       "      <td>1571.000000</td>\n",
       "      <td>1589.000000</td>\n",
       "      <td>1.589000e+03</td>\n",
       "    </tr>\n",
       "    <tr>\n",
       "      <th>mean</th>\n",
       "      <td>51.257395</td>\n",
       "      <td>3.889587e+07</td>\n",
       "      <td>4.800190e+07</td>\n",
       "      <td>1.218683e+08</td>\n",
       "      <td>3.095342</td>\n",
       "      <td>2014.351164</td>\n",
       "      <td>105.689370</td>\n",
       "      <td>6.239144</td>\n",
       "      <td>9.581992e+04</td>\n",
       "    </tr>\n",
       "    <tr>\n",
       "      <th>std</th>\n",
       "      <td>28.658742</td>\n",
       "      <td>5.392720e+07</td>\n",
       "      <td>8.154174e+07</td>\n",
       "      <td>2.244646e+08</td>\n",
       "      <td>5.302282</td>\n",
       "      <td>2.238608</td>\n",
       "      <td>18.251715</td>\n",
       "      <td>1.108146</td>\n",
       "      <td>1.504320e+05</td>\n",
       "    </tr>\n",
       "    <tr>\n",
       "      <th>min</th>\n",
       "      <td>1.000000</td>\n",
       "      <td>1.400000e+03</td>\n",
       "      <td>0.000000e+00</td>\n",
       "      <td>0.000000e+00</td>\n",
       "      <td>0.000000</td>\n",
       "      <td>2011.000000</td>\n",
       "      <td>45.000000</td>\n",
       "      <td>1.600000</td>\n",
       "      <td>5.000000e+00</td>\n",
       "    </tr>\n",
       "    <tr>\n",
       "      <th>25%</th>\n",
       "      <td>27.000000</td>\n",
       "      <td>4.750000e+06</td>\n",
       "      <td>2.526760e+05</td>\n",
       "      <td>1.578543e+06</td>\n",
       "      <td>0.280514</td>\n",
       "      <td>2012.000000</td>\n",
       "      <td>93.000000</td>\n",
       "      <td>5.600000</td>\n",
       "      <td>4.729000e+03</td>\n",
       "    </tr>\n",
       "    <tr>\n",
       "      <th>50%</th>\n",
       "      <td>51.000000</td>\n",
       "      <td>1.800000e+07</td>\n",
       "      <td>1.739077e+07</td>\n",
       "      <td>3.424677e+07</td>\n",
       "      <td>1.697018</td>\n",
       "      <td>2014.000000</td>\n",
       "      <td>103.000000</td>\n",
       "      <td>6.400000</td>\n",
       "      <td>3.942200e+04</td>\n",
       "    </tr>\n",
       "    <tr>\n",
       "      <th>75%</th>\n",
       "      <td>76.000000</td>\n",
       "      <td>4.500000e+07</td>\n",
       "      <td>5.644312e+07</td>\n",
       "      <td>1.267046e+08</td>\n",
       "      <td>3.741194</td>\n",
       "      <td>2016.000000</td>\n",
       "      <td>116.000000</td>\n",
       "      <td>7.000000</td>\n",
       "      <td>1.157930e+05</td>\n",
       "    </tr>\n",
       "    <tr>\n",
       "      <th>max</th>\n",
       "      <td>100.000000</td>\n",
       "      <td>4.106000e+08</td>\n",
       "      <td>7.000596e+08</td>\n",
       "      <td>2.048134e+09</td>\n",
       "      <td>66.580591</td>\n",
       "      <td>2019.000000</td>\n",
       "      <td>180.000000</td>\n",
       "      <td>9.200000</td>\n",
       "      <td>1.387769e+06</td>\n",
       "    </tr>\n",
       "  </tbody>\n",
       "</table>\n",
       "</div>"
      ],
      "text/plain": [
       "                id  production_budget  domestic_gross  worldwide_gross  \\\n",
       "count  1589.000000       1.589000e+03    1.589000e+03     1.589000e+03   \n",
       "mean     51.257395       3.889587e+07    4.800190e+07     1.218683e+08   \n",
       "std      28.658742       5.392720e+07    8.154174e+07     2.244646e+08   \n",
       "min       1.000000       1.400000e+03    0.000000e+00     0.000000e+00   \n",
       "25%      27.000000       4.750000e+06    2.526760e+05     1.578543e+06   \n",
       "50%      51.000000       1.800000e+07    1.739077e+07     3.424677e+07   \n",
       "75%      76.000000       4.500000e+07    5.644312e+07     1.267046e+08   \n",
       "max     100.000000       4.106000e+08    7.000596e+08     2.048134e+09   \n",
       "\n",
       "       return_on_investment         year  runtime_minutes  averagerating  \\\n",
       "count           1589.000000  1589.000000      1571.000000    1589.000000   \n",
       "mean               3.095342  2014.351164       105.689370       6.239144   \n",
       "std                5.302282     2.238608        18.251715       1.108146   \n",
       "min                0.000000  2011.000000        45.000000       1.600000   \n",
       "25%                0.280514  2012.000000        93.000000       5.600000   \n",
       "50%                1.697018  2014.000000       103.000000       6.400000   \n",
       "75%                3.741194  2016.000000       116.000000       7.000000   \n",
       "max               66.580591  2019.000000       180.000000       9.200000   \n",
       "\n",
       "           numvotes  \n",
       "count  1.589000e+03  \n",
       "mean   9.581992e+04  \n",
       "std    1.504320e+05  \n",
       "min    5.000000e+00  \n",
       "25%    4.729000e+03  \n",
       "50%    3.942200e+04  \n",
       "75%    1.157930e+05  \n",
       "max    1.387769e+06  "
      ]
     },
     "execution_count": 19,
     "metadata": {},
     "output_type": "execute_result"
    }
   ],
   "source": [
    "df_all.describe()"
   ]
  },
  {
   "cell_type": "code",
   "execution_count": 20,
   "metadata": {},
   "outputs": [
    {
     "data": {
      "text/html": [
       "<div>\n",
       "<style scoped>\n",
       "    .dataframe tbody tr th:only-of-type {\n",
       "        vertical-align: middle;\n",
       "    }\n",
       "\n",
       "    .dataframe tbody tr th {\n",
       "        vertical-align: top;\n",
       "    }\n",
       "\n",
       "    .dataframe thead th {\n",
       "        text-align: right;\n",
       "    }\n",
       "</style>\n",
       "<table border=\"1\" class=\"dataframe\">\n",
       "  <thead>\n",
       "    <tr style=\"text-align: right;\">\n",
       "      <th></th>\n",
       "      <th>id</th>\n",
       "      <th>release_date</th>\n",
       "      <th>movie</th>\n",
       "      <th>production_budget</th>\n",
       "      <th>domestic_gross</th>\n",
       "      <th>worldwide_gross</th>\n",
       "      <th>return_on_investment</th>\n",
       "      <th>year</th>\n",
       "      <th>movie_id</th>\n",
       "      <th>primary_title</th>\n",
       "      <th>original_title</th>\n",
       "      <th>runtime_minutes</th>\n",
       "      <th>genres</th>\n",
       "      <th>averagerating</th>\n",
       "      <th>numvotes</th>\n",
       "      <th>budget_tier</th>\n",
       "    </tr>\n",
       "  </thead>\n",
       "  <tbody>\n",
       "    <tr>\n",
       "      <th>0</th>\n",
       "      <td>2</td>\n",
       "      <td>2011-05-20</td>\n",
       "      <td>Pirates of the Caribbean: On Stranger Tides</td>\n",
       "      <td>410600000</td>\n",
       "      <td>241063875</td>\n",
       "      <td>1045663875</td>\n",
       "      <td>2.546673</td>\n",
       "      <td>2011</td>\n",
       "      <td>tt1298650</td>\n",
       "      <td>Pirates of the Caribbean: On Stranger Tides</td>\n",
       "      <td>Pirates of the Caribbean: On Stranger Tides</td>\n",
       "      <td>136.0</td>\n",
       "      <td>Action,Adventure,Fantasy</td>\n",
       "      <td>6.6</td>\n",
       "      <td>447624</td>\n",
       "      <td>tier_4</td>\n",
       "    </tr>\n",
       "    <tr>\n",
       "      <th>1</th>\n",
       "      <td>3</td>\n",
       "      <td>2019-06-07</td>\n",
       "      <td>Dark Phoenix</td>\n",
       "      <td>350000000</td>\n",
       "      <td>42762350</td>\n",
       "      <td>149762350</td>\n",
       "      <td>0.427892</td>\n",
       "      <td>2019</td>\n",
       "      <td>tt6565702</td>\n",
       "      <td>Dark Phoenix</td>\n",
       "      <td>Dark Phoenix</td>\n",
       "      <td>113.0</td>\n",
       "      <td>Action,Adventure,Sci-Fi</td>\n",
       "      <td>6.0</td>\n",
       "      <td>24451</td>\n",
       "      <td>tier_4</td>\n",
       "    </tr>\n",
       "    <tr>\n",
       "      <th>2</th>\n",
       "      <td>4</td>\n",
       "      <td>2015-05-01</td>\n",
       "      <td>Avengers: Age of Ultron</td>\n",
       "      <td>330600000</td>\n",
       "      <td>459005868</td>\n",
       "      <td>1403013963</td>\n",
       "      <td>4.243841</td>\n",
       "      <td>2015</td>\n",
       "      <td>tt2395427</td>\n",
       "      <td>Avengers: Age of Ultron</td>\n",
       "      <td>Avengers: Age of Ultron</td>\n",
       "      <td>141.0</td>\n",
       "      <td>Action,Adventure,Sci-Fi</td>\n",
       "      <td>7.3</td>\n",
       "      <td>665594</td>\n",
       "      <td>tier_4</td>\n",
       "    </tr>\n",
       "    <tr>\n",
       "      <th>3</th>\n",
       "      <td>7</td>\n",
       "      <td>2018-04-27</td>\n",
       "      <td>Avengers: Infinity War</td>\n",
       "      <td>300000000</td>\n",
       "      <td>678815482</td>\n",
       "      <td>2048134200</td>\n",
       "      <td>6.827114</td>\n",
       "      <td>2018</td>\n",
       "      <td>tt4154756</td>\n",
       "      <td>Avengers: Infinity War</td>\n",
       "      <td>Avengers: Infinity War</td>\n",
       "      <td>149.0</td>\n",
       "      <td>Action,Adventure,Sci-Fi</td>\n",
       "      <td>8.5</td>\n",
       "      <td>670926</td>\n",
       "      <td>tier_4</td>\n",
       "    </tr>\n",
       "    <tr>\n",
       "      <th>4</th>\n",
       "      <td>9</td>\n",
       "      <td>2017-11-17</td>\n",
       "      <td>Justice League</td>\n",
       "      <td>300000000</td>\n",
       "      <td>229024295</td>\n",
       "      <td>655945209</td>\n",
       "      <td>2.186484</td>\n",
       "      <td>2017</td>\n",
       "      <td>tt0974015</td>\n",
       "      <td>Justice League</td>\n",
       "      <td>Justice League</td>\n",
       "      <td>120.0</td>\n",
       "      <td>Action,Adventure,Fantasy</td>\n",
       "      <td>6.5</td>\n",
       "      <td>329135</td>\n",
       "      <td>tier_4</td>\n",
       "    </tr>\n",
       "    <tr>\n",
       "      <th>...</th>\n",
       "      <td>...</td>\n",
       "      <td>...</td>\n",
       "      <td>...</td>\n",
       "      <td>...</td>\n",
       "      <td>...</td>\n",
       "      <td>...</td>\n",
       "      <td>...</td>\n",
       "      <td>...</td>\n",
       "      <td>...</td>\n",
       "      <td>...</td>\n",
       "      <td>...</td>\n",
       "      <td>...</td>\n",
       "      <td>...</td>\n",
       "      <td>...</td>\n",
       "      <td>...</td>\n",
       "      <td>...</td>\n",
       "    </tr>\n",
       "    <tr>\n",
       "      <th>1586</th>\n",
       "      <td>59</td>\n",
       "      <td>2011-11-25</td>\n",
       "      <td>The Ridges</td>\n",
       "      <td>17300</td>\n",
       "      <td>0</td>\n",
       "      <td>0</td>\n",
       "      <td>0.000000</td>\n",
       "      <td>2011</td>\n",
       "      <td>tt1781935</td>\n",
       "      <td>The Ridges</td>\n",
       "      <td>The Ridges</td>\n",
       "      <td>89.0</td>\n",
       "      <td>Drama,Horror,Thriller</td>\n",
       "      <td>2.9</td>\n",
       "      <td>127</td>\n",
       "      <td>tier_1</td>\n",
       "    </tr>\n",
       "    <tr>\n",
       "      <th>1587</th>\n",
       "      <td>62</td>\n",
       "      <td>2014-12-31</td>\n",
       "      <td>Stories of Our Lives</td>\n",
       "      <td>15000</td>\n",
       "      <td>0</td>\n",
       "      <td>0</td>\n",
       "      <td>0.000000</td>\n",
       "      <td>2014</td>\n",
       "      <td>tt3973612</td>\n",
       "      <td>Stories of Our Lives</td>\n",
       "      <td>Stories of Our Lives</td>\n",
       "      <td>60.0</td>\n",
       "      <td>Drama</td>\n",
       "      <td>7.5</td>\n",
       "      <td>85</td>\n",
       "      <td>tier_1</td>\n",
       "    </tr>\n",
       "    <tr>\n",
       "      <th>1588</th>\n",
       "      <td>73</td>\n",
       "      <td>2012-01-13</td>\n",
       "      <td>Newlyweds</td>\n",
       "      <td>9000</td>\n",
       "      <td>4584</td>\n",
       "      <td>4584</td>\n",
       "      <td>0.509333</td>\n",
       "      <td>2012</td>\n",
       "      <td>tt1880418</td>\n",
       "      <td>Newlyweds</td>\n",
       "      <td>Newlyweds</td>\n",
       "      <td>95.0</td>\n",
       "      <td>Comedy,Drama</td>\n",
       "      <td>6.4</td>\n",
       "      <td>1436</td>\n",
       "      <td>tier_1</td>\n",
       "    </tr>\n",
       "    <tr>\n",
       "      <th>1589</th>\n",
       "      <td>78</td>\n",
       "      <td>2018-12-31</td>\n",
       "      <td>Red 11</td>\n",
       "      <td>7000</td>\n",
       "      <td>0</td>\n",
       "      <td>0</td>\n",
       "      <td>0.000000</td>\n",
       "      <td>2018</td>\n",
       "      <td>tt7837402</td>\n",
       "      <td>Red 11</td>\n",
       "      <td>Red 11</td>\n",
       "      <td>77.0</td>\n",
       "      <td>Horror,Sci-Fi,Thriller</td>\n",
       "      <td>5.6</td>\n",
       "      <td>43</td>\n",
       "      <td>tier_1</td>\n",
       "    </tr>\n",
       "    <tr>\n",
       "      <th>1590</th>\n",
       "      <td>81</td>\n",
       "      <td>2015-09-29</td>\n",
       "      <td>A Plague So Pleasant</td>\n",
       "      <td>1400</td>\n",
       "      <td>0</td>\n",
       "      <td>0</td>\n",
       "      <td>0.000000</td>\n",
       "      <td>2015</td>\n",
       "      <td>tt2107644</td>\n",
       "      <td>A Plague So Pleasant</td>\n",
       "      <td>A Plague So Pleasant</td>\n",
       "      <td>76.0</td>\n",
       "      <td>Drama,Horror,Thriller</td>\n",
       "      <td>5.4</td>\n",
       "      <td>72</td>\n",
       "      <td>tier_1</td>\n",
       "    </tr>\n",
       "  </tbody>\n",
       "</table>\n",
       "<p>1589 rows × 16 columns</p>\n",
       "</div>"
      ],
      "text/plain": [
       "      id release_date                                        movie  \\\n",
       "0      2   2011-05-20  Pirates of the Caribbean: On Stranger Tides   \n",
       "1      3   2019-06-07                                 Dark Phoenix   \n",
       "2      4   2015-05-01                      Avengers: Age of Ultron   \n",
       "3      7   2018-04-27                       Avengers: Infinity War   \n",
       "4      9   2017-11-17                               Justice League   \n",
       "...   ..          ...                                          ...   \n",
       "1586  59   2011-11-25                                   The Ridges   \n",
       "1587  62   2014-12-31                         Stories of Our Lives   \n",
       "1588  73   2012-01-13                                    Newlyweds   \n",
       "1589  78   2018-12-31                                       Red 11   \n",
       "1590  81   2015-09-29                         A Plague So Pleasant   \n",
       "\n",
       "      production_budget  domestic_gross  worldwide_gross  \\\n",
       "0             410600000       241063875       1045663875   \n",
       "1             350000000        42762350        149762350   \n",
       "2             330600000       459005868       1403013963   \n",
       "3             300000000       678815482       2048134200   \n",
       "4             300000000       229024295        655945209   \n",
       "...                 ...             ...              ...   \n",
       "1586              17300               0                0   \n",
       "1587              15000               0                0   \n",
       "1588               9000            4584             4584   \n",
       "1589               7000               0                0   \n",
       "1590               1400               0                0   \n",
       "\n",
       "      return_on_investment  year   movie_id  \\\n",
       "0                 2.546673  2011  tt1298650   \n",
       "1                 0.427892  2019  tt6565702   \n",
       "2                 4.243841  2015  tt2395427   \n",
       "3                 6.827114  2018  tt4154756   \n",
       "4                 2.186484  2017  tt0974015   \n",
       "...                    ...   ...        ...   \n",
       "1586              0.000000  2011  tt1781935   \n",
       "1587              0.000000  2014  tt3973612   \n",
       "1588              0.509333  2012  tt1880418   \n",
       "1589              0.000000  2018  tt7837402   \n",
       "1590              0.000000  2015  tt2107644   \n",
       "\n",
       "                                    primary_title  \\\n",
       "0     Pirates of the Caribbean: On Stranger Tides   \n",
       "1                                    Dark Phoenix   \n",
       "2                         Avengers: Age of Ultron   \n",
       "3                          Avengers: Infinity War   \n",
       "4                                  Justice League   \n",
       "...                                           ...   \n",
       "1586                                   The Ridges   \n",
       "1587                         Stories of Our Lives   \n",
       "1588                                    Newlyweds   \n",
       "1589                                       Red 11   \n",
       "1590                         A Plague So Pleasant   \n",
       "\n",
       "                                   original_title  runtime_minutes  \\\n",
       "0     Pirates of the Caribbean: On Stranger Tides            136.0   \n",
       "1                                    Dark Phoenix            113.0   \n",
       "2                         Avengers: Age of Ultron            141.0   \n",
       "3                          Avengers: Infinity War            149.0   \n",
       "4                                  Justice League            120.0   \n",
       "...                                           ...              ...   \n",
       "1586                                   The Ridges             89.0   \n",
       "1587                         Stories of Our Lives             60.0   \n",
       "1588                                    Newlyweds             95.0   \n",
       "1589                                       Red 11             77.0   \n",
       "1590                         A Plague So Pleasant             76.0   \n",
       "\n",
       "                        genres  averagerating  numvotes budget_tier  \n",
       "0     Action,Adventure,Fantasy            6.6    447624      tier_4  \n",
       "1      Action,Adventure,Sci-Fi            6.0     24451      tier_4  \n",
       "2      Action,Adventure,Sci-Fi            7.3    665594      tier_4  \n",
       "3      Action,Adventure,Sci-Fi            8.5    670926      tier_4  \n",
       "4     Action,Adventure,Fantasy            6.5    329135      tier_4  \n",
       "...                        ...            ...       ...         ...  \n",
       "1586     Drama,Horror,Thriller            2.9       127      tier_1  \n",
       "1587                     Drama            7.5        85      tier_1  \n",
       "1588              Comedy,Drama            6.4      1436      tier_1  \n",
       "1589    Horror,Sci-Fi,Thriller            5.6        43      tier_1  \n",
       "1590     Drama,Horror,Thriller            5.4        72      tier_1  \n",
       "\n",
       "[1589 rows x 16 columns]"
      ]
     },
     "execution_count": 20,
     "metadata": {},
     "output_type": "execute_result"
    }
   ],
   "source": [
    "#create a list of our conditions\n",
    "conditions = [\n",
    "    (df_all['production_budget'] <= 4750000),\n",
    "    (df_all['production_budget'] > 4750000) & (df_all['production_budget'] <= 18000000),\n",
    "    (df_all['production_budget'] > 18000000) & (df_all['production_budget'] <= 45000000),\n",
    "    (df_all['production_budget'] > 45000000)]\n",
    "\n",
    "#create a list of the values we want to assign for each condition\n",
    "values = ['tier_1', 'tier_2', 'tier_3', 'tier_4']\n",
    "\n",
    "#create a new column and use np.select to assign values to it using our lists as arguments\n",
    "df_all['budget_tier'] = np.select(conditions, values)\n",
    "df_all"
   ]
  },
  {
   "cell_type": "code",
   "execution_count": 21,
   "metadata": {},
   "outputs": [],
   "source": [
    "tier4 = df_all.loc[df_all['budget_tier'] == 'tier_4']\n",
    "tier3 = df_all.loc[df_all['budget_tier'] == 'tier_3']\n",
    "tier2 = df_all.loc[df_all['budget_tier'] == 'tier_2']\n",
    "tier1 = df_all.loc[df_all['budget_tier'] == 'tier_1']"
   ]
  },
  {
   "cell_type": "code",
   "execution_count": 22,
   "metadata": {},
   "outputs": [
    {
     "data": {
      "text/plain": [
       "count    397.000000\n",
       "mean       3.147929\n",
       "std        2.361857\n",
       "min        0.000000\n",
       "25%        1.526461\n",
       "50%        2.627944\n",
       "75%        4.147805\n",
       "max       16.272461\n",
       "Name: return_on_investment, dtype: float64"
      ]
     },
     "execution_count": 22,
     "metadata": {},
     "output_type": "execute_result"
    }
   ],
   "source": [
    "tier4['return_on_investment'].describe()"
   ]
  },
  {
   "cell_type": "code",
   "execution_count": 23,
   "metadata": {},
   "outputs": [
    {
     "data": {
      "image/png": "[encoded data removed]",
      "text/plain": [
       "<Figure size 432x288 with 1 Axes>"
      ]
     },
     "metadata": {
      "needs_background": "light"
     },
     "output_type": "display_data"
    }
   ],
   "source": [
    "sns.kdeplot(tier4['return_on_investment']);"
   ]
  },
  {
   "cell_type": "code",
   "execution_count": 24,
   "metadata": {},
   "outputs": [
    {
     "data": {
      "text/plain": [
       "count    396.000000\n",
       "mean       2.652520\n",
       "std        2.944113\n",
       "min        0.000000\n",
       "25%        0.779385\n",
       "50%        1.864468\n",
       "75%        3.304330\n",
       "max       21.317558\n",
       "Name: return_on_investment, dtype: float64"
      ]
     },
     "execution_count": 24,
     "metadata": {},
     "output_type": "execute_result"
    }
   ],
   "source": [
    "tier3['return_on_investment'].describe()"
   ]
  },
  {
   "cell_type": "code",
   "execution_count": 25,
   "metadata": {},
   "outputs": [
    {
     "data": {
      "image/png": "[encoded data removed]",
      "text/plain": [
       "<Figure size 432x288 with 1 Axes>"
      ]
     },
     "metadata": {
      "needs_background": "light"
     },
     "output_type": "display_data"
    }
   ],
   "source": [
    "sns.kdeplot(tier3['return_on_investment']);"
   ]
  },
  {
   "cell_type": "code",
   "execution_count": 26,
   "metadata": {},
   "outputs": [
    {
     "data": {
      "text/plain": [
       "count    398.000000\n",
       "mean       3.921896\n",
       "std        6.647254\n",
       "min        0.000000\n",
       "25%        0.326708\n",
       "50%        1.723404\n",
       "75%        5.017671\n",
       "max       55.792961\n",
       "Name: return_on_investment, dtype: float64"
      ]
     },
     "execution_count": 26,
     "metadata": {},
     "output_type": "execute_result"
    }
   ],
   "source": [
    "tier2['return_on_investment'].describe()"
   ]
  },
  {
   "cell_type": "code",
   "execution_count": 27,
   "metadata": {},
   "outputs": [
    {
     "data": {
      "image/png": "[encoded data removed]",
      "text/plain": [
       "<Figure size 432x288 with 1 Axes>"
      ]
     },
     "metadata": {
      "needs_background": "light"
     },
     "output_type": "display_data"
    }
   ],
   "source": [
    "sns.kdeplot(tier2['return_on_investment']);"
   ]
  },
  {
   "cell_type": "code",
   "execution_count": 28,
   "metadata": {},
   "outputs": [
    {
     "data": {
      "text/plain": [
       "count    398.000000\n",
       "mean       2.656931\n",
       "std        7.280549\n",
       "min        0.000000\n",
       "25%        0.000000\n",
       "50%        0.051471\n",
       "75%        1.358549\n",
       "max       66.580591\n",
       "Name: return_on_investment, dtype: float64"
      ]
     },
     "execution_count": 28,
     "metadata": {},
     "output_type": "execute_result"
    }
   ],
   "source": [
    "tier1['return_on_investment'].describe()"
   ]
  },
  {
   "cell_type": "code",
   "execution_count": 29,
   "metadata": {},
   "outputs": [
    {
     "data": {
      "image/png": "[encoded data removed]",
      "text/plain": [
       "<Figure size 432x288 with 1 Axes>"
      ]
     },
     "metadata": {
      "needs_background": "light"
     },
     "output_type": "display_data"
    }
   ],
   "source": [
    "sns.kdeplot(tier1['return_on_investment']);"
   ]
  },
  {
   "cell_type": "markdown",
   "metadata": {},
   "source": [
    "# ANOVA Test"
   ]
  },
  {
   "cell_type": "code",
   "execution_count": 30,
   "metadata": {},
   "outputs": [
    {
     "data": {
      "text/plain": [
       "F_onewayResult(statistic=5.103816845196849, pvalue=0.0016205105429615836)"
      ]
     },
     "execution_count": 30,
     "metadata": {},
     "output_type": "execute_result"
    }
   ],
   "source": [
    "result = stats.f_oneway(tier1['return_on_investment'], tier2['return_on_investment'], \n",
    "                        tier3['return_on_investment'], tier4['return_on_investment'])\n",
    "result"
   ]
  },
  {
   "cell_type": "markdown",
   "metadata": {},
   "source": [
    "## Post-Hoc Test"
   ]
  },
  {
   "cell_type": "code",
   "execution_count": 31,
   "metadata": {},
   "outputs": [],
   "source": [
    "from statsmodels.stats.multicomp import pairwise_tukeyhsd\n"
   ]
  },
  {
   "cell_type": "code",
   "execution_count": 32,
   "metadata": {},
   "outputs": [
    {
     "name": "stdout",
     "output_type": "stream",
     "text": [
      "Multiple Comparison of Means - Tukey HSD, FWER=0.05 \n",
      "====================================================\n",
      "group1 group2 meandiff p-adj   lower   upper  reject\n",
      "----------------------------------------------------\n",
      "tier_1 tier_2    1.265 0.0042   0.302  2.2279   True\n",
      "tier_1 tier_3  -0.0044    0.9 -0.9685  0.9597  False\n",
      "tier_1 tier_4    0.491 0.5497 -0.4725  1.4545  False\n",
      "tier_2 tier_3  -1.2694  0.004 -2.2335 -0.3052   True\n",
      "tier_2 tier_4   -0.774  0.165 -1.7375  0.1896  False\n",
      "tier_3 tier_4   0.4954  0.544 -0.4693  1.4602  False\n",
      "----------------------------------------------------\n"
     ]
    }
   ],
   "source": [
    "print(pairwise_tukeyhsd(df_all['return_on_investment'], df_all['budget_tier']))"
   ]
  },
  {
   "cell_type": "markdown",
   "metadata": {},
   "source": [
    "### Tukey's Pairwise Interpretation\n",
    "\n",
    "1. There is a statistical difference between tier 1 and 2\n",
    "2. There is a statistical difference between tier 2 and 3"
   ]
  },
  {
   "cell_type": "markdown",
   "metadata": {},
   "source": [
    "# Plotting & Regression Line"
   ]
  },
  {
   "cell_type": "code",
   "execution_count": 33,
   "metadata": {},
   "outputs": [
    {
     "name": "stdout",
     "output_type": "stream",
     "text": [
      "3.1479290369456003 2.6525196481174804 3.9218958550630787 2.6569312137411556\n"
     ]
    }
   ],
   "source": [
    "#\n",
    "tier4_roi_mean = df_all.loc[df_all['budget_tier'] == 'tier_4']['return_on_investment'].mean()\n",
    "tier3_roi_mean = df_all.loc[df_all['budget_tier'] == 'tier_3']['return_on_investment'].mean()\n",
    "tier2_roi_mean = df_all.loc[df_all['budget_tier'] == 'tier_2']['return_on_investment'].mean()\n",
    "tier1_roi_mean = df_all.loc[df_all['budget_tier'] == 'tier_1']['return_on_investment'].mean()\n",
    "print(tier4_roi_mean, tier3_roi_mean, tier2_roi_mean, tier1_roi_mean)"
   ]
  },
  {
   "cell_type": "code",
   "execution_count": 34,
   "metadata": {},
   "outputs": [
    {
     "name": "stdout",
     "output_type": "stream",
     "text": [
      "   Tiers  ROI_Mean\n",
      "0      4  3.147929\n",
      "1      3  2.652520\n",
      "2      2  3.921896\n",
      "3      1  2.656931\n"
     ]
    }
   ],
   "source": [
    "#creating a new df for tier ROI means\n",
    "tier_roi_means = {\n",
    "    'Tiers':[4,3,2,1],\n",
    "    'ROI_Mean':[tier4_roi_mean, tier3_roi_mean, \n",
    "                 tier2_roi_mean, tier1_roi_mean]}\n",
    "    \n",
    "roi_means_df = pd.DataFrame(tier_roi_means)\n",
    "print(roi_means_df)"
   ]
  },
  {
   "cell_type": "code",
   "execution_count": 35,
   "metadata": {},
   "outputs": [],
   "source": [
    "#plotting imports\n",
    "import matplotlib.pyplot as plt\n",
    "from matplotlib import style\n",
    "style.use('ggplot')"
   ]
  },
  {
   "cell_type": "code",
   "execution_count": 36,
   "metadata": {},
   "outputs": [
    {
     "data": {
      "image/png": "[encoded data removed]",
      "text/plain": [
       "<Figure size 720x432 with 1 Axes>"
      ]
     },
     "metadata": {},
     "output_type": "display_data"
    }
   ],
   "source": [
    "fix, ax = plt.subplots(figsize=(10,6))\n",
    "\n",
    "ax.scatter(x='production_budget', y='return_on_investment', data=df_all);"
   ]
  },
  {
   "cell_type": "markdown",
   "metadata": {},
   "source": [
    "## Regression Line"
   ]
  },
  {
   "cell_type": "code",
   "execution_count": 37,
   "metadata": {},
   "outputs": [],
   "source": [
    "#find slope 'm'\n",
    "def slope(x, y):\n",
    "    rho = np.corrcoef(x, y)[0][1]\n",
    "    s_y = y.std()\n",
    "    s_x = x.std()\n",
    "\n",
    "    m = rho * s_y / s_x\n",
    "    return m\n",
    "    \n",
    "m = slope(df_all['production_budget'], df_all['return_on_investment'])"
   ]
  },
  {
   "cell_type": "code",
   "execution_count": 38,
   "metadata": {},
   "outputs": [],
   "source": [
    "#find intercept 'c'\n",
    "def intercept(m, x, y):\n",
    "    y_mean = y.mean()\n",
    "    x_mean = x.mean()\n",
    "\n",
    "    # calculating intercept estimate\n",
    "    c = y_mean - m * x_mean\n",
    "    return c\n",
    "    \n",
    "c = intercept(m, df_all['production_budget'], df_all['return_on_investment'])"
   ]
  },
  {
   "cell_type": "code",
   "execution_count": 39,
   "metadata": {},
   "outputs": [
    {
     "data": {
      "image/png": "[encoded data removed]",
      "text/plain": [
       "<Figure size 432x288 with 1 Axes>"
      ]
     },
     "metadata": {},
     "output_type": "display_data"
    }
   ],
   "source": [
    "#Plotting the line\n",
    "def best_fit(x, y):\n",
    "    # Create a scatter plot of x vs. y\n",
    "    fig, ax = plt.subplots()\n",
    "    ax.scatter(x, y, label=\"Data\")\n",
    "\n",
    "    # Calculate coefficient and intercept\n",
    "    m = slope(x, y)\n",
    "    c = intercept(m, x, y)\n",
    "    \n",
    "    # Plot line created by coefficient and intercept\n",
    "    regression_line = m * x + c\n",
    "    ax.plot(x, regression_line, label= \"Regression Line\", color='blue')\n",
    "    ax.legend()\n",
    "    \n",
    "best_fit(df_all['production_budget'], df_all['return_on_investment'])"
   ]
  },
  {
   "cell_type": "code",
   "execution_count": 40,
   "metadata": {},
   "outputs": [
    {
     "data": {
      "image/png": "[encoded data removed]",
      "text/plain": [
       "<Figure size 720x216 with 1 Axes>"
      ]
     },
     "metadata": {},
     "output_type": "display_data"
    }
   ],
   "source": [
    "#using means inseatd of raw data\n",
    "fix, ax = plt.subplots(figsize=(10,3))\n",
    "\n",
    "ax.scatter(x='Tiers', y='ROI_Mean', data=roi_means_df);"
   ]
  },
  {
   "cell_type": "code",
   "execution_count": 41,
   "metadata": {},
   "outputs": [
    {
     "data": {
      "image/png": "[encoded data removed]",
      "text/plain": [
       "<Figure size 432x288 with 1 Axes>"
      ]
     },
     "metadata": {},
     "output_type": "display_data"
    }
   ],
   "source": [
    "#Plotting the line\n",
    "def best_fit(x, y):\n",
    "    # Create a scatter plot of x vs. y\n",
    "    fig, ax = plt.subplots()\n",
    "    ax.scatter(x, y, label=\"Data\")\n",
    "\n",
    "    # Calculate coefficient and intercept\n",
    "    m = slope(x, y)\n",
    "    c = intercept(m, x, y)\n",
    "    \n",
    "    # Plot line created by coefficient and intercept\n",
    "    regression_line = m * x + c\n",
    "    ax.plot(x, regression_line, label= \"Regression Line\", color='red')\n",
    "    ax.get_lines()[0].set_color(\"blue\")\n",
    "    ax.legend()\n",
    "    \n",
    "best_fit(roi_means_df['Tiers'], roi_means_df['ROI_Mean'])"
   ]
  },
  {
   "cell_type": "markdown",
   "metadata": {},
   "source": [
    "## Repeat Process: 2 tiers instead of 4\n"
   ]
  },
  {
   "cell_type": "code",
   "execution_count": 42,
   "metadata": {},
   "outputs": [
    {
     "data": {
      "text/html": [
       "<div>\n",
       "<style scoped>\n",
       "    .dataframe tbody tr th:only-of-type {\n",
       "        vertical-align: middle;\n",
       "    }\n",
       "\n",
       "    .dataframe tbody tr th {\n",
       "        vertical-align: top;\n",
       "    }\n",
       "\n",
       "    .dataframe thead th {\n",
       "        text-align: right;\n",
       "    }\n",
       "</style>\n",
       "<table border=\"1\" class=\"dataframe\">\n",
       "  <thead>\n",
       "    <tr style=\"text-align: right;\">\n",
       "      <th></th>\n",
       "      <th>id</th>\n",
       "      <th>release_date</th>\n",
       "      <th>movie</th>\n",
       "      <th>production_budget</th>\n",
       "      <th>domestic_gross</th>\n",
       "      <th>worldwide_gross</th>\n",
       "      <th>return_on_investment</th>\n",
       "      <th>year</th>\n",
       "      <th>movie_id</th>\n",
       "      <th>primary_title</th>\n",
       "      <th>original_title</th>\n",
       "      <th>runtime_minutes</th>\n",
       "      <th>genres</th>\n",
       "      <th>averagerating</th>\n",
       "      <th>numvotes</th>\n",
       "      <th>budget_tier</th>\n",
       "    </tr>\n",
       "  </thead>\n",
       "  <tbody>\n",
       "    <tr>\n",
       "      <th>0</th>\n",
       "      <td>2</td>\n",
       "      <td>2011-05-20</td>\n",
       "      <td>Pirates of the Caribbean: On Stranger Tides</td>\n",
       "      <td>410600000</td>\n",
       "      <td>241063875</td>\n",
       "      <td>1045663875</td>\n",
       "      <td>2.546673</td>\n",
       "      <td>2011</td>\n",
       "      <td>tt1298650</td>\n",
       "      <td>Pirates of the Caribbean: On Stranger Tides</td>\n",
       "      <td>Pirates of the Caribbean: On Stranger Tides</td>\n",
       "      <td>136.0</td>\n",
       "      <td>Action,Adventure,Fantasy</td>\n",
       "      <td>6.6</td>\n",
       "      <td>447624</td>\n",
       "      <td>high_budget</td>\n",
       "    </tr>\n",
       "    <tr>\n",
       "      <th>1</th>\n",
       "      <td>3</td>\n",
       "      <td>2019-06-07</td>\n",
       "      <td>Dark Phoenix</td>\n",
       "      <td>350000000</td>\n",
       "      <td>42762350</td>\n",
       "      <td>149762350</td>\n",
       "      <td>0.427892</td>\n",
       "      <td>2019</td>\n",
       "      <td>tt6565702</td>\n",
       "      <td>Dark Phoenix</td>\n",
       "      <td>Dark Phoenix</td>\n",
       "      <td>113.0</td>\n",
       "      <td>Action,Adventure,Sci-Fi</td>\n",
       "      <td>6.0</td>\n",
       "      <td>24451</td>\n",
       "      <td>high_budget</td>\n",
       "    </tr>\n",
       "    <tr>\n",
       "      <th>2</th>\n",
       "      <td>4</td>\n",
       "      <td>2015-05-01</td>\n",
       "      <td>Avengers: Age of Ultron</td>\n",
       "      <td>330600000</td>\n",
       "      <td>459005868</td>\n",
       "      <td>1403013963</td>\n",
       "      <td>4.243841</td>\n",
       "      <td>2015</td>\n",
       "      <td>tt2395427</td>\n",
       "      <td>Avengers: Age of Ultron</td>\n",
       "      <td>Avengers: Age of Ultron</td>\n",
       "      <td>141.0</td>\n",
       "      <td>Action,Adventure,Sci-Fi</td>\n",
       "      <td>7.3</td>\n",
       "      <td>665594</td>\n",
       "      <td>high_budget</td>\n",
       "    </tr>\n",
       "    <tr>\n",
       "      <th>3</th>\n",
       "      <td>7</td>\n",
       "      <td>2018-04-27</td>\n",
       "      <td>Avengers: Infinity War</td>\n",
       "      <td>300000000</td>\n",
       "      <td>678815482</td>\n",
       "      <td>2048134200</td>\n",
       "      <td>6.827114</td>\n",
       "      <td>2018</td>\n",
       "      <td>tt4154756</td>\n",
       "      <td>Avengers: Infinity War</td>\n",
       "      <td>Avengers: Infinity War</td>\n",
       "      <td>149.0</td>\n",
       "      <td>Action,Adventure,Sci-Fi</td>\n",
       "      <td>8.5</td>\n",
       "      <td>670926</td>\n",
       "      <td>high_budget</td>\n",
       "    </tr>\n",
       "    <tr>\n",
       "      <th>4</th>\n",
       "      <td>9</td>\n",
       "      <td>2017-11-17</td>\n",
       "      <td>Justice League</td>\n",
       "      <td>300000000</td>\n",
       "      <td>229024295</td>\n",
       "      <td>655945209</td>\n",
       "      <td>2.186484</td>\n",
       "      <td>2017</td>\n",
       "      <td>tt0974015</td>\n",
       "      <td>Justice League</td>\n",
       "      <td>Justice League</td>\n",
       "      <td>120.0</td>\n",
       "      <td>Action,Adventure,Fantasy</td>\n",
       "      <td>6.5</td>\n",
       "      <td>329135</td>\n",
       "      <td>high_budget</td>\n",
       "    </tr>\n",
       "    <tr>\n",
       "      <th>...</th>\n",
       "      <td>...</td>\n",
       "      <td>...</td>\n",
       "      <td>...</td>\n",
       "      <td>...</td>\n",
       "      <td>...</td>\n",
       "      <td>...</td>\n",
       "      <td>...</td>\n",
       "      <td>...</td>\n",
       "      <td>...</td>\n",
       "      <td>...</td>\n",
       "      <td>...</td>\n",
       "      <td>...</td>\n",
       "      <td>...</td>\n",
       "      <td>...</td>\n",
       "      <td>...</td>\n",
       "      <td>...</td>\n",
       "    </tr>\n",
       "    <tr>\n",
       "      <th>1586</th>\n",
       "      <td>59</td>\n",
       "      <td>2011-11-25</td>\n",
       "      <td>The Ridges</td>\n",
       "      <td>17300</td>\n",
       "      <td>0</td>\n",
       "      <td>0</td>\n",
       "      <td>0.000000</td>\n",
       "      <td>2011</td>\n",
       "      <td>tt1781935</td>\n",
       "      <td>The Ridges</td>\n",
       "      <td>The Ridges</td>\n",
       "      <td>89.0</td>\n",
       "      <td>Drama,Horror,Thriller</td>\n",
       "      <td>2.9</td>\n",
       "      <td>127</td>\n",
       "      <td>low_budget</td>\n",
       "    </tr>\n",
       "    <tr>\n",
       "      <th>1587</th>\n",
       "      <td>62</td>\n",
       "      <td>2014-12-31</td>\n",
       "      <td>Stories of Our Lives</td>\n",
       "      <td>15000</td>\n",
       "      <td>0</td>\n",
       "      <td>0</td>\n",
       "      <td>0.000000</td>\n",
       "      <td>2014</td>\n",
       "      <td>tt3973612</td>\n",
       "      <td>Stories of Our Lives</td>\n",
       "      <td>Stories of Our Lives</td>\n",
       "      <td>60.0</td>\n",
       "      <td>Drama</td>\n",
       "      <td>7.5</td>\n",
       "      <td>85</td>\n",
       "      <td>low_budget</td>\n",
       "    </tr>\n",
       "    <tr>\n",
       "      <th>1588</th>\n",
       "      <td>73</td>\n",
       "      <td>2012-01-13</td>\n",
       "      <td>Newlyweds</td>\n",
       "      <td>9000</td>\n",
       "      <td>4584</td>\n",
       "      <td>4584</td>\n",
       "      <td>0.509333</td>\n",
       "      <td>2012</td>\n",
       "      <td>tt1880418</td>\n",
       "      <td>Newlyweds</td>\n",
       "      <td>Newlyweds</td>\n",
       "      <td>95.0</td>\n",
       "      <td>Comedy,Drama</td>\n",
       "      <td>6.4</td>\n",
       "      <td>1436</td>\n",
       "      <td>low_budget</td>\n",
       "    </tr>\n",
       "    <tr>\n",
       "      <th>1589</th>\n",
       "      <td>78</td>\n",
       "      <td>2018-12-31</td>\n",
       "      <td>Red 11</td>\n",
       "      <td>7000</td>\n",
       "      <td>0</td>\n",
       "      <td>0</td>\n",
       "      <td>0.000000</td>\n",
       "      <td>2018</td>\n",
       "      <td>tt7837402</td>\n",
       "      <td>Red 11</td>\n",
       "      <td>Red 11</td>\n",
       "      <td>77.0</td>\n",
       "      <td>Horror,Sci-Fi,Thriller</td>\n",
       "      <td>5.6</td>\n",
       "      <td>43</td>\n",
       "      <td>low_budget</td>\n",
       "    </tr>\n",
       "    <tr>\n",
       "      <th>1590</th>\n",
       "      <td>81</td>\n",
       "      <td>2015-09-29</td>\n",
       "      <td>A Plague So Pleasant</td>\n",
       "      <td>1400</td>\n",
       "      <td>0</td>\n",
       "      <td>0</td>\n",
       "      <td>0.000000</td>\n",
       "      <td>2015</td>\n",
       "      <td>tt2107644</td>\n",
       "      <td>A Plague So Pleasant</td>\n",
       "      <td>A Plague So Pleasant</td>\n",
       "      <td>76.0</td>\n",
       "      <td>Drama,Horror,Thriller</td>\n",
       "      <td>5.4</td>\n",
       "      <td>72</td>\n",
       "      <td>low_budget</td>\n",
       "    </tr>\n",
       "  </tbody>\n",
       "</table>\n",
       "<p>1589 rows × 16 columns</p>\n",
       "</div>"
      ],
      "text/plain": [
       "      id release_date                                        movie  \\\n",
       "0      2   2011-05-20  Pirates of the Caribbean: On Stranger Tides   \n",
       "1      3   2019-06-07                                 Dark Phoenix   \n",
       "2      4   2015-05-01                      Avengers: Age of Ultron   \n",
       "3      7   2018-04-27                       Avengers: Infinity War   \n",
       "4      9   2017-11-17                               Justice League   \n",
       "...   ..          ...                                          ...   \n",
       "1586  59   2011-11-25                                   The Ridges   \n",
       "1587  62   2014-12-31                         Stories of Our Lives   \n",
       "1588  73   2012-01-13                                    Newlyweds   \n",
       "1589  78   2018-12-31                                       Red 11   \n",
       "1590  81   2015-09-29                         A Plague So Pleasant   \n",
       "\n",
       "      production_budget  domestic_gross  worldwide_gross  \\\n",
       "0             410600000       241063875       1045663875   \n",
       "1             350000000        42762350        149762350   \n",
       "2             330600000       459005868       1403013963   \n",
       "3             300000000       678815482       2048134200   \n",
       "4             300000000       229024295        655945209   \n",
       "...                 ...             ...              ...   \n",
       "1586              17300               0                0   \n",
       "1587              15000               0                0   \n",
       "1588               9000            4584             4584   \n",
       "1589               7000               0                0   \n",
       "1590               1400               0                0   \n",
       "\n",
       "      return_on_investment  year   movie_id  \\\n",
       "0                 2.546673  2011  tt1298650   \n",
       "1                 0.427892  2019  tt6565702   \n",
       "2                 4.243841  2015  tt2395427   \n",
       "3                 6.827114  2018  tt4154756   \n",
       "4                 2.186484  2017  tt0974015   \n",
       "...                    ...   ...        ...   \n",
       "1586              0.000000  2011  tt1781935   \n",
       "1587              0.000000  2014  tt3973612   \n",
       "1588              0.509333  2012  tt1880418   \n",
       "1589              0.000000  2018  tt7837402   \n",
       "1590              0.000000  2015  tt2107644   \n",
       "\n",
       "                                    primary_title  \\\n",
       "0     Pirates of the Caribbean: On Stranger Tides   \n",
       "1                                    Dark Phoenix   \n",
       "2                         Avengers: Age of Ultron   \n",
       "3                          Avengers: Infinity War   \n",
       "4                                  Justice League   \n",
       "...                                           ...   \n",
       "1586                                   The Ridges   \n",
       "1587                         Stories of Our Lives   \n",
       "1588                                    Newlyweds   \n",
       "1589                                       Red 11   \n",
       "1590                         A Plague So Pleasant   \n",
       "\n",
       "                                   original_title  runtime_minutes  \\\n",
       "0     Pirates of the Caribbean: On Stranger Tides            136.0   \n",
       "1                                    Dark Phoenix            113.0   \n",
       "2                         Avengers: Age of Ultron            141.0   \n",
       "3                          Avengers: Infinity War            149.0   \n",
       "4                                  Justice League            120.0   \n",
       "...                                           ...              ...   \n",
       "1586                                   The Ridges             89.0   \n",
       "1587                         Stories of Our Lives             60.0   \n",
       "1588                                    Newlyweds             95.0   \n",
       "1589                                       Red 11             77.0   \n",
       "1590                         A Plague So Pleasant             76.0   \n",
       "\n",
       "                        genres  averagerating  numvotes  budget_tier  \n",
       "0     Action,Adventure,Fantasy            6.6    447624  high_budget  \n",
       "1      Action,Adventure,Sci-Fi            6.0     24451  high_budget  \n",
       "2      Action,Adventure,Sci-Fi            7.3    665594  high_budget  \n",
       "3      Action,Adventure,Sci-Fi            8.5    670926  high_budget  \n",
       "4     Action,Adventure,Fantasy            6.5    329135  high_budget  \n",
       "...                        ...            ...       ...          ...  \n",
       "1586     Drama,Horror,Thriller            2.9       127   low_budget  \n",
       "1587                     Drama            7.5        85   low_budget  \n",
       "1588              Comedy,Drama            6.4      1436   low_budget  \n",
       "1589    Horror,Sci-Fi,Thriller            5.6        43   low_budget  \n",
       "1590     Drama,Horror,Thriller            5.4        72   low_budget  \n",
       "\n",
       "[1589 rows x 16 columns]"
      ]
     },
     "execution_count": 42,
     "metadata": {},
     "output_type": "execute_result"
    }
   ],
   "source": [
    " #create a list of our conditions\n",
    "conditions = [\n",
    "    (df_all['production_budget'] <= 15000000),\n",
    "    (df_all['production_budget'] > 15000000)]\n",
    "\n",
    "#create a list of the values we want to assign for each condition\n",
    "values = ['low_budget', 'high_budget']\n",
    "\n",
    "#create a new column and use np.select to assign values to it using our lists as arguments\n",
    "df_all['budget_tier'] = np.select(conditions, values)\n",
    "df_all"
   ]
  },
  {
   "cell_type": "code",
   "execution_count": 43,
   "metadata": {},
   "outputs": [],
   "source": [
    "low_budget = df_all.loc[df_all['budget_tier'] == 'low_budget']\n",
    "high_budget = df_all.loc[df_all['budget_tier'] == 'high_budget']"
   ]
  },
  {
   "cell_type": "code",
   "execution_count": 44,
   "metadata": {},
   "outputs": [
    {
     "data": {
      "text/plain": [
       "Ttest_indResult(statistic=1.706279729485746, pvalue=0.08815165845017794)"
      ]
     },
     "execution_count": 44,
     "metadata": {},
     "output_type": "execute_result"
    }
   ],
   "source": [
    "stats.ttest_ind(low_budget['return_on_investment'], high_budget['return_on_investment'])"
   ]
  },
  {
   "cell_type": "markdown",
   "metadata": {},
   "source": [
    "NOT SIGNIFICANT AT .05"
   ]
  },
  {
   "cell_type": "markdown",
   "metadata": {},
   "source": [
    "\n",
    "## Horror Genre - Budget & ROI Test"
   ]
  },
  {
   "cell_type": "code",
   "execution_count": 45,
   "metadata": {},
   "outputs": [
    {
     "name": "stdout",
     "output_type": "stream",
     "text": [
      "<class 'pandas.core.frame.DataFrame'>\n",
      "Int64Index: 1589 entries, 0 to 1590\n",
      "Data columns (total 16 columns):\n",
      " #   Column                Non-Null Count  Dtype         \n",
      "---  ------                --------------  -----         \n",
      " 0   id                    1589 non-null   int64         \n",
      " 1   release_date          1589 non-null   datetime64[ns]\n",
      " 2   movie                 1589 non-null   object        \n",
      " 3   production_budget     1589 non-null   int64         \n",
      " 4   domestic_gross        1589 non-null   int64         \n",
      " 5   worldwide_gross       1589 non-null   int64         \n",
      " 6   return_on_investment  1589 non-null   float64       \n",
      " 7   year                  1589 non-null   int64         \n",
      " 8   movie_id              1589 non-null   object        \n",
      " 9   primary_title         1589 non-null   object        \n",
      " 10  original_title        1589 non-null   object        \n",
      " 11  runtime_minutes       1571 non-null   float64       \n",
      " 12  genres                1587 non-null   object        \n",
      " 13  averagerating         1589 non-null   float64       \n",
      " 14  numvotes              1589 non-null   int64         \n",
      " 15  budget_tier           1589 non-null   object        \n",
      "dtypes: datetime64[ns](1), float64(3), int64(6), object(6)\n",
      "memory usage: 211.0+ KB\n"
     ]
    }
   ],
   "source": [
    "df_all.info()"
   ]
  },
  {
   "cell_type": "code",
   "execution_count": 46,
   "metadata": {},
   "outputs": [
    {
     "data": {
      "text/plain": [
       "id                       0\n",
       "release_date             0\n",
       "movie                    0\n",
       "production_budget        0\n",
       "domestic_gross           0\n",
       "worldwide_gross          0\n",
       "return_on_investment     0\n",
       "year                     0\n",
       "movie_id                 0\n",
       "primary_title            0\n",
       "original_title           0\n",
       "runtime_minutes         18\n",
       "genres                   2\n",
       "averagerating            0\n",
       "numvotes                 0\n",
       "budget_tier              0\n",
       "dtype: int64"
      ]
     },
     "execution_count": 46,
     "metadata": {},
     "output_type": "execute_result"
    }
   ],
   "source": [
    "df_all.isna().sum() "
   ]
  },
  {
   "cell_type": "code",
   "execution_count": 47,
   "metadata": {},
   "outputs": [],
   "source": [
    "df_all.dropna(subset=['genres'], inplace = True)\n"
   ]
  },
  {
   "cell_type": "code",
   "execution_count": 48,
   "metadata": {},
   "outputs": [],
   "source": [
    "def horror(x):\n",
    "    if \"Horror\" in x:\n",
    "        return True\n",
    "    else:\n",
    "        return False\n"
   ]
  },
  {
   "cell_type": "code",
   "execution_count": 49,
   "metadata": {},
   "outputs": [],
   "source": [
    "df_all['Horror']=df_all['genres'].map(horror)"
   ]
  },
  {
   "cell_type": "code",
   "execution_count": 50,
   "metadata": {},
   "outputs": [
    {
     "name": "stdout",
     "output_type": "stream",
     "text": [
      "<class 'pandas.core.frame.DataFrame'>\n",
      "Int64Index: 1587 entries, 0 to 1590\n",
      "Data columns (total 17 columns):\n",
      " #   Column                Non-Null Count  Dtype         \n",
      "---  ------                --------------  -----         \n",
      " 0   id                    1587 non-null   int64         \n",
      " 1   release_date          1587 non-null   datetime64[ns]\n",
      " 2   movie                 1587 non-null   object        \n",
      " 3   production_budget     1587 non-null   int64         \n",
      " 4   domestic_gross        1587 non-null   int64         \n",
      " 5   worldwide_gross       1587 non-null   int64         \n",
      " 6   return_on_investment  1587 non-null   float64       \n",
      " 7   year                  1587 non-null   int64         \n",
      " 8   movie_id              1587 non-null   object        \n",
      " 9   primary_title         1587 non-null   object        \n",
      " 10  original_title        1587 non-null   object        \n",
      " 11  runtime_minutes       1569 non-null   float64       \n",
      " 12  genres                1587 non-null   object        \n",
      " 13  averagerating         1587 non-null   float64       \n",
      " 14  numvotes              1587 non-null   int64         \n",
      " 15  budget_tier           1587 non-null   object        \n",
      " 16  Horror                1587 non-null   bool          \n",
      "dtypes: bool(1), datetime64[ns](1), float64(3), int64(6), object(6)\n",
      "memory usage: 212.3+ KB\n"
     ]
    }
   ],
   "source": [
    "df_all.info()"
   ]
  },
  {
   "cell_type": "code",
   "execution_count": 51,
   "metadata": {},
   "outputs": [],
   "source": [
    "horror_sample = df_all.loc[df_all['Horror']==True]\n",
    "others_sample= df_all.loc[df_all['Horror']==False]\n"
   ]
  },
  {
   "cell_type": "code",
   "execution_count": 52,
   "metadata": {},
   "outputs": [
    {
     "data": {
      "text/html": [
       "<div>\n",
       "<style scoped>\n",
       "    .dataframe tbody tr th:only-of-type {\n",
       "        vertical-align: middle;\n",
       "    }\n",
       "\n",
       "    .dataframe tbody tr th {\n",
       "        vertical-align: top;\n",
       "    }\n",
       "\n",
       "    .dataframe thead th {\n",
       "        text-align: right;\n",
       "    }\n",
       "</style>\n",
       "<table border=\"1\" class=\"dataframe\">\n",
       "  <thead>\n",
       "    <tr style=\"text-align: right;\">\n",
       "      <th></th>\n",
       "      <th>id</th>\n",
       "      <th>release_date</th>\n",
       "      <th>movie</th>\n",
       "      <th>production_budget</th>\n",
       "      <th>domestic_gross</th>\n",
       "      <th>worldwide_gross</th>\n",
       "      <th>return_on_investment</th>\n",
       "      <th>year</th>\n",
       "      <th>movie_id</th>\n",
       "      <th>primary_title</th>\n",
       "      <th>original_title</th>\n",
       "      <th>runtime_minutes</th>\n",
       "      <th>genres</th>\n",
       "      <th>averagerating</th>\n",
       "      <th>numvotes</th>\n",
       "      <th>budget_tier</th>\n",
       "      <th>Horror</th>\n",
       "    </tr>\n",
       "  </thead>\n",
       "  <tbody>\n",
       "    <tr>\n",
       "      <th>43</th>\n",
       "      <td>69</td>\n",
       "      <td>2013-06-21</td>\n",
       "      <td>World War Z</td>\n",
       "      <td>190000000</td>\n",
       "      <td>202359711</td>\n",
       "      <td>531514650</td>\n",
       "      <td>2.797446</td>\n",
       "      <td>2013</td>\n",
       "      <td>tt0816711</td>\n",
       "      <td>World War Z</td>\n",
       "      <td>World War Z</td>\n",
       "      <td>116.0</td>\n",
       "      <td>Action,Adventure,Horror</td>\n",
       "      <td>7.0</td>\n",
       "      <td>553751</td>\n",
       "      <td>high_budget</td>\n",
       "      <td>True</td>\n",
       "    </tr>\n",
       "    <tr>\n",
       "      <th>60</th>\n",
       "      <td>94</td>\n",
       "      <td>2018-08-10</td>\n",
       "      <td>The Meg</td>\n",
       "      <td>178000000</td>\n",
       "      <td>145443742</td>\n",
       "      <td>529530715</td>\n",
       "      <td>2.974892</td>\n",
       "      <td>2018</td>\n",
       "      <td>tt4779682</td>\n",
       "      <td>The Meg</td>\n",
       "      <td>The Meg</td>\n",
       "      <td>113.0</td>\n",
       "      <td>Action,Horror,Sci-Fi</td>\n",
       "      <td>5.7</td>\n",
       "      <td>114042</td>\n",
       "      <td>high_budget</td>\n",
       "      <td>True</td>\n",
       "    </tr>\n",
       "    <tr>\n",
       "      <th>106</th>\n",
       "      <td>89</td>\n",
       "      <td>2012-05-11</td>\n",
       "      <td>Dark Shadows</td>\n",
       "      <td>150000000</td>\n",
       "      <td>79727149</td>\n",
       "      <td>238202668</td>\n",
       "      <td>1.588018</td>\n",
       "      <td>2012</td>\n",
       "      <td>tt1077368</td>\n",
       "      <td>Dark Shadows</td>\n",
       "      <td>Dark Shadows</td>\n",
       "      <td>113.0</td>\n",
       "      <td>Comedy,Fantasy,Horror</td>\n",
       "      <td>6.2</td>\n",
       "      <td>229818</td>\n",
       "      <td>high_budget</td>\n",
       "      <td>True</td>\n",
       "    </tr>\n",
       "    <tr>\n",
       "      <th>198</th>\n",
       "      <td>12</td>\n",
       "      <td>2017-05-19</td>\n",
       "      <td>Alien: Covenant</td>\n",
       "      <td>97000000</td>\n",
       "      <td>74262031</td>\n",
       "      <td>238521247</td>\n",
       "      <td>2.458982</td>\n",
       "      <td>2017</td>\n",
       "      <td>tt2316204</td>\n",
       "      <td>Alien: Covenant</td>\n",
       "      <td>Alien: Covenant</td>\n",
       "      <td>122.0</td>\n",
       "      <td>Horror,Sci-Fi,Thriller</td>\n",
       "      <td>6.4</td>\n",
       "      <td>226920</td>\n",
       "      <td>high_budget</td>\n",
       "      <td>True</td>\n",
       "    </tr>\n",
       "    <tr>\n",
       "      <th>278</th>\n",
       "      <td>65</td>\n",
       "      <td>2012-06-22</td>\n",
       "      <td>Abraham Lincoln: Vampire Hunter</td>\n",
       "      <td>67500000</td>\n",
       "      <td>37519139</td>\n",
       "      <td>137489730</td>\n",
       "      <td>2.036885</td>\n",
       "      <td>2012</td>\n",
       "      <td>tt1611224</td>\n",
       "      <td>Abraham Lincoln: Vampire Hunter</td>\n",
       "      <td>Abraham Lincoln: Vampire Hunter</td>\n",
       "      <td>105.0</td>\n",
       "      <td>Action,Fantasy,Horror</td>\n",
       "      <td>5.9</td>\n",
       "      <td>142853</td>\n",
       "      <td>high_budget</td>\n",
       "      <td>True</td>\n",
       "    </tr>\n",
       "    <tr>\n",
       "      <th>...</th>\n",
       "      <td>...</td>\n",
       "      <td>...</td>\n",
       "      <td>...</td>\n",
       "      <td>...</td>\n",
       "      <td>...</td>\n",
       "      <td>...</td>\n",
       "      <td>...</td>\n",
       "      <td>...</td>\n",
       "      <td>...</td>\n",
       "      <td>...</td>\n",
       "      <td>...</td>\n",
       "      <td>...</td>\n",
       "      <td>...</td>\n",
       "      <td>...</td>\n",
       "      <td>...</td>\n",
       "      <td>...</td>\n",
       "      <td>...</td>\n",
       "    </tr>\n",
       "    <tr>\n",
       "      <th>1577</th>\n",
       "      <td>35</td>\n",
       "      <td>2013-10-25</td>\n",
       "      <td>Her Cry: La Llorona Investigation</td>\n",
       "      <td>35000</td>\n",
       "      <td>0</td>\n",
       "      <td>0</td>\n",
       "      <td>0.000000</td>\n",
       "      <td>2013</td>\n",
       "      <td>tt2469216</td>\n",
       "      <td>Her Cry: La Llorona Investigation</td>\n",
       "      <td>Her Cry: La Llorona Investigation</td>\n",
       "      <td>89.0</td>\n",
       "      <td>Horror</td>\n",
       "      <td>3.7</td>\n",
       "      <td>70</td>\n",
       "      <td>low_budget</td>\n",
       "      <td>True</td>\n",
       "    </tr>\n",
       "    <tr>\n",
       "      <th>1581</th>\n",
       "      <td>49</td>\n",
       "      <td>2015-09-01</td>\n",
       "      <td>Exeter</td>\n",
       "      <td>25000</td>\n",
       "      <td>0</td>\n",
       "      <td>489792</td>\n",
       "      <td>19.591680</td>\n",
       "      <td>2015</td>\n",
       "      <td>tt1945044</td>\n",
       "      <td>Exeter</td>\n",
       "      <td>Exeter</td>\n",
       "      <td>91.0</td>\n",
       "      <td>Horror,Mystery,Thriller</td>\n",
       "      <td>4.5</td>\n",
       "      <td>5156</td>\n",
       "      <td>low_budget</td>\n",
       "      <td>True</td>\n",
       "    </tr>\n",
       "    <tr>\n",
       "      <th>1586</th>\n",
       "      <td>59</td>\n",
       "      <td>2011-11-25</td>\n",
       "      <td>The Ridges</td>\n",
       "      <td>17300</td>\n",
       "      <td>0</td>\n",
       "      <td>0</td>\n",
       "      <td>0.000000</td>\n",
       "      <td>2011</td>\n",
       "      <td>tt1781935</td>\n",
       "      <td>The Ridges</td>\n",
       "      <td>The Ridges</td>\n",
       "      <td>89.0</td>\n",
       "      <td>Drama,Horror,Thriller</td>\n",
       "      <td>2.9</td>\n",
       "      <td>127</td>\n",
       "      <td>low_budget</td>\n",
       "      <td>True</td>\n",
       "    </tr>\n",
       "    <tr>\n",
       "      <th>1589</th>\n",
       "      <td>78</td>\n",
       "      <td>2018-12-31</td>\n",
       "      <td>Red 11</td>\n",
       "      <td>7000</td>\n",
       "      <td>0</td>\n",
       "      <td>0</td>\n",
       "      <td>0.000000</td>\n",
       "      <td>2018</td>\n",
       "      <td>tt7837402</td>\n",
       "      <td>Red 11</td>\n",
       "      <td>Red 11</td>\n",
       "      <td>77.0</td>\n",
       "      <td>Horror,Sci-Fi,Thriller</td>\n",
       "      <td>5.6</td>\n",
       "      <td>43</td>\n",
       "      <td>low_budget</td>\n",
       "      <td>True</td>\n",
       "    </tr>\n",
       "    <tr>\n",
       "      <th>1590</th>\n",
       "      <td>81</td>\n",
       "      <td>2015-09-29</td>\n",
       "      <td>A Plague So Pleasant</td>\n",
       "      <td>1400</td>\n",
       "      <td>0</td>\n",
       "      <td>0</td>\n",
       "      <td>0.000000</td>\n",
       "      <td>2015</td>\n",
       "      <td>tt2107644</td>\n",
       "      <td>A Plague So Pleasant</td>\n",
       "      <td>A Plague So Pleasant</td>\n",
       "      <td>76.0</td>\n",
       "      <td>Drama,Horror,Thriller</td>\n",
       "      <td>5.4</td>\n",
       "      <td>72</td>\n",
       "      <td>low_budget</td>\n",
       "      <td>True</td>\n",
       "    </tr>\n",
       "  </tbody>\n",
       "</table>\n",
       "<p>203 rows × 17 columns</p>\n",
       "</div>"
      ],
      "text/plain": [
       "      id release_date                              movie  production_budget  \\\n",
       "43    69   2013-06-21                        World War Z          190000000   \n",
       "60    94   2018-08-10                            The Meg          178000000   \n",
       "106   89   2012-05-11                       Dark Shadows          150000000   \n",
       "198   12   2017-05-19                    Alien: Covenant           97000000   \n",
       "278   65   2012-06-22    Abraham Lincoln: Vampire Hunter           67500000   \n",
       "...   ..          ...                                ...                ...   \n",
       "1577  35   2013-10-25  Her Cry: La Llorona Investigation              35000   \n",
       "1581  49   2015-09-01                             Exeter              25000   \n",
       "1586  59   2011-11-25                         The Ridges              17300   \n",
       "1589  78   2018-12-31                             Red 11               7000   \n",
       "1590  81   2015-09-29               A Plague So Pleasant               1400   \n",
       "\n",
       "      domestic_gross  worldwide_gross  return_on_investment  year   movie_id  \\\n",
       "43         202359711        531514650              2.797446  2013  tt0816711   \n",
       "60         145443742        529530715              2.974892  2018  tt4779682   \n",
       "106         79727149        238202668              1.588018  2012  tt1077368   \n",
       "198         74262031        238521247              2.458982  2017  tt2316204   \n",
       "278         37519139        137489730              2.036885  2012  tt1611224   \n",
       "...              ...              ...                   ...   ...        ...   \n",
       "1577               0                0              0.000000  2013  tt2469216   \n",
       "1581               0           489792             19.591680  2015  tt1945044   \n",
       "1586               0                0              0.000000  2011  tt1781935   \n",
       "1589               0                0              0.000000  2018  tt7837402   \n",
       "1590               0                0              0.000000  2015  tt2107644   \n",
       "\n",
       "                          primary_title                     original_title  \\\n",
       "43                          World War Z                        World War Z   \n",
       "60                              The Meg                            The Meg   \n",
       "106                        Dark Shadows                       Dark Shadows   \n",
       "198                     Alien: Covenant                    Alien: Covenant   \n",
       "278     Abraham Lincoln: Vampire Hunter    Abraham Lincoln: Vampire Hunter   \n",
       "...                                 ...                                ...   \n",
       "1577  Her Cry: La Llorona Investigation  Her Cry: La Llorona Investigation   \n",
       "1581                             Exeter                             Exeter   \n",
       "1586                         The Ridges                         The Ridges   \n",
       "1589                             Red 11                             Red 11   \n",
       "1590               A Plague So Pleasant               A Plague So Pleasant   \n",
       "\n",
       "      runtime_minutes                   genres  averagerating  numvotes  \\\n",
       "43              116.0  Action,Adventure,Horror            7.0    553751   \n",
       "60              113.0     Action,Horror,Sci-Fi            5.7    114042   \n",
       "106             113.0    Comedy,Fantasy,Horror            6.2    229818   \n",
       "198             122.0   Horror,Sci-Fi,Thriller            6.4    226920   \n",
       "278             105.0    Action,Fantasy,Horror            5.9    142853   \n",
       "...               ...                      ...            ...       ...   \n",
       "1577             89.0                   Horror            3.7        70   \n",
       "1581             91.0  Horror,Mystery,Thriller            4.5      5156   \n",
       "1586             89.0    Drama,Horror,Thriller            2.9       127   \n",
       "1589             77.0   Horror,Sci-Fi,Thriller            5.6        43   \n",
       "1590             76.0    Drama,Horror,Thriller            5.4        72   \n",
       "\n",
       "      budget_tier  Horror  \n",
       "43    high_budget    True  \n",
       "60    high_budget    True  \n",
       "106   high_budget    True  \n",
       "198   high_budget    True  \n",
       "278   high_budget    True  \n",
       "...           ...     ...  \n",
       "1577   low_budget    True  \n",
       "1581   low_budget    True  \n",
       "1586   low_budget    True  \n",
       "1589   low_budget    True  \n",
       "1590   low_budget    True  \n",
       "\n",
       "[203 rows x 17 columns]"
      ]
     },
     "execution_count": 52,
     "metadata": {},
     "output_type": "execute_result"
    }
   ],
   "source": [
    "horror_sample"
   ]
  },
  {
   "cell_type": "code",
   "execution_count": 53,
   "metadata": {},
   "outputs": [],
   "source": [
    "low_budget_hor = horror_sample.loc[horror_sample['budget_tier'] == 'low_budget']\n",
    "high_budget_hor = horror_sample.loc[horror_sample['budget_tier'] == 'high_budget']"
   ]
  },
  {
   "cell_type": "code",
   "execution_count": 54,
   "metadata": {},
   "outputs": [
    {
     "data": {
      "text/plain": [
       "6.376299875399485"
      ]
     },
     "execution_count": 54,
     "metadata": {},
     "output_type": "execute_result"
    }
   ],
   "source": [
    "low_budget_hor['return_on_investment'].mean()"
   ]
  },
  {
   "cell_type": "code",
   "execution_count": 55,
   "metadata": {},
   "outputs": [
    {
     "data": {
      "text/plain": [
       "2.66466076579254"
      ]
     },
     "execution_count": 55,
     "metadata": {},
     "output_type": "execute_result"
    }
   ],
   "source": [
    "high_budget_hor['return_on_investment'].mean()"
   ]
  },
  {
   "cell_type": "code",
   "execution_count": 56,
   "metadata": {},
   "outputs": [
    {
     "name": "stdout",
     "output_type": "stream",
     "text": [
      "0.012884527420547093\n"
     ]
    }
   ],
   "source": [
    "result = stats.ttest_ind(low_budget_hor['return_on_investment'], high_budget_hor['return_on_investment'])\n",
    "pval = result[1]/2\n",
    "print(pval)"
   ]
  },
  {
   "cell_type": "markdown",
   "metadata": {},
   "source": [
    "### There is a statistically significant difference between ROIs of horror movies with low budget vs. high budget!"
   ]
  },
  {
   "cell_type": "markdown",
   "metadata": {},
   "source": [
    "\n",
    "## Plotting the regression line & Calculating R-squared"
   ]
  },
  {
   "cell_type": "code",
   "execution_count": 57,
   "metadata": {},
   "outputs": [
    {
     "data": {
      "image/png": "[encoded data removed]",
      "text/plain": [
       "<Figure size 432x288 with 1 Axes>"
      ]
     },
     "metadata": {},
     "output_type": "display_data"
    }
   ],
   "source": [
    "#Plotting the line for ENTIRE HORROR SAMPLE\n",
    "def best_fit(x, y):\n",
    "    # Create a scatter plot of x vs. y\n",
    "    fig, ax = plt.subplots()\n",
    "    ax.scatter(x, y, label=\"Data\")\n",
    "\n",
    "    # Calculate coefficient and intercept\n",
    "    m = slope(x, y)\n",
    "    c = intercept(m, x, y)\n",
    "    \n",
    "    # Plot line created by coefficient and intercept\n",
    "    regression_line = m * x + c\n",
    "    ax.plot(x, regression_line, label= \"Regression Line\", color='red')\n",
    "    ax.get_lines()[0].set_color(\"blue\")\n",
    "    ax.legend()\n",
    "    \n",
    "best_fit(horror_sample['production_budget'], horror_sample['return_on_investment'])"
   ]
  },
  {
   "cell_type": "markdown",
   "metadata": {},
   "source": [
    "\n",
    "### Creating ROI Mean & Budget Tier DF to plot Regression Line"
   ]
  },
  {
   "cell_type": "code",
   "execution_count": 58,
   "metadata": {},
   "outputs": [
    {
     "name": "stderr",
     "output_type": "stream",
     "text": [
      "<ipython-input-58-6c56ab027009>:12: SettingWithCopyWarning: \n",
      "A value is trying to be set on a copy of a slice from a DataFrame.\n",
      "Try using .loc[row_indexer,col_indexer] = value instead\n",
      "\n",
      "See the caveats in the documentation: https://pandas.pydata.org/pandas-docs/stable/user_guide/indexing.html#returning-a-view-versus-a-copy\n",
      "  horror_sample['Tier'] = np.select(conditions, values)\n"
     ]
    },
    {
     "data": {
      "text/html": [
       "<div>\n",
       "<style scoped>\n",
       "    .dataframe tbody tr th:only-of-type {\n",
       "        vertical-align: middle;\n",
       "    }\n",
       "\n",
       "    .dataframe tbody tr th {\n",
       "        vertical-align: top;\n",
       "    }\n",
       "\n",
       "    .dataframe thead th {\n",
       "        text-align: right;\n",
       "    }\n",
       "</style>\n",
       "<table border=\"1\" class=\"dataframe\">\n",
       "  <thead>\n",
       "    <tr style=\"text-align: right;\">\n",
       "      <th></th>\n",
       "      <th>id</th>\n",
       "      <th>release_date</th>\n",
       "      <th>movie</th>\n",
       "      <th>production_budget</th>\n",
       "      <th>domestic_gross</th>\n",
       "      <th>worldwide_gross</th>\n",
       "      <th>return_on_investment</th>\n",
       "      <th>year</th>\n",
       "      <th>movie_id</th>\n",
       "      <th>primary_title</th>\n",
       "      <th>original_title</th>\n",
       "      <th>runtime_minutes</th>\n",
       "      <th>genres</th>\n",
       "      <th>averagerating</th>\n",
       "      <th>numvotes</th>\n",
       "      <th>budget_tier</th>\n",
       "      <th>Horror</th>\n",
       "      <th>Tier</th>\n",
       "    </tr>\n",
       "  </thead>\n",
       "  <tbody>\n",
       "    <tr>\n",
       "      <th>43</th>\n",
       "      <td>69</td>\n",
       "      <td>2013-06-21</td>\n",
       "      <td>World War Z</td>\n",
       "      <td>190000000</td>\n",
       "      <td>202359711</td>\n",
       "      <td>531514650</td>\n",
       "      <td>2.797446</td>\n",
       "      <td>2013</td>\n",
       "      <td>tt0816711</td>\n",
       "      <td>World War Z</td>\n",
       "      <td>World War Z</td>\n",
       "      <td>116.0</td>\n",
       "      <td>Action,Adventure,Horror</td>\n",
       "      <td>7.0</td>\n",
       "      <td>553751</td>\n",
       "      <td>high_budget</td>\n",
       "      <td>True</td>\n",
       "      <td>tier_4</td>\n",
       "    </tr>\n",
       "    <tr>\n",
       "      <th>60</th>\n",
       "      <td>94</td>\n",
       "      <td>2018-08-10</td>\n",
       "      <td>The Meg</td>\n",
       "      <td>178000000</td>\n",
       "      <td>145443742</td>\n",
       "      <td>529530715</td>\n",
       "      <td>2.974892</td>\n",
       "      <td>2018</td>\n",
       "      <td>tt4779682</td>\n",
       "      <td>The Meg</td>\n",
       "      <td>The Meg</td>\n",
       "      <td>113.0</td>\n",
       "      <td>Action,Horror,Sci-Fi</td>\n",
       "      <td>5.7</td>\n",
       "      <td>114042</td>\n",
       "      <td>high_budget</td>\n",
       "      <td>True</td>\n",
       "      <td>tier_4</td>\n",
       "    </tr>\n",
       "    <tr>\n",
       "      <th>106</th>\n",
       "      <td>89</td>\n",
       "      <td>2012-05-11</td>\n",
       "      <td>Dark Shadows</td>\n",
       "      <td>150000000</td>\n",
       "      <td>79727149</td>\n",
       "      <td>238202668</td>\n",
       "      <td>1.588018</td>\n",
       "      <td>2012</td>\n",
       "      <td>tt1077368</td>\n",
       "      <td>Dark Shadows</td>\n",
       "      <td>Dark Shadows</td>\n",
       "      <td>113.0</td>\n",
       "      <td>Comedy,Fantasy,Horror</td>\n",
       "      <td>6.2</td>\n",
       "      <td>229818</td>\n",
       "      <td>high_budget</td>\n",
       "      <td>True</td>\n",
       "      <td>tier_4</td>\n",
       "    </tr>\n",
       "    <tr>\n",
       "      <th>198</th>\n",
       "      <td>12</td>\n",
       "      <td>2017-05-19</td>\n",
       "      <td>Alien: Covenant</td>\n",
       "      <td>97000000</td>\n",
       "      <td>74262031</td>\n",
       "      <td>238521247</td>\n",
       "      <td>2.458982</td>\n",
       "      <td>2017</td>\n",
       "      <td>tt2316204</td>\n",
       "      <td>Alien: Covenant</td>\n",
       "      <td>Alien: Covenant</td>\n",
       "      <td>122.0</td>\n",
       "      <td>Horror,Sci-Fi,Thriller</td>\n",
       "      <td>6.4</td>\n",
       "      <td>226920</td>\n",
       "      <td>high_budget</td>\n",
       "      <td>True</td>\n",
       "      <td>tier_4</td>\n",
       "    </tr>\n",
       "    <tr>\n",
       "      <th>278</th>\n",
       "      <td>65</td>\n",
       "      <td>2012-06-22</td>\n",
       "      <td>Abraham Lincoln: Vampire Hunter</td>\n",
       "      <td>67500000</td>\n",
       "      <td>37519139</td>\n",
       "      <td>137489730</td>\n",
       "      <td>2.036885</td>\n",
       "      <td>2012</td>\n",
       "      <td>tt1611224</td>\n",
       "      <td>Abraham Lincoln: Vampire Hunter</td>\n",
       "      <td>Abraham Lincoln: Vampire Hunter</td>\n",
       "      <td>105.0</td>\n",
       "      <td>Action,Fantasy,Horror</td>\n",
       "      <td>5.9</td>\n",
       "      <td>142853</td>\n",
       "      <td>high_budget</td>\n",
       "      <td>True</td>\n",
       "      <td>tier_4</td>\n",
       "    </tr>\n",
       "    <tr>\n",
       "      <th>...</th>\n",
       "      <td>...</td>\n",
       "      <td>...</td>\n",
       "      <td>...</td>\n",
       "      <td>...</td>\n",
       "      <td>...</td>\n",
       "      <td>...</td>\n",
       "      <td>...</td>\n",
       "      <td>...</td>\n",
       "      <td>...</td>\n",
       "      <td>...</td>\n",
       "      <td>...</td>\n",
       "      <td>...</td>\n",
       "      <td>...</td>\n",
       "      <td>...</td>\n",
       "      <td>...</td>\n",
       "      <td>...</td>\n",
       "      <td>...</td>\n",
       "      <td>...</td>\n",
       "    </tr>\n",
       "    <tr>\n",
       "      <th>1577</th>\n",
       "      <td>35</td>\n",
       "      <td>2013-10-25</td>\n",
       "      <td>Her Cry: La Llorona Investigation</td>\n",
       "      <td>35000</td>\n",
       "      <td>0</td>\n",
       "      <td>0</td>\n",
       "      <td>0.000000</td>\n",
       "      <td>2013</td>\n",
       "      <td>tt2469216</td>\n",
       "      <td>Her Cry: La Llorona Investigation</td>\n",
       "      <td>Her Cry: La Llorona Investigation</td>\n",
       "      <td>89.0</td>\n",
       "      <td>Horror</td>\n",
       "      <td>3.7</td>\n",
       "      <td>70</td>\n",
       "      <td>low_budget</td>\n",
       "      <td>True</td>\n",
       "      <td>tier_1</td>\n",
       "    </tr>\n",
       "    <tr>\n",
       "      <th>1581</th>\n",
       "      <td>49</td>\n",
       "      <td>2015-09-01</td>\n",
       "      <td>Exeter</td>\n",
       "      <td>25000</td>\n",
       "      <td>0</td>\n",
       "      <td>489792</td>\n",
       "      <td>19.591680</td>\n",
       "      <td>2015</td>\n",
       "      <td>tt1945044</td>\n",
       "      <td>Exeter</td>\n",
       "      <td>Exeter</td>\n",
       "      <td>91.0</td>\n",
       "      <td>Horror,Mystery,Thriller</td>\n",
       "      <td>4.5</td>\n",
       "      <td>5156</td>\n",
       "      <td>low_budget</td>\n",
       "      <td>True</td>\n",
       "      <td>tier_1</td>\n",
       "    </tr>\n",
       "    <tr>\n",
       "      <th>1586</th>\n",
       "      <td>59</td>\n",
       "      <td>2011-11-25</td>\n",
       "      <td>The Ridges</td>\n",
       "      <td>17300</td>\n",
       "      <td>0</td>\n",
       "      <td>0</td>\n",
       "      <td>0.000000</td>\n",
       "      <td>2011</td>\n",
       "      <td>tt1781935</td>\n",
       "      <td>The Ridges</td>\n",
       "      <td>The Ridges</td>\n",
       "      <td>89.0</td>\n",
       "      <td>Drama,Horror,Thriller</td>\n",
       "      <td>2.9</td>\n",
       "      <td>127</td>\n",
       "      <td>low_budget</td>\n",
       "      <td>True</td>\n",
       "      <td>tier_1</td>\n",
       "    </tr>\n",
       "    <tr>\n",
       "      <th>1589</th>\n",
       "      <td>78</td>\n",
       "      <td>2018-12-31</td>\n",
       "      <td>Red 11</td>\n",
       "      <td>7000</td>\n",
       "      <td>0</td>\n",
       "      <td>0</td>\n",
       "      <td>0.000000</td>\n",
       "      <td>2018</td>\n",
       "      <td>tt7837402</td>\n",
       "      <td>Red 11</td>\n",
       "      <td>Red 11</td>\n",
       "      <td>77.0</td>\n",
       "      <td>Horror,Sci-Fi,Thriller</td>\n",
       "      <td>5.6</td>\n",
       "      <td>43</td>\n",
       "      <td>low_budget</td>\n",
       "      <td>True</td>\n",
       "      <td>tier_1</td>\n",
       "    </tr>\n",
       "    <tr>\n",
       "      <th>1590</th>\n",
       "      <td>81</td>\n",
       "      <td>2015-09-29</td>\n",
       "      <td>A Plague So Pleasant</td>\n",
       "      <td>1400</td>\n",
       "      <td>0</td>\n",
       "      <td>0</td>\n",
       "      <td>0.000000</td>\n",
       "      <td>2015</td>\n",
       "      <td>tt2107644</td>\n",
       "      <td>A Plague So Pleasant</td>\n",
       "      <td>A Plague So Pleasant</td>\n",
       "      <td>76.0</td>\n",
       "      <td>Drama,Horror,Thriller</td>\n",
       "      <td>5.4</td>\n",
       "      <td>72</td>\n",
       "      <td>low_budget</td>\n",
       "      <td>True</td>\n",
       "      <td>tier_1</td>\n",
       "    </tr>\n",
       "  </tbody>\n",
       "</table>\n",
       "<p>203 rows × 18 columns</p>\n",
       "</div>"
      ],
      "text/plain": [
       "      id release_date                              movie  production_budget  \\\n",
       "43    69   2013-06-21                        World War Z          190000000   \n",
       "60    94   2018-08-10                            The Meg          178000000   \n",
       "106   89   2012-05-11                       Dark Shadows          150000000   \n",
       "198   12   2017-05-19                    Alien: Covenant           97000000   \n",
       "278   65   2012-06-22    Abraham Lincoln: Vampire Hunter           67500000   \n",
       "...   ..          ...                                ...                ...   \n",
       "1577  35   2013-10-25  Her Cry: La Llorona Investigation              35000   \n",
       "1581  49   2015-09-01                             Exeter              25000   \n",
       "1586  59   2011-11-25                         The Ridges              17300   \n",
       "1589  78   2018-12-31                             Red 11               7000   \n",
       "1590  81   2015-09-29               A Plague So Pleasant               1400   \n",
       "\n",
       "      domestic_gross  worldwide_gross  return_on_investment  year   movie_id  \\\n",
       "43         202359711        531514650              2.797446  2013  tt0816711   \n",
       "60         145443742        529530715              2.974892  2018  tt4779682   \n",
       "106         79727149        238202668              1.588018  2012  tt1077368   \n",
       "198         74262031        238521247              2.458982  2017  tt2316204   \n",
       "278         37519139        137489730              2.036885  2012  tt1611224   \n",
       "...              ...              ...                   ...   ...        ...   \n",
       "1577               0                0              0.000000  2013  tt2469216   \n",
       "1581               0           489792             19.591680  2015  tt1945044   \n",
       "1586               0                0              0.000000  2011  tt1781935   \n",
       "1589               0                0              0.000000  2018  tt7837402   \n",
       "1590               0                0              0.000000  2015  tt2107644   \n",
       "\n",
       "                          primary_title                     original_title  \\\n",
       "43                          World War Z                        World War Z   \n",
       "60                              The Meg                            The Meg   \n",
       "106                        Dark Shadows                       Dark Shadows   \n",
       "198                     Alien: Covenant                    Alien: Covenant   \n",
       "278     Abraham Lincoln: Vampire Hunter    Abraham Lincoln: Vampire Hunter   \n",
       "...                                 ...                                ...   \n",
       "1577  Her Cry: La Llorona Investigation  Her Cry: La Llorona Investigation   \n",
       "1581                             Exeter                             Exeter   \n",
       "1586                         The Ridges                         The Ridges   \n",
       "1589                             Red 11                             Red 11   \n",
       "1590               A Plague So Pleasant               A Plague So Pleasant   \n",
       "\n",
       "      runtime_minutes                   genres  averagerating  numvotes  \\\n",
       "43              116.0  Action,Adventure,Horror            7.0    553751   \n",
       "60              113.0     Action,Horror,Sci-Fi            5.7    114042   \n",
       "106             113.0    Comedy,Fantasy,Horror            6.2    229818   \n",
       "198             122.0   Horror,Sci-Fi,Thriller            6.4    226920   \n",
       "278             105.0    Action,Fantasy,Horror            5.9    142853   \n",
       "...               ...                      ...            ...       ...   \n",
       "1577             89.0                   Horror            3.7        70   \n",
       "1581             91.0  Horror,Mystery,Thriller            4.5      5156   \n",
       "1586             89.0    Drama,Horror,Thriller            2.9       127   \n",
       "1589             77.0   Horror,Sci-Fi,Thriller            5.6        43   \n",
       "1590             76.0    Drama,Horror,Thriller            5.4        72   \n",
       "\n",
       "      budget_tier  Horror    Tier  \n",
       "43    high_budget    True  tier_4  \n",
       "60    high_budget    True  tier_4  \n",
       "106   high_budget    True  tier_4  \n",
       "198   high_budget    True  tier_4  \n",
       "278   high_budget    True  tier_4  \n",
       "...           ...     ...     ...  \n",
       "1577   low_budget    True  tier_1  \n",
       "1581   low_budget    True  tier_1  \n",
       "1586   low_budget    True  tier_1  \n",
       "1589   low_budget    True  tier_1  \n",
       "1590   low_budget    True  tier_1  \n",
       "\n",
       "[203 rows x 18 columns]"
      ]
     },
     "execution_count": 58,
     "metadata": {},
     "output_type": "execute_result"
    }
   ],
   "source": [
    "#create a list of our conditions\n",
    "conditions = [\n",
    "    (horror_sample['production_budget'] <= 7500000),\n",
    "    (horror_sample['production_budget'] > 7500000) & (horror_sample['production_budget'] <= 11000000),\n",
    "    (horror_sample['production_budget'] > 1100000) & (horror_sample['production_budget'] <= 15000000),\n",
    "    (horror_sample['production_budget'] > 15000000)]\n",
    "\n",
    "#create a list of the values we want to assign for each condition\n",
    "values = ['tier_1', 'tier_2', 'tier_3', 'tier_4']\n",
    "\n",
    "#create a new column and use np.select to assign values to it using our lists as arguments\n",
    "horror_sample['Tier'] = np.select(conditions, values)\n",
    "horror_sample"
   ]
  },
  {
   "cell_type": "code",
   "execution_count": 59,
   "metadata": {},
   "outputs": [],
   "source": [
    "tier4_hor = horror_sample.loc[horror_sample['Tier'] == 'tier_4']\n",
    "tier3_hor = horror_sample.loc[horror_sample['Tier'] == 'tier_3']\n",
    "tier2_hor = horror_sample.loc[horror_sample['Tier'] == 'tier_2']\n",
    "tier1_hor = horror_sample.loc[horror_sample['Tier'] == 'tier_1']"
   ]
  },
  {
   "cell_type": "code",
   "execution_count": 60,
   "metadata": {},
   "outputs": [
    {
     "name": "stdout",
     "output_type": "stream",
     "text": [
      "2.66466076579254 5.751416179443601 6.442151812147419 6.428008095425264\n"
     ]
    }
   ],
   "source": [
    "tier4_hor_roim = horror_sample.loc[horror_sample['Tier'] == 'tier_4']['return_on_investment'].mean()\n",
    "tier3_hor_roim = horror_sample.loc[horror_sample['Tier'] == 'tier_3']['return_on_investment'].mean()\n",
    "tier2_hor_roim = horror_sample.loc[horror_sample['Tier'] == 'tier_2']['return_on_investment'].mean()\n",
    "tier1_hor_roim = horror_sample.loc[horror_sample['Tier'] == 'tier_1']['return_on_investment'].mean()\n",
    "print(tier4_hor_roim, tier3_hor_roim, tier2_hor_roim, tier1_hor_roim)"
   ]
  },
  {
   "cell_type": "code",
   "execution_count": 61,
   "metadata": {},
   "outputs": [
    {
     "name": "stdout",
     "output_type": "stream",
     "text": [
      "   Tiers  ROI_Mean\n",
      "0      4  2.664661\n",
      "1      3  5.751416\n",
      "2      2  6.442152\n",
      "3      1  6.428008\n"
     ]
    }
   ],
   "source": [
    "#creating a new df for tier ROI means\n",
    "horror_roi_means = {\n",
    "    'Tiers':[4,3,2,1],\n",
    "    'ROI_Mean':[tier4_hor_roim, tier3_hor_roim, tier2_hor_roim, tier1_hor_roim]}\n",
    "    \n",
    "horror_roi_means_df = pd.DataFrame(horror_roi_means)\n",
    "print(horror_roi_means_df)"
   ]
  },
  {
   "cell_type": "code",
   "execution_count": 62,
   "metadata": {},
   "outputs": [
    {
     "data": {
      "text/plain": [
       "(None, 5.065891981117695e-10, 3.0756379868559836)"
      ]
     },
     "execution_count": 62,
     "metadata": {},
     "output_type": "execute_result"
    },
    {
     "data": {
      "image/png": "[encoded data removed]",
      "text/plain": [
       "<Figure size 720x288 with 1 Axes>"
      ]
     },
     "metadata": {},
     "output_type": "display_data"
    }
   ],
   "source": [
    "#Plotting the line\n",
    "def best_fit(x, y):\n",
    "    # Create a scatter plot of x vs. y\n",
    "    fig, ax = plt.subplots(figsize=(10,4))\n",
    "    ax.scatter(x, y, label=\"Data\")\n",
    "\n",
    "    # Calculate coefficient and intercept\n",
    "    m = slope(x, y)\n",
    "    c = intercept(m, x, y)\n",
    "    \n",
    "    # Plot line created by coefficient and intercept\n",
    "    regression_line = m * x + c\n",
    "    ax.plot(x, regression_line, label= \"Regression Line\", color='red')\n",
    "    ax.get_lines()[0].set_color(\"blue\")\n",
    "    ax.legend()\n",
    "    \n",
    "best_fit(horror_roi_means_df['Tiers'], horror_roi_means_df['ROI_Mean']), m, c"
   ]
  },
  {
   "cell_type": "code",
   "execution_count": 63,
   "metadata": {},
   "outputs": [],
   "source": [
    "horror_roi_means_array = horror_roi_means_df['ROI_Mean'].array"
   ]
  },
  {
   "cell_type": "code",
   "execution_count": 64,
   "metadata": {},
   "outputs": [],
   "source": [
    "horror_tier_array = horror_roi_means_df[[\"Tiers\"]] "
   ]
  },
  {
   "cell_type": "code",
   "execution_count": 65,
   "metadata": {},
   "outputs": [
    {
     "name": "stdout",
     "output_type": "stream",
     "text": [
      "0.7380776735469958\n"
     ]
    }
   ],
   "source": [
    "from sklearn.linear_model import LinearRegression\n",
    "\n",
    "#initiate linear regression model\n",
    "model = LinearRegression()\n",
    "\n",
    "#define predictor and response variables\n",
    "X, y = horror_tier_array, horror_roi_means_array\n",
    "\n",
    "#fit regression model\n",
    "model.fit(X, y)\n",
    "\n",
    "#calculate R-squared of regression model\n",
    "r_squared = model.score(X, y)\n",
    "\n",
    "#view R-squared value\n",
    "print(r_squared)"
   ]
  },
  {
   "cell_type": "code",
   "execution_count": null,
   "metadata": {},
   "outputs": [],
   "source": []
  }
 ],
 "metadata": {
  "kernelspec": {
   "display_name": "Python (learn-env)",
   "language": "python",
   "name": "learn-env"
  },
  "language_info": {
   "codemirror_mode": {
    "name": "ipython",
    "version": 3
   },
   "file_extension": ".py",
   "mimetype": "text/x-python",
   "name": "python",
   "nbconvert_exporter": "python",
   "pygments_lexer": "ipython3",
   "version": "3.8.5"
  }
 },
 "nbformat": 4,
 "nbformat_minor": 4
}
