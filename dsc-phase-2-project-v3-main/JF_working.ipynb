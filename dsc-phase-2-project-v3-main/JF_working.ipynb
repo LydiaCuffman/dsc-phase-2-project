{
 "cells": [
  {
   "cell_type": "markdown",
   "metadata": {},
   "source": [
    "# WORKING NOTEBOOK - JF\n",
    "<br>"
   ]
  },
  {
   "cell_type": "markdown",
   "metadata": {},
   "source": [
    "## Exploring MOVIE GROSS CSV"
   ]
  },
  {
   "cell_type": "code",
   "execution_count": 1,
   "metadata": {},
   "outputs": [],
   "source": [
    "import pandas as pd\n",
    "import numpy as np\n",
    "import seaborn as sns"
   ]
  },
  {
   "cell_type": "code",
   "execution_count": 2,
   "metadata": {},
   "outputs": [],
   "source": [
    "# df = pd.read_csv('zippedData/bom.movie_gross.csv')\n",
    "# df"
   ]
  },
  {
   "cell_type": "code",
   "execution_count": 3,
   "metadata": {},
   "outputs": [],
   "source": [
    "# df.info()"
   ]
  },
  {
   "cell_type": "code",
   "execution_count": 4,
   "metadata": {},
   "outputs": [],
   "source": [
    "#Seems like there are a lot fo null values in 'foreign_gross' column\n",
    "#A few in 'studio' and 'doemstic_gross'"
   ]
  },
  {
   "cell_type": "code",
   "execution_count": 5,
   "metadata": {},
   "outputs": [],
   "source": [
    "# df[df['domestic_gross'].isna()]"
   ]
  },
  {
   "cell_type": "code",
   "execution_count": 6,
   "metadata": {},
   "outputs": [],
   "source": [
    "# df[df['foreign_gross'].isna()]"
   ]
  },
  {
   "cell_type": "code",
   "execution_count": 7,
   "metadata": {},
   "outputs": [],
   "source": [
    "# df.sort_values(by='domestic_gross', ascending=False)"
   ]
  },
  {
   "cell_type": "code",
   "execution_count": 8,
   "metadata": {},
   "outputs": [],
   "source": [
    "# df_studio_vc = df['studio'].value_counts()"
   ]
  },
  {
   "cell_type": "code",
   "execution_count": 9,
   "metadata": {},
   "outputs": [],
   "source": [
    "# df_studio_vc.loc[df_studio_vc  20]"
   ]
  },
  {
   "cell_type": "code",
   "execution_count": 10,
   "metadata": {},
   "outputs": [],
   "source": [
    "#REPLACING NULL VALUES IN FOREIGN_GROSS WITH \"0\"?\n",
    "#df['foreign_gross'] = df['foreign_gross'].fillna(0)\n",
    "#df['foreign_gross']"
   ]
  },
  {
   "cell_type": "code",
   "execution_count": 11,
   "metadata": {},
   "outputs": [],
   "source": [
    "#CREATING NEW COLUMN TO DIFFERENTIATE BETWEEN MOVIES BETWEEN THAT AIRED ONLY DOMESTICALLY\n",
    "#df['Foreign_Release'] = np.where(df['foreign_gross'] == 0, True, False)"
   ]
  },
  {
   "cell_type": "markdown",
   "metadata": {},
   "source": [
    "# Merging the budget dataframe with the IMDB data pulled from SQL"
   ]
  },
  {
   "cell_type": "code",
   "execution_count": null,
   "metadata": {},
   "outputs": [],
   "source": [
    "#imports and connect to SQL\n",
    "import pandas as pd\n",
    "import sqlite3\n",
    "import pandasql\n",
    "import matplotlib.pyplot as plt\n",
    "\n",
    "\n",
    "conn = sqlite3.connect('zippedData/im.db')"
   ]
  },
  {
   "cell_type": "code",
   "execution_count": 13,
   "metadata": {},
   "outputs": [],
   "source": [
    "#creating a dataframe with the info we want to take from the imdb database\n",
    "imdb_ratings = pd.read_sql(\n",
    "    \"\"\"\n",
    "    SELECT basics.movie_id, basics.primary_title, basics.original_title, basics.runtime_minutes, basics.genres, ratings.averagerating, ratings.numvotes\n",
    "    FROM movie_basics as basics\n",
    "        JOIN movie_ratings as ratings\n",
    "            USING(movie_id)\n",
    "    \"\"\", conn\n",
    ")"
   ]
  },
  {
   "cell_type": "code",
   "execution_count": 14,
   "metadata": {},
   "outputs": [],
   "source": [
    "budget_cleaned = pd.read_csv('../zippedData/success.csv')"
   ]
  },
  {
   "cell_type": "code",
   "execution_count": 15,
   "metadata": {},
   "outputs": [],
   "source": [
    "#removing duplicates from the movie title column in each dataframe before merging them\n",
    "imdb_ratings = imdb_ratings.drop_duplicates(subset=['primary_title'])\n",
    "budget_cleaned = budget_cleaned.drop_duplicates(subset=['movie'])\n"
   ]
  },
  {
   "cell_type": "code",
   "execution_count": 16,
   "metadata": {},
   "outputs": [],
   "source": [
    "all_movie_data = pd.merge(budget_cleaned, imdb_ratings, left_on='movie', right_on='primary_title', how='inner')\n"
   ]
  },
  {
   "cell_type": "code",
   "execution_count": 17,
   "metadata": {},
   "outputs": [
    {
     "data": {
      "text/plain": [
       "False    984\n",
       "Name: movie, dtype: int64"
      ]
     },
     "execution_count": 17,
     "metadata": {},
     "output_type": "execute_result"
    }
   ],
   "source": [
    "#duplicates sanity check\n",
    "all_movie_data['movie'].duplicated().value_counts()"
   ]
  },
  {
   "cell_type": "markdown",
   "metadata": {},
   "source": [
    "# Production Budget EDA"
   ]
  },
  {
   "cell_type": "code",
   "execution_count": 18,
   "metadata": {},
   "outputs": [
    {
     "data": {
      "text/html": [
       "<div>\n",
       "<style scoped>\n",
       "    .dataframe tbody tr th:only-of-type {\n",
       "        vertical-align: middle;\n",
       "    }\n",
       "\n",
       "    .dataframe tbody tr th {\n",
       "        vertical-align: top;\n",
       "    }\n",
       "\n",
       "    .dataframe thead th {\n",
       "        text-align: right;\n",
       "    }\n",
       "</style>\n",
       "<table border=\"1\" class=\"dataframe\">\n",
       "  <thead>\n",
       "    <tr style=\"text-align: right;\">\n",
       "      <th></th>\n",
       "      <th>Unnamed: 0</th>\n",
       "      <th>id</th>\n",
       "      <th>release_date</th>\n",
       "      <th>movie</th>\n",
       "      <th>production_budget</th>\n",
       "      <th>domestic_gross</th>\n",
       "      <th>worldwide_gross</th>\n",
       "      <th>return_on_investment</th>\n",
       "      <th>year</th>\n",
       "      <th>movie_id</th>\n",
       "      <th>primary_title</th>\n",
       "      <th>original_title</th>\n",
       "      <th>runtime_minutes</th>\n",
       "      <th>genres</th>\n",
       "      <th>averagerating</th>\n",
       "      <th>numvotes</th>\n",
       "    </tr>\n",
       "  </thead>\n",
       "  <tbody>\n",
       "    <tr>\n",
       "      <th>0</th>\n",
       "      <td>1</td>\n",
       "      <td>2</td>\n",
       "      <td>2011-05-20</td>\n",
       "      <td>Pirates of the Caribbean: On Stranger Tides</td>\n",
       "      <td>410600000</td>\n",
       "      <td>241063875</td>\n",
       "      <td>1045663875</td>\n",
       "      <td>2.546673</td>\n",
       "      <td>2011</td>\n",
       "      <td>tt1298650</td>\n",
       "      <td>Pirates of the Caribbean: On Stranger Tides</td>\n",
       "      <td>Pirates of the Caribbean: On Stranger Tides</td>\n",
       "      <td>136.0</td>\n",
       "      <td>Action,Adventure,Fantasy</td>\n",
       "      <td>6.6</td>\n",
       "      <td>447624</td>\n",
       "    </tr>\n",
       "    <tr>\n",
       "      <th>1</th>\n",
       "      <td>3</td>\n",
       "      <td>4</td>\n",
       "      <td>2015-05-01</td>\n",
       "      <td>Avengers: Age of Ultron</td>\n",
       "      <td>330600000</td>\n",
       "      <td>459005868</td>\n",
       "      <td>1403013963</td>\n",
       "      <td>4.243841</td>\n",
       "      <td>2015</td>\n",
       "      <td>tt2395427</td>\n",
       "      <td>Avengers: Age of Ultron</td>\n",
       "      <td>Avengers: Age of Ultron</td>\n",
       "      <td>141.0</td>\n",
       "      <td>Action,Adventure,Sci-Fi</td>\n",
       "      <td>7.3</td>\n",
       "      <td>665594</td>\n",
       "    </tr>\n",
       "    <tr>\n",
       "      <th>2</th>\n",
       "      <td>6</td>\n",
       "      <td>7</td>\n",
       "      <td>2018-04-27</td>\n",
       "      <td>Avengers: Infinity War</td>\n",
       "      <td>300000000</td>\n",
       "      <td>678815482</td>\n",
       "      <td>2048134200</td>\n",
       "      <td>6.827114</td>\n",
       "      <td>2018</td>\n",
       "      <td>tt4154756</td>\n",
       "      <td>Avengers: Infinity War</td>\n",
       "      <td>Avengers: Infinity War</td>\n",
       "      <td>149.0</td>\n",
       "      <td>Action,Adventure,Sci-Fi</td>\n",
       "      <td>8.5</td>\n",
       "      <td>670926</td>\n",
       "    </tr>\n",
       "    <tr>\n",
       "      <th>3</th>\n",
       "      <td>8</td>\n",
       "      <td>9</td>\n",
       "      <td>2017-11-17</td>\n",
       "      <td>Justice League</td>\n",
       "      <td>300000000</td>\n",
       "      <td>229024295</td>\n",
       "      <td>655945209</td>\n",
       "      <td>2.186484</td>\n",
       "      <td>2017</td>\n",
       "      <td>tt0974015</td>\n",
       "      <td>Justice League</td>\n",
       "      <td>Justice League</td>\n",
       "      <td>120.0</td>\n",
       "      <td>Action,Adventure,Fantasy</td>\n",
       "      <td>6.5</td>\n",
       "      <td>329135</td>\n",
       "    </tr>\n",
       "    <tr>\n",
       "      <th>4</th>\n",
       "      <td>9</td>\n",
       "      <td>10</td>\n",
       "      <td>2015-11-06</td>\n",
       "      <td>Spectre</td>\n",
       "      <td>300000000</td>\n",
       "      <td>200074175</td>\n",
       "      <td>879620923</td>\n",
       "      <td>2.932070</td>\n",
       "      <td>2015</td>\n",
       "      <td>tt2379713</td>\n",
       "      <td>Spectre</td>\n",
       "      <td>Spectre</td>\n",
       "      <td>148.0</td>\n",
       "      <td>Action,Adventure,Thriller</td>\n",
       "      <td>6.8</td>\n",
       "      <td>352504</td>\n",
       "    </tr>\n",
       "    <tr>\n",
       "      <th>...</th>\n",
       "      <td>...</td>\n",
       "      <td>...</td>\n",
       "      <td>...</td>\n",
       "      <td>...</td>\n",
       "      <td>...</td>\n",
       "      <td>...</td>\n",
       "      <td>...</td>\n",
       "      <td>...</td>\n",
       "      <td>...</td>\n",
       "      <td>...</td>\n",
       "      <td>...</td>\n",
       "      <td>...</td>\n",
       "      <td>...</td>\n",
       "      <td>...</td>\n",
       "      <td>...</td>\n",
       "      <td>...</td>\n",
       "    </tr>\n",
       "    <tr>\n",
       "      <th>979</th>\n",
       "      <td>5672</td>\n",
       "      <td>73</td>\n",
       "      <td>2012-06-15</td>\n",
       "      <td>Your Sister's Sister</td>\n",
       "      <td>120000</td>\n",
       "      <td>1597486</td>\n",
       "      <td>3090593</td>\n",
       "      <td>25.754942</td>\n",
       "      <td>2012</td>\n",
       "      <td>tt1742336</td>\n",
       "      <td>Your Sister's Sister</td>\n",
       "      <td>Your Sister's Sister</td>\n",
       "      <td>90.0</td>\n",
       "      <td>Comedy,Drama</td>\n",
       "      <td>6.7</td>\n",
       "      <td>24780</td>\n",
       "    </tr>\n",
       "    <tr>\n",
       "      <th>980</th>\n",
       "      <td>5679</td>\n",
       "      <td>80</td>\n",
       "      <td>2015-07-10</td>\n",
       "      <td>The Gallows</td>\n",
       "      <td>100000</td>\n",
       "      <td>22764410</td>\n",
       "      <td>41656474</td>\n",
       "      <td>416.564740</td>\n",
       "      <td>2015</td>\n",
       "      <td>tt2309260</td>\n",
       "      <td>The Gallows</td>\n",
       "      <td>The Gallows</td>\n",
       "      <td>81.0</td>\n",
       "      <td>Horror,Mystery,Thriller</td>\n",
       "      <td>4.2</td>\n",
       "      <td>17763</td>\n",
       "    </tr>\n",
       "    <tr>\n",
       "      <th>981</th>\n",
       "      <td>5685</td>\n",
       "      <td>86</td>\n",
       "      <td>2017-07-07</td>\n",
       "      <td>A Ghost Story</td>\n",
       "      <td>100000</td>\n",
       "      <td>1594798</td>\n",
       "      <td>2769782</td>\n",
       "      <td>27.697820</td>\n",
       "      <td>2017</td>\n",
       "      <td>tt6265828</td>\n",
       "      <td>A Ghost Story</td>\n",
       "      <td>A Ghost Story</td>\n",
       "      <td>92.0</td>\n",
       "      <td>Drama,Fantasy,Romance</td>\n",
       "      <td>6.8</td>\n",
       "      <td>46280</td>\n",
       "    </tr>\n",
       "    <tr>\n",
       "      <th>982</th>\n",
       "      <td>5737</td>\n",
       "      <td>38</td>\n",
       "      <td>2016-03-18</td>\n",
       "      <td>Krisha</td>\n",
       "      <td>30000</td>\n",
       "      <td>144822</td>\n",
       "      <td>144822</td>\n",
       "      <td>4.827400</td>\n",
       "      <td>2016</td>\n",
       "      <td>tt4266638</td>\n",
       "      <td>Krisha</td>\n",
       "      <td>Krisha</td>\n",
       "      <td>83.0</td>\n",
       "      <td>Drama</td>\n",
       "      <td>7.2</td>\n",
       "      <td>5917</td>\n",
       "    </tr>\n",
       "    <tr>\n",
       "      <th>983</th>\n",
       "      <td>5748</td>\n",
       "      <td>49</td>\n",
       "      <td>2015-09-01</td>\n",
       "      <td>Exeter</td>\n",
       "      <td>25000</td>\n",
       "      <td>0</td>\n",
       "      <td>489792</td>\n",
       "      <td>19.591680</td>\n",
       "      <td>2015</td>\n",
       "      <td>tt1945044</td>\n",
       "      <td>Exeter</td>\n",
       "      <td>Exeter</td>\n",
       "      <td>91.0</td>\n",
       "      <td>Horror,Mystery,Thriller</td>\n",
       "      <td>4.5</td>\n",
       "      <td>5156</td>\n",
       "    </tr>\n",
       "  </tbody>\n",
       "</table>\n",
       "<p>984 rows × 16 columns</p>\n",
       "</div>"
      ],
      "text/plain": [
       "     Unnamed: 0  id release_date                                        movie  \\\n",
       "0             1   2   2011-05-20  Pirates of the Caribbean: On Stranger Tides   \n",
       "1             3   4   2015-05-01                      Avengers: Age of Ultron   \n",
       "2             6   7   2018-04-27                       Avengers: Infinity War   \n",
       "3             8   9   2017-11-17                               Justice League   \n",
       "4             9  10   2015-11-06                                      Spectre   \n",
       "..          ...  ..          ...                                          ...   \n",
       "979        5672  73   2012-06-15                         Your Sister's Sister   \n",
       "980        5679  80   2015-07-10                                  The Gallows   \n",
       "981        5685  86   2017-07-07                                A Ghost Story   \n",
       "982        5737  38   2016-03-18                                       Krisha   \n",
       "983        5748  49   2015-09-01                                       Exeter   \n",
       "\n",
       "     production_budget  domestic_gross  worldwide_gross  return_on_investment  \\\n",
       "0            410600000       241063875       1045663875              2.546673   \n",
       "1            330600000       459005868       1403013963              4.243841   \n",
       "2            300000000       678815482       2048134200              6.827114   \n",
       "3            300000000       229024295        655945209              2.186484   \n",
       "4            300000000       200074175        879620923              2.932070   \n",
       "..                 ...             ...              ...                   ...   \n",
       "979             120000         1597486          3090593             25.754942   \n",
       "980             100000        22764410         41656474            416.564740   \n",
       "981             100000         1594798          2769782             27.697820   \n",
       "982              30000          144822           144822              4.827400   \n",
       "983              25000               0           489792             19.591680   \n",
       "\n",
       "     year   movie_id                                primary_title  \\\n",
       "0    2011  tt1298650  Pirates of the Caribbean: On Stranger Tides   \n",
       "1    2015  tt2395427                      Avengers: Age of Ultron   \n",
       "2    2018  tt4154756                       Avengers: Infinity War   \n",
       "3    2017  tt0974015                               Justice League   \n",
       "4    2015  tt2379713                                      Spectre   \n",
       "..    ...        ...                                          ...   \n",
       "979  2012  tt1742336                         Your Sister's Sister   \n",
       "980  2015  tt2309260                                  The Gallows   \n",
       "981  2017  tt6265828                                A Ghost Story   \n",
       "982  2016  tt4266638                                       Krisha   \n",
       "983  2015  tt1945044                                       Exeter   \n",
       "\n",
       "                                  original_title  runtime_minutes  \\\n",
       "0    Pirates of the Caribbean: On Stranger Tides            136.0   \n",
       "1                        Avengers: Age of Ultron            141.0   \n",
       "2                         Avengers: Infinity War            149.0   \n",
       "3                                 Justice League            120.0   \n",
       "4                                        Spectre            148.0   \n",
       "..                                           ...              ...   \n",
       "979                         Your Sister's Sister             90.0   \n",
       "980                                  The Gallows             81.0   \n",
       "981                                A Ghost Story             92.0   \n",
       "982                                       Krisha             83.0   \n",
       "983                                       Exeter             91.0   \n",
       "\n",
       "                        genres  averagerating  numvotes  \n",
       "0     Action,Adventure,Fantasy            6.6    447624  \n",
       "1      Action,Adventure,Sci-Fi            7.3    665594  \n",
       "2      Action,Adventure,Sci-Fi            8.5    670926  \n",
       "3     Action,Adventure,Fantasy            6.5    329135  \n",
       "4    Action,Adventure,Thriller            6.8    352504  \n",
       "..                         ...            ...       ...  \n",
       "979               Comedy,Drama            6.7     24780  \n",
       "980    Horror,Mystery,Thriller            4.2     17763  \n",
       "981      Drama,Fantasy,Romance            6.8     46280  \n",
       "982                      Drama            7.2      5917  \n",
       "983    Horror,Mystery,Thriller            4.5      5156  \n",
       "\n",
       "[984 rows x 16 columns]"
      ]
     },
     "execution_count": 18,
     "metadata": {},
     "output_type": "execute_result"
    }
   ],
   "source": [
    "all_movie_data"
   ]
  },
  {
   "cell_type": "code",
   "execution_count": 19,
   "metadata": {},
   "outputs": [],
   "source": [
    "import numpy as np"
   ]
  },
  {
   "cell_type": "code",
   "execution_count": 20,
   "metadata": {},
   "outputs": [],
   "source": [
    "df1 = all_movie_data"
   ]
  },
  {
   "cell_type": "code",
   "execution_count": 21,
   "metadata": {},
   "outputs": [
    {
     "name": "stdout",
     "output_type": "stream",
     "text": [
      "<class 'pandas.core.frame.DataFrame'>\n",
      "Int64Index: 984 entries, 0 to 983\n",
      "Data columns (total 16 columns):\n",
      " #   Column                Non-Null Count  Dtype  \n",
      "---  ------                --------------  -----  \n",
      " 0   Unnamed: 0            984 non-null    int64  \n",
      " 1   id                    984 non-null    int64  \n",
      " 2   release_date          984 non-null    object \n",
      " 3   movie                 984 non-null    object \n",
      " 4   production_budget     984 non-null    int64  \n",
      " 5   domestic_gross        984 non-null    int64  \n",
      " 6   worldwide_gross       984 non-null    int64  \n",
      " 7   return_on_investment  984 non-null    float64\n",
      " 8   year                  984 non-null    int64  \n",
      " 9   movie_id              984 non-null    object \n",
      " 10  primary_title         984 non-null    object \n",
      " 11  original_title        984 non-null    object \n",
      " 12  runtime_minutes       978 non-null    float64\n",
      " 13  genres                982 non-null    object \n",
      " 14  averagerating         984 non-null    float64\n",
      " 15  numvotes              984 non-null    int64  \n",
      "dtypes: float64(3), int64(7), object(6)\n",
      "memory usage: 130.7+ KB\n"
     ]
    }
   ],
   "source": [
    "df1.info()"
   ]
  },
  {
   "cell_type": "code",
   "execution_count": 22,
   "metadata": {},
   "outputs": [
    {
     "data": {
      "text/html": [
       "<div>\n",
       "<style scoped>\n",
       "    .dataframe tbody tr th:only-of-type {\n",
       "        vertical-align: middle;\n",
       "    }\n",
       "\n",
       "    .dataframe tbody tr th {\n",
       "        vertical-align: top;\n",
       "    }\n",
       "\n",
       "    .dataframe thead th {\n",
       "        text-align: right;\n",
       "    }\n",
       "</style>\n",
       "<table border=\"1\" class=\"dataframe\">\n",
       "  <thead>\n",
       "    <tr style=\"text-align: right;\">\n",
       "      <th></th>\n",
       "      <th>Unnamed: 0</th>\n",
       "      <th>id</th>\n",
       "      <th>release_date</th>\n",
       "      <th>movie</th>\n",
       "      <th>production_budget</th>\n",
       "      <th>domestic_gross</th>\n",
       "      <th>worldwide_gross</th>\n",
       "      <th>return_on_investment</th>\n",
       "      <th>year</th>\n",
       "      <th>movie_id</th>\n",
       "      <th>primary_title</th>\n",
       "      <th>original_title</th>\n",
       "      <th>runtime_minutes</th>\n",
       "      <th>genres</th>\n",
       "      <th>averagerating</th>\n",
       "      <th>numvotes</th>\n",
       "      <th>budget_tier</th>\n",
       "    </tr>\n",
       "  </thead>\n",
       "  <tbody>\n",
       "    <tr>\n",
       "      <th>0</th>\n",
       "      <td>1</td>\n",
       "      <td>2</td>\n",
       "      <td>2011-05-20</td>\n",
       "      <td>Pirates of the Caribbean: On Stranger Tides</td>\n",
       "      <td>410600000</td>\n",
       "      <td>241063875</td>\n",
       "      <td>1045663875</td>\n",
       "      <td>2.546673</td>\n",
       "      <td>2011</td>\n",
       "      <td>tt1298650</td>\n",
       "      <td>Pirates of the Caribbean: On Stranger Tides</td>\n",
       "      <td>Pirates of the Caribbean: On Stranger Tides</td>\n",
       "      <td>136.0</td>\n",
       "      <td>Action,Adventure,Fantasy</td>\n",
       "      <td>6.6</td>\n",
       "      <td>447624</td>\n",
       "      <td>high_end</td>\n",
       "    </tr>\n",
       "    <tr>\n",
       "      <th>1</th>\n",
       "      <td>3</td>\n",
       "      <td>4</td>\n",
       "      <td>2015-05-01</td>\n",
       "      <td>Avengers: Age of Ultron</td>\n",
       "      <td>330600000</td>\n",
       "      <td>459005868</td>\n",
       "      <td>1403013963</td>\n",
       "      <td>4.243841</td>\n",
       "      <td>2015</td>\n",
       "      <td>tt2395427</td>\n",
       "      <td>Avengers: Age of Ultron</td>\n",
       "      <td>Avengers: Age of Ultron</td>\n",
       "      <td>141.0</td>\n",
       "      <td>Action,Adventure,Sci-Fi</td>\n",
       "      <td>7.3</td>\n",
       "      <td>665594</td>\n",
       "      <td>high_end</td>\n",
       "    </tr>\n",
       "    <tr>\n",
       "      <th>2</th>\n",
       "      <td>6</td>\n",
       "      <td>7</td>\n",
       "      <td>2018-04-27</td>\n",
       "      <td>Avengers: Infinity War</td>\n",
       "      <td>300000000</td>\n",
       "      <td>678815482</td>\n",
       "      <td>2048134200</td>\n",
       "      <td>6.827114</td>\n",
       "      <td>2018</td>\n",
       "      <td>tt4154756</td>\n",
       "      <td>Avengers: Infinity War</td>\n",
       "      <td>Avengers: Infinity War</td>\n",
       "      <td>149.0</td>\n",
       "      <td>Action,Adventure,Sci-Fi</td>\n",
       "      <td>8.5</td>\n",
       "      <td>670926</td>\n",
       "      <td>high_end</td>\n",
       "    </tr>\n",
       "    <tr>\n",
       "      <th>3</th>\n",
       "      <td>8</td>\n",
       "      <td>9</td>\n",
       "      <td>2017-11-17</td>\n",
       "      <td>Justice League</td>\n",
       "      <td>300000000</td>\n",
       "      <td>229024295</td>\n",
       "      <td>655945209</td>\n",
       "      <td>2.186484</td>\n",
       "      <td>2017</td>\n",
       "      <td>tt0974015</td>\n",
       "      <td>Justice League</td>\n",
       "      <td>Justice League</td>\n",
       "      <td>120.0</td>\n",
       "      <td>Action,Adventure,Fantasy</td>\n",
       "      <td>6.5</td>\n",
       "      <td>329135</td>\n",
       "      <td>high_end</td>\n",
       "    </tr>\n",
       "    <tr>\n",
       "      <th>4</th>\n",
       "      <td>9</td>\n",
       "      <td>10</td>\n",
       "      <td>2015-11-06</td>\n",
       "      <td>Spectre</td>\n",
       "      <td>300000000</td>\n",
       "      <td>200074175</td>\n",
       "      <td>879620923</td>\n",
       "      <td>2.932070</td>\n",
       "      <td>2015</td>\n",
       "      <td>tt2379713</td>\n",
       "      <td>Spectre</td>\n",
       "      <td>Spectre</td>\n",
       "      <td>148.0</td>\n",
       "      <td>Action,Adventure,Thriller</td>\n",
       "      <td>6.8</td>\n",
       "      <td>352504</td>\n",
       "      <td>high_end</td>\n",
       "    </tr>\n",
       "    <tr>\n",
       "      <th>...</th>\n",
       "      <td>...</td>\n",
       "      <td>...</td>\n",
       "      <td>...</td>\n",
       "      <td>...</td>\n",
       "      <td>...</td>\n",
       "      <td>...</td>\n",
       "      <td>...</td>\n",
       "      <td>...</td>\n",
       "      <td>...</td>\n",
       "      <td>...</td>\n",
       "      <td>...</td>\n",
       "      <td>...</td>\n",
       "      <td>...</td>\n",
       "      <td>...</td>\n",
       "      <td>...</td>\n",
       "      <td>...</td>\n",
       "      <td>...</td>\n",
       "    </tr>\n",
       "    <tr>\n",
       "      <th>979</th>\n",
       "      <td>5672</td>\n",
       "      <td>73</td>\n",
       "      <td>2012-06-15</td>\n",
       "      <td>Your Sister's Sister</td>\n",
       "      <td>120000</td>\n",
       "      <td>1597486</td>\n",
       "      <td>3090593</td>\n",
       "      <td>25.754942</td>\n",
       "      <td>2012</td>\n",
       "      <td>tt1742336</td>\n",
       "      <td>Your Sister's Sister</td>\n",
       "      <td>Your Sister's Sister</td>\n",
       "      <td>90.0</td>\n",
       "      <td>Comedy,Drama</td>\n",
       "      <td>6.7</td>\n",
       "      <td>24780</td>\n",
       "      <td>tier_1</td>\n",
       "    </tr>\n",
       "    <tr>\n",
       "      <th>980</th>\n",
       "      <td>5679</td>\n",
       "      <td>80</td>\n",
       "      <td>2015-07-10</td>\n",
       "      <td>The Gallows</td>\n",
       "      <td>100000</td>\n",
       "      <td>22764410</td>\n",
       "      <td>41656474</td>\n",
       "      <td>416.564740</td>\n",
       "      <td>2015</td>\n",
       "      <td>tt2309260</td>\n",
       "      <td>The Gallows</td>\n",
       "      <td>The Gallows</td>\n",
       "      <td>81.0</td>\n",
       "      <td>Horror,Mystery,Thriller</td>\n",
       "      <td>4.2</td>\n",
       "      <td>17763</td>\n",
       "      <td>tier_1</td>\n",
       "    </tr>\n",
       "    <tr>\n",
       "      <th>981</th>\n",
       "      <td>5685</td>\n",
       "      <td>86</td>\n",
       "      <td>2017-07-07</td>\n",
       "      <td>A Ghost Story</td>\n",
       "      <td>100000</td>\n",
       "      <td>1594798</td>\n",
       "      <td>2769782</td>\n",
       "      <td>27.697820</td>\n",
       "      <td>2017</td>\n",
       "      <td>tt6265828</td>\n",
       "      <td>A Ghost Story</td>\n",
       "      <td>A Ghost Story</td>\n",
       "      <td>92.0</td>\n",
       "      <td>Drama,Fantasy,Romance</td>\n",
       "      <td>6.8</td>\n",
       "      <td>46280</td>\n",
       "      <td>tier_1</td>\n",
       "    </tr>\n",
       "    <tr>\n",
       "      <th>982</th>\n",
       "      <td>5737</td>\n",
       "      <td>38</td>\n",
       "      <td>2016-03-18</td>\n",
       "      <td>Krisha</td>\n",
       "      <td>30000</td>\n",
       "      <td>144822</td>\n",
       "      <td>144822</td>\n",
       "      <td>4.827400</td>\n",
       "      <td>2016</td>\n",
       "      <td>tt4266638</td>\n",
       "      <td>Krisha</td>\n",
       "      <td>Krisha</td>\n",
       "      <td>83.0</td>\n",
       "      <td>Drama</td>\n",
       "      <td>7.2</td>\n",
       "      <td>5917</td>\n",
       "      <td>tier_1</td>\n",
       "    </tr>\n",
       "    <tr>\n",
       "      <th>983</th>\n",
       "      <td>5748</td>\n",
       "      <td>49</td>\n",
       "      <td>2015-09-01</td>\n",
       "      <td>Exeter</td>\n",
       "      <td>25000</td>\n",
       "      <td>0</td>\n",
       "      <td>489792</td>\n",
       "      <td>19.591680</td>\n",
       "      <td>2015</td>\n",
       "      <td>tt1945044</td>\n",
       "      <td>Exeter</td>\n",
       "      <td>Exeter</td>\n",
       "      <td>91.0</td>\n",
       "      <td>Horror,Mystery,Thriller</td>\n",
       "      <td>4.5</td>\n",
       "      <td>5156</td>\n",
       "      <td>tier_1</td>\n",
       "    </tr>\n",
       "  </tbody>\n",
       "</table>\n",
       "<p>984 rows × 17 columns</p>\n",
       "</div>"
      ],
      "text/plain": [
       "     Unnamed: 0  id release_date                                        movie  \\\n",
       "0             1   2   2011-05-20  Pirates of the Caribbean: On Stranger Tides   \n",
       "1             3   4   2015-05-01                      Avengers: Age of Ultron   \n",
       "2             6   7   2018-04-27                       Avengers: Infinity War   \n",
       "3             8   9   2017-11-17                               Justice League   \n",
       "4             9  10   2015-11-06                                      Spectre   \n",
       "..          ...  ..          ...                                          ...   \n",
       "979        5672  73   2012-06-15                         Your Sister's Sister   \n",
       "980        5679  80   2015-07-10                                  The Gallows   \n",
       "981        5685  86   2017-07-07                                A Ghost Story   \n",
       "982        5737  38   2016-03-18                                       Krisha   \n",
       "983        5748  49   2015-09-01                                       Exeter   \n",
       "\n",
       "     production_budget  domestic_gross  worldwide_gross  return_on_investment  \\\n",
       "0            410600000       241063875       1045663875              2.546673   \n",
       "1            330600000       459005868       1403013963              4.243841   \n",
       "2            300000000       678815482       2048134200              6.827114   \n",
       "3            300000000       229024295        655945209              2.186484   \n",
       "4            300000000       200074175        879620923              2.932070   \n",
       "..                 ...             ...              ...                   ...   \n",
       "979             120000         1597486          3090593             25.754942   \n",
       "980             100000        22764410         41656474            416.564740   \n",
       "981             100000         1594798          2769782             27.697820   \n",
       "982              30000          144822           144822              4.827400   \n",
       "983              25000               0           489792             19.591680   \n",
       "\n",
       "     year   movie_id                                primary_title  \\\n",
       "0    2011  tt1298650  Pirates of the Caribbean: On Stranger Tides   \n",
       "1    2015  tt2395427                      Avengers: Age of Ultron   \n",
       "2    2018  tt4154756                       Avengers: Infinity War   \n",
       "3    2017  tt0974015                               Justice League   \n",
       "4    2015  tt2379713                                      Spectre   \n",
       "..    ...        ...                                          ...   \n",
       "979  2012  tt1742336                         Your Sister's Sister   \n",
       "980  2015  tt2309260                                  The Gallows   \n",
       "981  2017  tt6265828                                A Ghost Story   \n",
       "982  2016  tt4266638                                       Krisha   \n",
       "983  2015  tt1945044                                       Exeter   \n",
       "\n",
       "                                  original_title  runtime_minutes  \\\n",
       "0    Pirates of the Caribbean: On Stranger Tides            136.0   \n",
       "1                        Avengers: Age of Ultron            141.0   \n",
       "2                         Avengers: Infinity War            149.0   \n",
       "3                                 Justice League            120.0   \n",
       "4                                        Spectre            148.0   \n",
       "..                                           ...              ...   \n",
       "979                         Your Sister's Sister             90.0   \n",
       "980                                  The Gallows             81.0   \n",
       "981                                A Ghost Story             92.0   \n",
       "982                                       Krisha             83.0   \n",
       "983                                       Exeter             91.0   \n",
       "\n",
       "                        genres  averagerating  numvotes budget_tier  \n",
       "0     Action,Adventure,Fantasy            6.6    447624    high_end  \n",
       "1      Action,Adventure,Sci-Fi            7.3    665594    high_end  \n",
       "2      Action,Adventure,Sci-Fi            8.5    670926    high_end  \n",
       "3     Action,Adventure,Fantasy            6.5    329135    high_end  \n",
       "4    Action,Adventure,Thriller            6.8    352504    high_end  \n",
       "..                         ...            ...       ...         ...  \n",
       "979               Comedy,Drama            6.7     24780      tier_1  \n",
       "980    Horror,Mystery,Thriller            4.2     17763      tier_1  \n",
       "981      Drama,Fantasy,Romance            6.8     46280      tier_1  \n",
       "982                      Drama            7.2      5917      tier_1  \n",
       "983    Horror,Mystery,Thriller            4.5      5156      tier_1  \n",
       "\n",
       "[984 rows x 17 columns]"
      ]
     },
     "execution_count": 22,
     "metadata": {},
     "output_type": "execute_result"
    }
   ],
   "source": [
    "# create a list of our conditions\n",
    "conditions = [\n",
    "    (df1['production_budget'] <= 7500000),\n",
    "    (df1['production_budget'] > 7500000) & (df1['production_budget'] <= 11000000),\n",
    "    (df1['production_budget'] > 11000000) & (df1['production_budget'] <= 15000000),\n",
    "    (df1['production_budget'] > 15000000) & (df1['production_budget'] < 100000000),\n",
    "    (df1['production_budget'] > 100000000)]\n",
    "\n",
    "# create a list of the values we want to assign for each condition\n",
    "values = ['tier_1', 'tier_2', 'tier_3', 'tier_4', 'high_end']\n",
    "\n",
    "# create a new column and use np.select to assign values to it using our lists as arguments\n",
    "df1['budget_tier'] = np.select(conditions, values)\n",
    "\n",
    "# display updated DataFrame\n",
    "df1"
   ]
  },
  {
   "cell_type": "code",
   "execution_count": 23,
   "metadata": {},
   "outputs": [
    {
     "name": "stdout",
     "output_type": "stream",
     "text": [
      "<class 'pandas.core.frame.DataFrame'>\n",
      "Int64Index: 984 entries, 0 to 983\n",
      "Data columns (total 17 columns):\n",
      " #   Column                Non-Null Count  Dtype  \n",
      "---  ------                --------------  -----  \n",
      " 0   Unnamed: 0            984 non-null    int64  \n",
      " 1   id                    984 non-null    int64  \n",
      " 2   release_date          984 non-null    object \n",
      " 3   movie                 984 non-null    object \n",
      " 4   production_budget     984 non-null    int64  \n",
      " 5   domestic_gross        984 non-null    int64  \n",
      " 6   worldwide_gross       984 non-null    int64  \n",
      " 7   return_on_investment  984 non-null    float64\n",
      " 8   year                  984 non-null    int64  \n",
      " 9   movie_id              984 non-null    object \n",
      " 10  primary_title         984 non-null    object \n",
      " 11  original_title        984 non-null    object \n",
      " 12  runtime_minutes       978 non-null    float64\n",
      " 13  genres                982 non-null    object \n",
      " 14  averagerating         984 non-null    float64\n",
      " 15  numvotes              984 non-null    int64  \n",
      " 16  budget_tier           984 non-null    object \n",
      "dtypes: float64(3), int64(7), object(7)\n",
      "memory usage: 138.4+ KB\n"
     ]
    }
   ],
   "source": [
    "df1.info()"
   ]
  },
  {
   "cell_type": "code",
   "execution_count": 24,
   "metadata": {},
   "outputs": [
    {
     "data": {
      "text/plain": [
       "tier_4      468\n",
       "tier_1      187\n",
       "high_end    175\n",
       "tier_3       76\n",
       "tier_2       68\n",
       "0            10\n",
       "Name: budget_tier, dtype: int64"
      ]
     },
     "execution_count": 24,
     "metadata": {},
     "output_type": "execute_result"
    }
   ],
   "source": [
    "df1['budget_tier'].value_counts()"
   ]
  },
  {
   "cell_type": "code",
   "execution_count": 25,
   "metadata": {},
   "outputs": [],
   "source": [
    "df_high_end = df1.loc[df1['budget_tier'] == 'high_end']\n",
    "df_tier4 = df1.loc[df1['budget_tier'] == 'tier_4']\n",
    "df_tier3 = df1.loc[df1['budget_tier'] == 'tier_3']\n",
    "df_tier2 = df1.loc[df1['budget_tier'] == 'tier_2']\n",
    "df_tier1 = df1.loc[df1['budget_tier'] == 'tier_1']"
   ]
  },
  {
   "cell_type": "code",
   "execution_count": 26,
   "metadata": {},
   "outputs": [],
   "source": [
    "df1.drop(df1[df1['return_on_investment'] == 416.564740].index, inplace = True)\n"
   ]
  },
  {
   "cell_type": "code",
   "execution_count": 27,
   "metadata": {},
   "outputs": [
    {
     "data": {
      "text/plain": [
       "count    175.000000\n",
       "mean       3.458412\n",
       "std        1.712223\n",
       "min        1.000265\n",
       "25%        2.120859\n",
       "50%        3.168614\n",
       "75%        4.277221\n",
       "max        8.483133\n",
       "Name: return_on_investment, dtype: float64"
      ]
     },
     "execution_count": 27,
     "metadata": {},
     "output_type": "execute_result"
    }
   ],
   "source": [
    "df_high_end['return_on_investment'].describe()"
   ]
  },
  {
   "cell_type": "code",
   "execution_count": 28,
   "metadata": {},
   "outputs": [
    {
     "data": {
      "image/png": "[encoded data removed]",
      "text/plain": [
       "<Figure size 432x288 with 1 Axes>"
      ]
     },
     "metadata": {
      "needs_background": "light"
     },
     "output_type": "display_data"
    }
   ],
   "source": [
    "sns.kdeplot(df_high_end['return_on_investment']);"
   ]
  },
  {
   "cell_type": "code",
   "execution_count": 29,
   "metadata": {},
   "outputs": [
    {
     "data": {
      "text/plain": [
       "count    468.000000\n",
       "mean       3.659275\n",
       "std        3.053796\n",
       "min        1.007812\n",
       "25%        1.805754\n",
       "50%        2.654767\n",
       "75%        4.226904\n",
       "max       21.317558\n",
       "Name: return_on_investment, dtype: float64"
      ]
     },
     "execution_count": 29,
     "metadata": {},
     "output_type": "execute_result"
    }
   ],
   "source": [
    "df_tier4['return_on_investment'].describe()"
   ]
  },
  {
   "cell_type": "code",
   "execution_count": 30,
   "metadata": {},
   "outputs": [
    {
     "data": {
      "image/png": "[encoded data removed]",
      "text/plain": [
       "<Figure size 432x288 with 1 Axes>"
      ]
     },
     "metadata": {
      "needs_background": "light"
     },
     "output_type": "display_data"
    }
   ],
   "source": [
    "sns.kdeplot(df_tier4['return_on_investment']);"
   ]
  },
  {
   "cell_type": "code",
   "execution_count": 31,
   "metadata": {},
   "outputs": [
    {
     "data": {
      "text/plain": [
       "count    76.000000\n",
       "mean      4.962560\n",
       "std       4.393866\n",
       "min       1.002909\n",
       "25%       1.996057\n",
       "50%       3.189146\n",
       "75%       7.201263\n",
       "max      25.597236\n",
       "Name: return_on_investment, dtype: float64"
      ]
     },
     "execution_count": 31,
     "metadata": {},
     "output_type": "execute_result"
    }
   ],
   "source": [
    "df_tier3['return_on_investment'].describe()"
   ]
  },
  {
   "cell_type": "code",
   "execution_count": 32,
   "metadata": {},
   "outputs": [
    {
     "data": {
      "image/png": "[encoded data removed]",
      "text/plain": [
       "<Figure size 432x288 with 1 Axes>"
      ]
     },
     "metadata": {
      "needs_background": "light"
     },
     "output_type": "display_data"
    }
   ],
   "source": [
    "sns.kdeplot(df_tier3['return_on_investment']);"
   ]
  },
  {
   "cell_type": "code",
   "execution_count": 33,
   "metadata": {},
   "outputs": [
    {
     "data": {
      "text/plain": [
       "count    68.000000\n",
       "mean      5.641559\n",
       "std       5.313995\n",
       "min       1.020562\n",
       "25%       2.349576\n",
       "50%       3.981974\n",
       "75%       7.040865\n",
       "max      31.016276\n",
       "Name: return_on_investment, dtype: float64"
      ]
     },
     "execution_count": 33,
     "metadata": {},
     "output_type": "execute_result"
    }
   ],
   "source": [
    "df_tier2['return_on_investment'].describe()"
   ]
  },
  {
   "cell_type": "code",
   "execution_count": 34,
   "metadata": {},
   "outputs": [
    {
     "data": {
      "image/png": "[encoded data removed]",
      "text/plain": [
       "<Figure size 432x288 with 1 Axes>"
      ]
     },
     "metadata": {
      "needs_background": "light"
     },
     "output_type": "display_data"
    }
   ],
   "source": [
    "sns.kdeplot(df_tier2['return_on_investment']);"
   ]
  },
  {
   "cell_type": "code",
   "execution_count": 70,
   "metadata": {},
   "outputs": [
    {
     "data": {
      "text/plain": [
       "797      1.138534\n",
       "798      4.214558\n",
       "799     24.364250\n",
       "800     12.229174\n",
       "801     11.500632\n",
       "          ...    \n",
       "979     25.754942\n",
       "980    416.564740\n",
       "981     27.697820\n",
       "982      4.827400\n",
       "983     19.591680\n",
       "Name: return_on_investment, Length: 187, dtype: float64"
      ]
     },
     "execution_count": 70,
     "metadata": {},
     "output_type": "execute_result"
    }
   ],
   "source": [
    "df_tier1['return_on_investment'].describe()"
   ]
  },
  {
   "cell_type": "code",
   "execution_count": 36,
   "metadata": {},
   "outputs": [
    {
     "data": {
      "image/png": "[encoded data removed]",
      "text/plain": [
       "<Figure size 432x288 with 1 Axes>"
      ]
     },
     "metadata": {
      "needs_background": "light"
     },
     "output_type": "display_data"
    }
   ],
   "source": [
    "sns.kdeplot(df_tier1['return_on_investment']);"
   ]
  },
  {
   "cell_type": "code",
   "execution_count": 37,
   "metadata": {},
   "outputs": [],
   "source": [
    "df1.drop(df1[df1['return_on_investment'] == 416.564740].index, inplace = True)\n"
   ]
  },
  {
   "cell_type": "code",
   "execution_count": 38,
   "metadata": {},
   "outputs": [
    {
     "name": "stdout",
     "output_type": "stream",
     "text": [
      "3.458411883048874 3.6592750922790787 4.962560017379813 5.64155868357292 9.500254101396758\n"
     ]
    }
   ],
   "source": [
    "highend_roi_mean = df1.loc[df1['budget_tier'] == 'high_end']['return_on_investment'].mean()\n",
    "tier4_roi_mean = df1.loc[df1['budget_tier'] == 'tier_4']['return_on_investment'].mean()\n",
    "tier3_roi_mean = df1.loc[df1['budget_tier'] == 'tier_3']['return_on_investment'].mean()\n",
    "tier2_roi_mean = df1.loc[df1['budget_tier'] == 'tier_2']['return_on_investment'].mean()\n",
    "tier1_roi_mean = df1.loc[df1['budget_tier'] == 'tier_1']['return_on_investment'].mean()\n",
    "print(highend_roi_mean, tier4_roi_mean, tier3_roi_mean, tier2_roi_mean, tier1_roi_mean)"
   ]
  },
  {
   "cell_type": "code",
   "execution_count": 39,
   "metadata": {},
   "outputs": [
    {
     "name": "stdout",
     "output_type": "stream",
     "text": [
      "   Tiers  ROI_Mean\n",
      "0      5  3.458412\n",
      "1      4  3.659275\n",
      "2      3  4.962560\n",
      "3      2  5.641559\n",
      "4      1  9.500254\n"
     ]
    }
   ],
   "source": [
    "#creating a new df for tier ROI means\n",
    "tier_roi_means = {\n",
    "    'Tiers':[5,4,3,2,1],\n",
    "    'ROI_Mean':[highend_roi_mean, tier4_roi_mean, tier3_roi_mean, \n",
    "                 tier2_roi_mean, tier1_roi_mean]}\n",
    "    \n",
    "scatter_df = pd.DataFrame(tier_roi_means)\n",
    "print(scatter_df)"
   ]
  },
  {
   "cell_type": "code",
   "execution_count": 40,
   "metadata": {},
   "outputs": [],
   "source": [
    "#plotting imports\n",
    "import matplotlib.pyplot as plt\n",
    "from matplotlib import style\n",
    "style.use('ggplot')"
   ]
  },
  {
   "cell_type": "code",
   "execution_count": 41,
   "metadata": {},
   "outputs": [
    {
     "data": {
      "image/png": "[encoded data removed]",
      "text/plain": [
       "<Figure size 720x432 with 1 Axes>"
      ]
     },
     "metadata": {},
     "output_type": "display_data"
    }
   ],
   "source": [
    "fix, ax = plt.subplots(figsize=(10,6))\n",
    "\n",
    "ax.scatter(x='production_budget', y='return_on_investment', data=df1);"
   ]
  },
  {
   "cell_type": "code",
   "execution_count": 42,
   "metadata": {},
   "outputs": [],
   "source": [
    "#find slope 'm'\n",
    "def slope(x, y):\n",
    "    rho = np.corrcoef(x, y)[0][1]\n",
    "    s_y = y.std()\n",
    "    s_x = x.std()\n",
    "\n",
    "    m = rho * s_y / s_x\n",
    "    return m\n",
    "    \n",
    "m = slope(df1['production_budget'], df1['return_on_investment'])"
   ]
  },
  {
   "cell_type": "code",
   "execution_count": 43,
   "metadata": {},
   "outputs": [],
   "source": [
    "#find intercept 'c'\n",
    "def intercept(m, x, y):\n",
    "    y_mean = y.mean()\n",
    "    x_mean = x.mean()\n",
    "\n",
    "    # calculating intercept estimate\n",
    "    c = y_mean - m * x_mean\n",
    "    return c\n",
    "    \n",
    "c = intercept(m, df1['production_budget'], df1['return_on_investment'])"
   ]
  },
  {
   "cell_type": "code",
   "execution_count": 44,
   "metadata": {},
   "outputs": [
    {
     "data": {
      "image/png": "[encoded data removed]",
      "text/plain": [
       "<Figure size 432x288 with 1 Axes>"
      ]
     },
     "metadata": {},
     "output_type": "display_data"
    }
   ],
   "source": [
    "#Plotting the line\n",
    "def best_fit(x, y):\n",
    "    # Create a scatter plot of x vs. y\n",
    "    fig, ax = plt.subplots()\n",
    "    ax.scatter(x, y, label=\"Data\")\n",
    "\n",
    "    # Calculate coefficient and intercept\n",
    "    m = slope(x, y)\n",
    "    c = intercept(m, x, y)\n",
    "    \n",
    "    # Plot line created by coefficient and intercept\n",
    "    regression_line = m * x + c\n",
    "    ax.plot(x, regression_line, label= \"Regression Line\", color='blue')\n",
    "    ax.legend()\n",
    "    \n",
    "best_fit(df1['production_budget'], df1['return_on_investment'])"
   ]
  },
  {
   "cell_type": "code",
   "execution_count": 45,
   "metadata": {},
   "outputs": [
    {
     "data": {
      "image/png": "[encoded data removed]",
      "text/plain": [
       "<Figure size 720x432 with 1 Axes>"
      ]
     },
     "metadata": {},
     "output_type": "display_data"
    }
   ],
   "source": [
    "#using means inseatd of raw data\n",
    "fix, ax = plt.subplots(figsize=(10,6))\n",
    "\n",
    "ax.scatter(x='Tiers', y='ROI_Mean', data=scatter_df);"
   ]
  },
  {
   "cell_type": "code",
   "execution_count": 46,
   "metadata": {},
   "outputs": [
    {
     "data": {
      "image/png": "[encoded data removed]",
      "text/plain": [
       "<Figure size 432x288 with 1 Axes>"
      ]
     },
     "metadata": {},
     "output_type": "display_data"
    }
   ],
   "source": [
    "Plotting the line\n",
    "def best_fit(x, y):\n",
    "    # Create a scatter plot of x vs. y\n",
    "    fig, ax = plt.subplots()\n",
    "    ax.scatter(x, y, label=\"D#ata\")\n",
    "\n",
    "    # Calculate coefficient and intercept\n",
    "    m = slope(x, y)\n",
    "    c = intercept(m, x, y)\n",
    "    \n",
    "    # Plot line created by coefficient and intercept\n",
    "    regression_line = m * x + c\n",
    "    ax.plot(x, regression_line, label= \"Regression Line\", color='red')\n",
    "    ax.get_lines()[0].set_color(\"blue\")\n",
    "    ax.legend()\n",
    "    \n",
    "best_fit(scatter_df['Tiers'], scatter_df['ROI_Mean'])"
   ]
  },
  {
   "cell_type": "markdown",
   "metadata": {},
   "source": [
    "# ANOVA Test"
   ]
  },
  {
   "cell_type": "code",
   "execution_count": 72,
   "metadata": {},
   "outputs": [],
   "source": [
    "from scipy import stats"
   ]
  },
  {
   "cell_type": "code",
   "execution_count": 74,
   "metadata": {},
   "outputs": [
    {
     "data": {
      "text/plain": [
       "F_onewayResult(statistic=11.146558437147606, pvalue=7.636720371960759e-09)"
      ]
     },
     "execution_count": 74,
     "metadata": {},
     "output_type": "execute_result"
    }
   ],
   "source": [
    "result = stats.f_oneway(df_tier1['return_on_investment'], df_tier2['return_on_investment'], \n",
    "                        df_tier3['return_on_investment'], df_tier4['return_on_investment'], df_high_end['return_on_investment'])\n",
    "result"
   ]
  },
  {
   "cell_type": "markdown",
   "metadata": {},
   "source": [
    "# EDA Budget - All ROIs"
   ]
  },
  {
   "cell_type": "code",
   "execution_count": 84,
   "metadata": {},
   "outputs": [],
   "source": [
    "import pandas as pd\n",
    "import numpy as np"
   ]
  },
  {
   "cell_type": "code",
   "execution_count": 85,
   "metadata": {},
   "outputs": [],
   "source": [
    "budget = pd.read_csv('../zippedData/tn.movie_budgets.csv')"
   ]
  },
  {
   "cell_type": "code",
   "execution_count": 86,
   "metadata": {},
   "outputs": [],
   "source": [
    "#change dates to datetime objects\n",
    "budget['release_date'] = pd.to_datetime(budget['release_date'])"
   ]
  },
  {
   "cell_type": "code",
   "execution_count": 87,
   "metadata": {},
   "outputs": [],
   "source": [
    "#remove commas from gross figures\n",
    "budget = budget.replace(',','', regex=True)"
   ]
  },
  {
   "cell_type": "code",
   "execution_count": 88,
   "metadata": {},
   "outputs": [],
   "source": [
    "#make this one line if possible\n",
    "budget['production_budget']= budget['production_budget'].str[1:]\n",
    "budget['domestic_gross'] = budget['domestic_gross'].str[1:]\n",
    "budget['worldwide_gross'] = budget['worldwide_gross'].str[1:]"
   ]
  },
  {
   "cell_type": "code",
   "execution_count": 89,
   "metadata": {},
   "outputs": [],
   "source": [
    "budget[['production_budget', 'domestic_gross', 'worldwide_gross']]= budget[['production_budget', 'domestic_gross', 'worldwide_gross']].astype(int)"
   ]
  },
  {
   "cell_type": "code",
   "execution_count": 90,
   "metadata": {},
   "outputs": [
    {
     "name": "stdout",
     "output_type": "stream",
     "text": [
      "<class 'pandas.core.frame.DataFrame'>\n",
      "RangeIndex: 5782 entries, 0 to 5781\n",
      "Data columns (total 6 columns):\n",
      " #   Column             Non-Null Count  Dtype         \n",
      "---  ------             --------------  -----         \n",
      " 0   id                 5782 non-null   int64         \n",
      " 1   release_date       5782 non-null   datetime64[ns]\n",
      " 2   movie              5782 non-null   object        \n",
      " 3   production_budget  5782 non-null   int64         \n",
      " 4   domestic_gross     5782 non-null   int64         \n",
      " 5   worldwide_gross    5782 non-null   int64         \n",
      "dtypes: datetime64[ns](1), int64(4), object(1)\n",
      "memory usage: 271.2+ KB\n"
     ]
    }
   ],
   "source": [
    "budget.info()"
   ]
  },
  {
   "cell_type": "code",
   "execution_count": 91,
   "metadata": {},
   "outputs": [],
   "source": [
    "#Create a new column to determine how much a movie made against its budget\n",
    "budget[\"return_on_investment\"]= budget['worldwide_gross']/budget['production_budget']\n"
   ]
  },
  {
   "cell_type": "code",
   "execution_count": 94,
   "metadata": {},
   "outputs": [
    {
     "name": "stdout",
     "output_type": "stream",
     "text": [
      "<class 'pandas.core.frame.DataFrame'>\n",
      "Int64Index: 1920 entries, 1 to 5780\n",
      "Data columns (total 8 columns):\n",
      " #   Column                Non-Null Count  Dtype         \n",
      "---  ------                --------------  -----         \n",
      " 0   id                    1920 non-null   int64         \n",
      " 1   release_date          1920 non-null   datetime64[ns]\n",
      " 2   movie                 1920 non-null   object        \n",
      " 3   production_budget     1920 non-null   int64         \n",
      " 4   domestic_gross        1920 non-null   int64         \n",
      " 5   worldwide_gross       1920 non-null   int64         \n",
      " 6   return_on_investment  1920 non-null   float64       \n",
      " 7   year                  1920 non-null   int64         \n",
      "dtypes: datetime64[ns](1), float64(1), int64(5), object(1)\n",
      "memory usage: 135.0+ KB\n"
     ]
    }
   ],
   "source": [
    "budget['year'] = budget['release_date'].dt.year\n",
    "budget_recent = budget.loc[budget['year']>2010]\n",
    "budget_recent.info()"
   ]
  },
  {
   "cell_type": "markdown",
   "metadata": {},
   "source": [
    "# MERGE HERE"
   ]
  },
  {
   "cell_type": "code",
   "execution_count": null,
   "metadata": {},
   "outputs": [],
   "source": [
    "#imports and connect to SQL\n",
    "import pandas as pd\n",
    "import sqlite3\n",
    "import pandasql\n",
    "import matplotlib.pyplot as plt\n",
    "\n",
    "\n",
    "conn = sqlite3.connect('../zippedData/im.db')"
   ]
  },
  {
   "cell_type": "code",
   "execution_count": 93,
   "metadata": {},
   "outputs": [],
   "source": [
    "df_all = budget_recent"
   ]
  },
  {
   "cell_type": "code",
   "execution_count": 82,
   "metadata": {},
   "outputs": [
    {
     "name": "stderr",
     "output_type": "stream",
     "text": [
      "/Users/jf/anaconda3/envs/learn-env/lib/python3.8/site-packages/pandas/core/frame.py:4163: SettingWithCopyWarning: \n",
      "A value is trying to be set on a copy of a slice from a DataFrame\n",
      "\n",
      "See the caveats in the documentation: https://pandas.pydata.org/pandas-docs/stable/user_guide/indexing.html#returning-a-view-versus-a-copy\n",
      "  return super().drop(\n",
      "/Users/jf/anaconda3/envs/learn-env/lib/python3.8/site-packages/pandas/core/frame.py:4163: SettingWithCopyWarning: \n",
      "A value is trying to be set on a copy of a slice from a DataFrame\n",
      "\n",
      "See the caveats in the documentation: https://pandas.pydata.org/pandas-docs/stable/user_guide/indexing.html#returning-a-view-versus-a-copy\n",
      "  return super().drop(\n"
     ]
    }
   ],
   "source": [
    "df_all.drop(df_all[df_all['return_on_investment'] == 416.564740].index, inplace = True)\n",
    "df_all.drop(df_all[df_all['return_on_investment'] == 101.759490].index, inplace = True)"
   ]
  },
  {
   "cell_type": "code",
   "execution_count": 83,
   "metadata": {},
   "outputs": [
    {
     "data": {
      "text/html": [
       "<div>\n",
       "<style scoped>\n",
       "    .dataframe tbody tr th:only-of-type {\n",
       "        vertical-align: middle;\n",
       "    }\n",
       "\n",
       "    .dataframe tbody tr th {\n",
       "        vertical-align: top;\n",
       "    }\n",
       "\n",
       "    .dataframe thead th {\n",
       "        text-align: right;\n",
       "    }\n",
       "</style>\n",
       "<table border=\"1\" class=\"dataframe\">\n",
       "  <thead>\n",
       "    <tr style=\"text-align: right;\">\n",
       "      <th></th>\n",
       "      <th>id</th>\n",
       "      <th>production_budget</th>\n",
       "      <th>domestic_gross</th>\n",
       "      <th>worldwide_gross</th>\n",
       "      <th>return_on_investment</th>\n",
       "      <th>year</th>\n",
       "    </tr>\n",
       "  </thead>\n",
       "  <tbody>\n",
       "    <tr>\n",
       "      <th>count</th>\n",
       "      <td>1918.000000</td>\n",
       "      <td>1.918000e+03</td>\n",
       "      <td>1.918000e+03</td>\n",
       "      <td>1.918000e+03</td>\n",
       "      <td>1918.000000</td>\n",
       "      <td>1918.000000</td>\n",
       "    </tr>\n",
       "    <tr>\n",
       "      <th>mean</th>\n",
       "      <td>50.913452</td>\n",
       "      <td>3.702384e+07</td>\n",
       "      <td>4.519635e+07</td>\n",
       "      <td>1.152861e+08</td>\n",
       "      <td>3.018730</td>\n",
       "      <td>2014.383733</td>\n",
       "    </tr>\n",
       "    <tr>\n",
       "      <th>std</th>\n",
       "      <td>28.575259</td>\n",
       "      <td>5.235676e+07</td>\n",
       "      <td>8.187301e+07</td>\n",
       "      <td>2.214436e+08</td>\n",
       "      <td>5.304202</td>\n",
       "      <td>2.280942</td>\n",
       "    </tr>\n",
       "    <tr>\n",
       "      <th>min</th>\n",
       "      <td>1.000000</td>\n",
       "      <td>1.400000e+03</td>\n",
       "      <td>0.000000e+00</td>\n",
       "      <td>0.000000e+00</td>\n",
       "      <td>0.000000</td>\n",
       "      <td>2011.000000</td>\n",
       "    </tr>\n",
       "    <tr>\n",
       "      <th>25%</th>\n",
       "      <td>27.000000</td>\n",
       "      <td>4.000000e+06</td>\n",
       "      <td>4.661500e+04</td>\n",
       "      <td>8.984090e+05</td>\n",
       "      <td>0.199660</td>\n",
       "      <td>2012.000000</td>\n",
       "    </tr>\n",
       "    <tr>\n",
       "      <th>50%</th>\n",
       "      <td>51.000000</td>\n",
       "      <td>1.700000e+07</td>\n",
       "      <td>1.347721e+07</td>\n",
       "      <td>2.855919e+07</td>\n",
       "      <td>1.611241</td>\n",
       "      <td>2014.000000</td>\n",
       "    </tr>\n",
       "    <tr>\n",
       "      <th>75%</th>\n",
       "      <td>76.000000</td>\n",
       "      <td>4.287500e+07</td>\n",
       "      <td>5.420593e+07</td>\n",
       "      <td>1.182423e+08</td>\n",
       "      <td>3.628817</td>\n",
       "      <td>2016.000000</td>\n",
       "    </tr>\n",
       "    <tr>\n",
       "      <th>max</th>\n",
       "      <td>100.000000</td>\n",
       "      <td>4.106000e+08</td>\n",
       "      <td>9.366622e+08</td>\n",
       "      <td>2.053311e+09</td>\n",
       "      <td>66.580591</td>\n",
       "      <td>2020.000000</td>\n",
       "    </tr>\n",
       "  </tbody>\n",
       "</table>\n",
       "</div>"
      ],
      "text/plain": [
       "                id  production_budget  domestic_gross  worldwide_gross  \\\n",
       "count  1918.000000       1.918000e+03    1.918000e+03     1.918000e+03   \n",
       "mean     50.913452       3.702384e+07    4.519635e+07     1.152861e+08   \n",
       "std      28.575259       5.235676e+07    8.187301e+07     2.214436e+08   \n",
       "min       1.000000       1.400000e+03    0.000000e+00     0.000000e+00   \n",
       "25%      27.000000       4.000000e+06    4.661500e+04     8.984090e+05   \n",
       "50%      51.000000       1.700000e+07    1.347721e+07     2.855919e+07   \n",
       "75%      76.000000       4.287500e+07    5.420593e+07     1.182423e+08   \n",
       "max     100.000000       4.106000e+08    9.366622e+08     2.053311e+09   \n",
       "\n",
       "       return_on_investment         year  \n",
       "count           1918.000000  1918.000000  \n",
       "mean               3.018730  2014.383733  \n",
       "std                5.304202     2.280942  \n",
       "min                0.000000  2011.000000  \n",
       "25%                0.199660  2012.000000  \n",
       "50%                1.611241  2014.000000  \n",
       "75%                3.628817  2016.000000  \n",
       "max               66.580591  2020.000000  "
      ]
     },
     "execution_count": 83,
     "metadata": {},
     "output_type": "execute_result"
    }
   ],
   "source": [
    "df_all.describe()"
   ]
  },
  {
   "cell_type": "code",
   "execution_count": 80,
   "metadata": {},
   "outputs": [
    {
     "name": "stderr",
     "output_type": "stream",
     "text": [
      "<ipython-input-80-1760769755c5>:12: SettingWithCopyWarning: \n",
      "A value is trying to be set on a copy of a slice from a DataFrame.\n",
      "Try using .loc[row_indexer,col_indexer] = value instead\n",
      "\n",
      "See the caveats in the documentation: https://pandas.pydata.org/pandas-docs/stable/user_guide/indexing.html#returning-a-view-versus-a-copy\n",
      "  df_all['budget_tier'] = np.select(conditions, values)\n"
     ]
    },
    {
     "data": {
      "text/html": [
       "<div>\n",
       "<style scoped>\n",
       "    .dataframe tbody tr th:only-of-type {\n",
       "        vertical-align: middle;\n",
       "    }\n",
       "\n",
       "    .dataframe tbody tr th {\n",
       "        vertical-align: top;\n",
       "    }\n",
       "\n",
       "    .dataframe thead th {\n",
       "        text-align: right;\n",
       "    }\n",
       "</style>\n",
       "<table border=\"1\" class=\"dataframe\">\n",
       "  <thead>\n",
       "    <tr style=\"text-align: right;\">\n",
       "      <th></th>\n",
       "      <th>id</th>\n",
       "      <th>release_date</th>\n",
       "      <th>movie</th>\n",
       "      <th>production_budget</th>\n",
       "      <th>domestic_gross</th>\n",
       "      <th>worldwide_gross</th>\n",
       "      <th>return_on_investment</th>\n",
       "      <th>year</th>\n",
       "      <th>budget_tier</th>\n",
       "    </tr>\n",
       "  </thead>\n",
       "  <tbody>\n",
       "    <tr>\n",
       "      <th>1</th>\n",
       "      <td>2</td>\n",
       "      <td>2011-05-20</td>\n",
       "      <td>Pirates of the Caribbean: On Stranger Tides</td>\n",
       "      <td>410600000</td>\n",
       "      <td>241063875</td>\n",
       "      <td>1045663875</td>\n",
       "      <td>2.546673</td>\n",
       "      <td>2011</td>\n",
       "      <td>tier_4</td>\n",
       "    </tr>\n",
       "    <tr>\n",
       "      <th>2</th>\n",
       "      <td>3</td>\n",
       "      <td>2019-06-07</td>\n",
       "      <td>Dark Phoenix</td>\n",
       "      <td>350000000</td>\n",
       "      <td>42762350</td>\n",
       "      <td>149762350</td>\n",
       "      <td>0.427892</td>\n",
       "      <td>2019</td>\n",
       "      <td>tier_4</td>\n",
       "    </tr>\n",
       "    <tr>\n",
       "      <th>3</th>\n",
       "      <td>4</td>\n",
       "      <td>2015-05-01</td>\n",
       "      <td>Avengers: Age of Ultron</td>\n",
       "      <td>330600000</td>\n",
       "      <td>459005868</td>\n",
       "      <td>1403013963</td>\n",
       "      <td>4.243841</td>\n",
       "      <td>2015</td>\n",
       "      <td>tier_4</td>\n",
       "    </tr>\n",
       "    <tr>\n",
       "      <th>4</th>\n",
       "      <td>5</td>\n",
       "      <td>2017-12-15</td>\n",
       "      <td>Star Wars Ep. VIII: The Last Jedi</td>\n",
       "      <td>317000000</td>\n",
       "      <td>620181382</td>\n",
       "      <td>1316721747</td>\n",
       "      <td>4.153696</td>\n",
       "      <td>2017</td>\n",
       "      <td>tier_4</td>\n",
       "    </tr>\n",
       "    <tr>\n",
       "      <th>5</th>\n",
       "      <td>6</td>\n",
       "      <td>2015-12-18</td>\n",
       "      <td>Star Wars Ep. VII: The Force Awakens</td>\n",
       "      <td>306000000</td>\n",
       "      <td>936662225</td>\n",
       "      <td>2053311220</td>\n",
       "      <td>6.710167</td>\n",
       "      <td>2015</td>\n",
       "      <td>tier_4</td>\n",
       "    </tr>\n",
       "    <tr>\n",
       "      <th>...</th>\n",
       "      <td>...</td>\n",
       "      <td>...</td>\n",
       "      <td>...</td>\n",
       "      <td>...</td>\n",
       "      <td>...</td>\n",
       "      <td>...</td>\n",
       "      <td>...</td>\n",
       "      <td>...</td>\n",
       "      <td>...</td>\n",
       "    </tr>\n",
       "    <tr>\n",
       "      <th>5761</th>\n",
       "      <td>62</td>\n",
       "      <td>2014-12-31</td>\n",
       "      <td>Stories of Our Lives</td>\n",
       "      <td>15000</td>\n",
       "      <td>0</td>\n",
       "      <td>0</td>\n",
       "      <td>0.000000</td>\n",
       "      <td>2014</td>\n",
       "      <td>tier_1</td>\n",
       "    </tr>\n",
       "    <tr>\n",
       "      <th>5771</th>\n",
       "      <td>72</td>\n",
       "      <td>2015-05-19</td>\n",
       "      <td>Family Motocross</td>\n",
       "      <td>10000</td>\n",
       "      <td>0</td>\n",
       "      <td>0</td>\n",
       "      <td>0.000000</td>\n",
       "      <td>2015</td>\n",
       "      <td>tier_1</td>\n",
       "    </tr>\n",
       "    <tr>\n",
       "      <th>5772</th>\n",
       "      <td>73</td>\n",
       "      <td>2012-01-13</td>\n",
       "      <td>Newlyweds</td>\n",
       "      <td>9000</td>\n",
       "      <td>4584</td>\n",
       "      <td>4584</td>\n",
       "      <td>0.509333</td>\n",
       "      <td>2012</td>\n",
       "      <td>tier_1</td>\n",
       "    </tr>\n",
       "    <tr>\n",
       "      <th>5777</th>\n",
       "      <td>78</td>\n",
       "      <td>2018-12-31</td>\n",
       "      <td>Red 11</td>\n",
       "      <td>7000</td>\n",
       "      <td>0</td>\n",
       "      <td>0</td>\n",
       "      <td>0.000000</td>\n",
       "      <td>2018</td>\n",
       "      <td>tier_1</td>\n",
       "    </tr>\n",
       "    <tr>\n",
       "      <th>5780</th>\n",
       "      <td>81</td>\n",
       "      <td>2015-09-29</td>\n",
       "      <td>A Plague So Pleasant</td>\n",
       "      <td>1400</td>\n",
       "      <td>0</td>\n",
       "      <td>0</td>\n",
       "      <td>0.000000</td>\n",
       "      <td>2015</td>\n",
       "      <td>tier_1</td>\n",
       "    </tr>\n",
       "  </tbody>\n",
       "</table>\n",
       "<p>1919 rows × 9 columns</p>\n",
       "</div>"
      ],
      "text/plain": [
       "      id release_date                                        movie  \\\n",
       "1      2   2011-05-20  Pirates of the Caribbean: On Stranger Tides   \n",
       "2      3   2019-06-07                                 Dark Phoenix   \n",
       "3      4   2015-05-01                      Avengers: Age of Ultron   \n",
       "4      5   2017-12-15            Star Wars Ep. VIII: The Last Jedi   \n",
       "5      6   2015-12-18         Star Wars Ep. VII: The Force Awakens   \n",
       "...   ..          ...                                          ...   \n",
       "5761  62   2014-12-31                         Stories of Our Lives   \n",
       "5771  72   2015-05-19                             Family Motocross   \n",
       "5772  73   2012-01-13                                    Newlyweds   \n",
       "5777  78   2018-12-31                                       Red 11   \n",
       "5780  81   2015-09-29                         A Plague So Pleasant   \n",
       "\n",
       "      production_budget  domestic_gross  worldwide_gross  \\\n",
       "1             410600000       241063875       1045663875   \n",
       "2             350000000        42762350        149762350   \n",
       "3             330600000       459005868       1403013963   \n",
       "4             317000000       620181382       1316721747   \n",
       "5             306000000       936662225       2053311220   \n",
       "...                 ...             ...              ...   \n",
       "5761              15000               0                0   \n",
       "5771              10000               0                0   \n",
       "5772               9000            4584             4584   \n",
       "5777               7000               0                0   \n",
       "5780               1400               0                0   \n",
       "\n",
       "      return_on_investment  year budget_tier  \n",
       "1                 2.546673  2011      tier_4  \n",
       "2                 0.427892  2019      tier_4  \n",
       "3                 4.243841  2015      tier_4  \n",
       "4                 4.153696  2017      tier_4  \n",
       "5                 6.710167  2015      tier_4  \n",
       "...                    ...   ...         ...  \n",
       "5761              0.000000  2014      tier_1  \n",
       "5771              0.000000  2015      tier_1  \n",
       "5772              0.509333  2012      tier_1  \n",
       "5777              0.000000  2018      tier_1  \n",
       "5780              0.000000  2015      tier_1  \n",
       "\n",
       "[1919 rows x 9 columns]"
      ]
     },
     "execution_count": 80,
     "metadata": {},
     "output_type": "execute_result"
    }
   ],
   "source": [
    "# create a list of our conditions\n",
    "conditions = [\n",
    "    (df_all['production_budget'] <= 4000000),\n",
    "    (df_all['production_budget'] > 4000000) & (df_all['production_budget'] <= 17000000),\n",
    "    (df_all['production_budget'] > 17000000) & (df_all['production_budget'] <= 42000000),\n",
    "    (df_all['production_budget'] > 42000000)]\n",
    "\n",
    "# create a list of the values we want to assign for each condition\n",
    "values = ['tier_1', 'tier_2', 'tier_3', 'tier_4']\n",
    "\n",
    "# create a new column and use np.select to assign values to it using our lists as arguments\n",
    "df_all['budget_tier'] = np.select(conditions, values)\n",
    "\n",
    "# display updated DataFrame\n",
    "df_all"
   ]
  },
  {
   "cell_type": "code",
   "execution_count": 59,
   "metadata": {},
   "outputs": [],
   "source": [
    "all_tier4 = df_all.loc[df_all['budget_tier'] == 'tier_4']\n",
    "all_tier3 = df_all.loc[df_all['budget_tier'] == 'tier_3']\n",
    "all_tier2 = df_all.loc[df_all['budget_tier'] == 'tier_2']\n",
    "all_tier1 = df_all.loc[df_all['budget_tier'] == 'tier_1']"
   ]
  },
  {
   "cell_type": "code",
   "execution_count": 81,
   "metadata": {},
   "outputs": [
    {
     "data": {
      "text/plain": [
       "count    762.000000\n",
       "mean       2.700516\n",
       "std        2.867342\n",
       "min        0.000000\n",
       "25%        0.823850\n",
       "50%        2.023248\n",
       "75%        3.437075\n",
       "max       21.317558\n",
       "Name: return_on_investment, dtype: float64"
      ]
     },
     "execution_count": 81,
     "metadata": {},
     "output_type": "execute_result"
    }
   ],
   "source": [
    "all_tier4['return_on_investment'].describe()"
   ]
  },
  {
   "cell_type": "code",
   "execution_count": 62,
   "metadata": {},
   "outputs": [
    {
     "data": {
      "text/plain": [
       "count    127.000000\n",
       "mean       3.461962\n",
       "std        4.199202\n",
       "min        0.000000\n",
       "25%        0.705687\n",
       "50%        2.020304\n",
       "75%        4.168737\n",
       "max       25.597236\n",
       "Name: return_on_investment, dtype: float64"
      ]
     },
     "execution_count": 62,
     "metadata": {},
     "output_type": "execute_result"
    }
   ],
   "source": [
    "all_tier3['return_on_investment'].describe()"
   ]
  },
  {
   "cell_type": "code",
   "execution_count": 63,
   "metadata": {},
   "outputs": [
    {
     "data": {
      "text/plain": [
       "count    156.000000\n",
       "mean       3.415772\n",
       "std        5.654212\n",
       "min        0.000000\n",
       "25%        0.248235\n",
       "50%        1.194107\n",
       "75%        4.944799\n",
       "max       44.895652\n",
       "Name: return_on_investment, dtype: float64"
      ]
     },
     "execution_count": 63,
     "metadata": {},
     "output_type": "execute_result"
    }
   ],
   "source": [
    "all_tier2['return_on_investment'].describe()"
   ]
  },
  {
   "cell_type": "code",
   "execution_count": 64,
   "metadata": {},
   "outputs": [
    {
     "data": {
      "text/plain": [
       "count    655.000000\n",
       "mean       3.272210\n",
       "std        8.684769\n",
       "min        0.000000\n",
       "25%        0.000000\n",
       "50%        0.117508\n",
       "75%        2.466313\n",
       "max      101.759490\n",
       "Name: return_on_investment, dtype: float64"
      ]
     },
     "execution_count": 64,
     "metadata": {},
     "output_type": "execute_result"
    }
   ],
   "source": [
    "all_tier1['return_on_investment'].describe()"
   ]
  },
  {
   "cell_type": "code",
   "execution_count": 75,
   "metadata": {},
   "outputs": [
    {
     "data": {
      "text/plain": [
       "F_onewayResult(statistic=1.3894298181568667, pvalue=0.235150605626064)"
      ]
     },
     "execution_count": 75,
     "metadata": {},
     "output_type": "execute_result"
    }
   ],
   "source": [
    "result = stats.f_oneway(all_tier1['return_on_investment'], all_tier2['return_on_investment'], \n",
    "                        all_tier3['return_on_investment'], all_tier4['return_on_investment'], all_high_end['return_on_investment'])\n",
    "result"
   ]
  },
  {
   "cell_type": "code",
   "execution_count": 65,
   "metadata": {},
   "outputs": [],
   "source": [
    "import seaborn as sns"
   ]
  },
  {
   "cell_type": "code",
   "execution_count": 66,
   "metadata": {},
   "outputs": [
    {
     "data": {
      "image/png": "[encoded data removed]",
      "text/plain": [
       "<Figure size 432x288 with 1 Axes>"
      ]
     },
     "metadata": {},
     "output_type": "display_data"
    }
   ],
   "source": [
    "sns.kdeplot(all_tier1['return_on_investment']);"
   ]
  },
  {
   "cell_type": "code",
   "execution_count": 67,
   "metadata": {},
   "outputs": [
    {
     "data": {
      "image/png": "[encoded data removed]",
      "text/plain": [
       "<Figure size 432x288 with 1 Axes>"
      ]
     },
     "metadata": {},
     "output_type": "display_data"
    }
   ],
   "source": [
    "sns.kdeplot(all_tier2['return_on_investment']);"
   ]
  }
 ],
 "metadata": {
  "kernelspec": {
   "display_name": "Python (learn-env)",
   "language": "python",
   "name": "learn-env"
  },
  "language_info": {
   "codemirror_mode": {
    "name": "ipython",
    "version": 3
   },
   "file_extension": ".py",
   "mimetype": "text/x-python",
   "name": "python",
   "nbconvert_exporter": "python",
   "pygments_lexer": "ipython3",
   "version": "3.8.5"
  }
 },
 "nbformat": 4,
 "nbformat_minor": 4
}
